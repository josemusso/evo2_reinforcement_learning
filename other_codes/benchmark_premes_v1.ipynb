{
 "cells": [
  {
   "cell_type": "code",
   "execution_count": 23,
   "metadata": {},
   "outputs": [],
   "source": [
    "import numpy as np\n",
    "import pandas as pd\n",
    "import matplotlib.pyplot as plt\n",
    "import seaborn as sns\n",
    "import plotly.express as px\n",
    "%matplotlib inline\n",
    "\n",
    "from glob import glob"
   ]
  },
  {
   "cell_type": "code",
   "execution_count": 2,
   "metadata": {},
   "outputs": [],
   "source": [
    "df1 = pd.read_csv('../benchmarks/premes_v1/sin_restricciones/progress.csv')\n",
    "df2 = pd.read_csv('../benchmarks/premes_v1/con_restricciones/progress.csv')\n",
    "\n",
    "df3 = pd.read_csv('../benchmarks/premes_v1/sin_restricciones_con_repetitividad/progress.csv')\n",
    "df4 = pd.read_csv('../benchmarks/premes_v1/restricciones_con_repititividad/progress.csv')\n",
    "\n",
    "df5 = pd.read_csv('../benchmarks/premes_v1/normalizado_sin_restricciones_sin_repeticion/progress.csv')\n",
    "df6 = pd.read_csv('../benchmarks/premes_v1/normalizado_sin_restricciones_con_repeticion/progress.csv')\n",
    "\n",
    "df7 = pd.read_csv('../benchmarks/premes_v1/normalizado_con_restricciones_sin_repetitividad/progress.csv')\n",
    "df8 = pd.read_csv('../benchmarks/premes_v1/normalizado_con_restricciones_con_repetitividad/progress.csv')"
   ]
  },
  {
   "cell_type": "code",
   "execution_count": 4,
   "metadata": {},
   "outputs": [
    {
     "data": {
      "text/html": [
       "<div>\n",
       "<style scoped>\n",
       "    .dataframe tbody tr th:only-of-type {\n",
       "        vertical-align: middle;\n",
       "    }\n",
       "\n",
       "    .dataframe tbody tr th {\n",
       "        vertical-align: top;\n",
       "    }\n",
       "\n",
       "    .dataframe thead th {\n",
       "        text-align: right;\n",
       "    }\n",
       "</style>\n",
       "<table border=\"1\" class=\"dataframe\">\n",
       "  <thead>\n",
       "    <tr style=\"text-align: right;\">\n",
       "      <th></th>\n",
       "      <th>loss_bc</th>\n",
       "      <th>norm_grads_policy</th>\n",
       "      <th>avg_norm_grads_f</th>\n",
       "      <th>loss_policy</th>\n",
       "      <th>mean_episode_length</th>\n",
       "      <th>total_timesteps</th>\n",
       "      <th>avg_norm_adj</th>\n",
       "      <th>mean_episode_reward</th>\n",
       "      <th>avg_norm_g</th>\n",
       "      <th>explained_variance</th>\n",
       "      <th>norm_grads_q</th>\n",
       "      <th>loss</th>\n",
       "      <th>loss_f</th>\n",
       "      <th>loss_q</th>\n",
       "      <th>avg_norm_k</th>\n",
       "      <th>avg_norm_k_dot_g</th>\n",
       "      <th>entropy</th>\n",
       "      <th>norm_grads</th>\n",
       "      <th>fps</th>\n",
       "    </tr>\n",
       "  </thead>\n",
       "  <tbody>\n",
       "    <tr>\n",
       "      <th>0</th>\n",
       "      <td>-0.0</td>\n",
       "      <td>24.608259</td>\n",
       "      <td>649.141846</td>\n",
       "      <td>-107.262680</td>\n",
       "      <td>4.750</td>\n",
       "      <td>20</td>\n",
       "      <td>46.738384</td>\n",
       "      <td>-2.500</td>\n",
       "      <td>673.005676</td>\n",
       "      <td>0.000004</td>\n",
       "      <td>13.508247</td>\n",
       "      <td>908.839478</td>\n",
       "      <td>-107.262680</td>\n",
       "      <td>2033.281616</td>\n",
       "      <td>3.605505</td>\n",
       "      <td>672.996887</td>\n",
       "      <td>53.863914</td>\n",
       "      <td>28.072035</td>\n",
       "      <td>0</td>\n",
       "    </tr>\n",
       "    <tr>\n",
       "      <th>1</th>\n",
       "      <td>-0.0</td>\n",
       "      <td>54.578075</td>\n",
       "      <td>772.742920</td>\n",
       "      <td>-44.845940</td>\n",
       "      <td>5.350</td>\n",
       "      <td>2020</td>\n",
       "      <td>41.047882</td>\n",
       "      <td>41.075</td>\n",
       "      <td>794.653198</td>\n",
       "      <td>0.002414</td>\n",
       "      <td>30.752523</td>\n",
       "      <td>1437.970093</td>\n",
       "      <td>-44.845940</td>\n",
       "      <td>2966.673828</td>\n",
       "      <td>3.892764</td>\n",
       "      <td>815.269165</td>\n",
       "      <td>52.086807</td>\n",
       "      <td>62.645702</td>\n",
       "      <td>22</td>\n",
       "    </tr>\n",
       "    <tr>\n",
       "      <th>2</th>\n",
       "      <td>-0.0</td>\n",
       "      <td>38.956879</td>\n",
       "      <td>514.191895</td>\n",
       "      <td>-59.936867</td>\n",
       "      <td>5.850</td>\n",
       "      <td>4020</td>\n",
       "      <td>26.245001</td>\n",
       "      <td>81.125</td>\n",
       "      <td>528.614929</td>\n",
       "      <td>0.166830</td>\n",
       "      <td>88.793022</td>\n",
       "      <td>1068.432495</td>\n",
       "      <td>-59.936867</td>\n",
       "      <td>2257.631104</td>\n",
       "      <td>4.546116</td>\n",
       "      <td>563.354675</td>\n",
       "      <td>44.617214</td>\n",
       "      <td>96.963081</td>\n",
       "      <td>23</td>\n",
       "    </tr>\n",
       "    <tr>\n",
       "      <th>3</th>\n",
       "      <td>-0.0</td>\n",
       "      <td>61.162369</td>\n",
       "      <td>460.578583</td>\n",
       "      <td>-67.993080</td>\n",
       "      <td>7.225</td>\n",
       "      <td>6020</td>\n",
       "      <td>23.810673</td>\n",
       "      <td>117.700</td>\n",
       "      <td>472.632751</td>\n",
       "      <td>0.317081</td>\n",
       "      <td>97.373779</td>\n",
       "      <td>1065.296387</td>\n",
       "      <td>-67.993080</td>\n",
       "      <td>2267.359863</td>\n",
       "      <td>4.107499</td>\n",
       "      <td>471.011475</td>\n",
       "      <td>39.054798</td>\n",
       "      <td>114.989082</td>\n",
       "      <td>23</td>\n",
       "    </tr>\n",
       "    <tr>\n",
       "      <th>4</th>\n",
       "      <td>-0.0</td>\n",
       "      <td>93.350395</td>\n",
       "      <td>321.151733</td>\n",
       "      <td>-36.708565</td>\n",
       "      <td>7.400</td>\n",
       "      <td>8020</td>\n",
       "      <td>19.186020</td>\n",
       "      <td>122.700</td>\n",
       "      <td>332.928131</td>\n",
       "      <td>0.479385</td>\n",
       "      <td>98.069748</td>\n",
       "      <td>864.265015</td>\n",
       "      <td>-36.708565</td>\n",
       "      <td>1802.643555</td>\n",
       "      <td>4.231391</td>\n",
       "      <td>364.526459</td>\n",
       "      <td>34.819084</td>\n",
       "      <td>135.395615</td>\n",
       "      <td>24</td>\n",
       "    </tr>\n",
       "  </tbody>\n",
       "</table>\n",
       "</div>"
      ],
      "text/plain": [
       "   loss_bc  norm_grads_policy  avg_norm_grads_f  loss_policy  \\\n",
       "0     -0.0          24.608259        649.141846  -107.262680   \n",
       "1     -0.0          54.578075        772.742920   -44.845940   \n",
       "2     -0.0          38.956879        514.191895   -59.936867   \n",
       "3     -0.0          61.162369        460.578583   -67.993080   \n",
       "4     -0.0          93.350395        321.151733   -36.708565   \n",
       "\n",
       "   mean_episode_length  total_timesteps  avg_norm_adj  mean_episode_reward  \\\n",
       "0                4.750               20     46.738384               -2.500   \n",
       "1                5.350             2020     41.047882               41.075   \n",
       "2                5.850             4020     26.245001               81.125   \n",
       "3                7.225             6020     23.810673              117.700   \n",
       "4                7.400             8020     19.186020              122.700   \n",
       "\n",
       "   avg_norm_g  explained_variance  norm_grads_q         loss      loss_f  \\\n",
       "0  673.005676            0.000004     13.508247   908.839478 -107.262680   \n",
       "1  794.653198            0.002414     30.752523  1437.970093  -44.845940   \n",
       "2  528.614929            0.166830     88.793022  1068.432495  -59.936867   \n",
       "3  472.632751            0.317081     97.373779  1065.296387  -67.993080   \n",
       "4  332.928131            0.479385     98.069748   864.265015  -36.708565   \n",
       "\n",
       "        loss_q  avg_norm_k  avg_norm_k_dot_g    entropy  norm_grads  fps  \n",
       "0  2033.281616    3.605505        672.996887  53.863914   28.072035    0  \n",
       "1  2966.673828    3.892764        815.269165  52.086807   62.645702   22  \n",
       "2  2257.631104    4.546116        563.354675  44.617214   96.963081   23  \n",
       "3  2267.359863    4.107499        471.011475  39.054798  114.989082   23  \n",
       "4  1802.643555    4.231391        364.526459  34.819084  135.395615   24  "
      ]
     },
     "execution_count": 4,
     "metadata": {},
     "output_type": "execute_result"
    }
   ],
   "source": [
    "df1.head()"
   ]
  },
  {
   "cell_type": "code",
   "execution_count": 6,
   "metadata": {},
   "outputs": [],
   "source": [
    "reward_df = pd.DataFrame()\n",
    "reward_df['sin restricciones sin repetitividad sin normalizar'] = df1['mean_episode_reward']\n",
    "reward_df['con restricciones sin repetitividad sin normalizar'] = df2['mean_episode_reward']\n",
    "reward_df['sin restricciones con repetitividad sin normalizar'] = df3['mean_episode_reward']\n",
    "reward_df['con restricciones con repetitividad sin normalizar'] = df4['mean_episode_reward']\n",
    "reward_df['sin restricciones sin repetitividad normalizado'] = df5['mean_episode_reward']\n",
    "reward_df['sin restricciones con repetitividad normalizado'] = df6['mean_episode_reward']\n",
    "reward_df['con restricciones sin repetitividad normalizado'] = df7['mean_episode_reward']\n",
    "reward_df['con restricciones con repetitividad normalizado'] = df8['mean_episode_reward']\n",
    "reward_df.fillna(method='ffill', inplace=True)"
   ]
  },
  {
   "cell_type": "code",
   "execution_count": 50,
   "metadata": {},
   "outputs": [
    {
     "data": {
      "text/html": [
       "<div>\n",
       "<style scoped>\n",
       "    .dataframe tbody tr th:only-of-type {\n",
       "        vertical-align: middle;\n",
       "    }\n",
       "\n",
       "    .dataframe tbody tr th {\n",
       "        vertical-align: top;\n",
       "    }\n",
       "\n",
       "    .dataframe thead th {\n",
       "        text-align: right;\n",
       "    }\n",
       "</style>\n",
       "<table border=\"1\" class=\"dataframe\">\n",
       "  <thead>\n",
       "    <tr style=\"text-align: right;\">\n",
       "      <th></th>\n",
       "      <th>sin restricciones sin repetitividad sin normalizar</th>\n",
       "      <th>con restricciones sin repetitividad sin normalizar</th>\n",
       "      <th>sin restricciones con repetitividad sin normalizar</th>\n",
       "      <th>con restricciones con repetitividad sin normalizar</th>\n",
       "      <th>sin restricciones sin repetitividad normalizado</th>\n",
       "      <th>sin restricciones con repetitividad normalizado</th>\n",
       "      <th>con restricciones sin repetitividad normalizado</th>\n",
       "      <th>con restricciones con repetitividad normalizado</th>\n",
       "    </tr>\n",
       "  </thead>\n",
       "  <tbody>\n",
       "    <tr>\n",
       "      <th>52</th>\n",
       "      <td>315.5</td>\n",
       "      <td>124.000</td>\n",
       "      <td>180.875</td>\n",
       "      <td>107.175</td>\n",
       "      <td>323.675</td>\n",
       "      <td>221.65</td>\n",
       "      <td>158.6</td>\n",
       "      <td>131.925</td>\n",
       "    </tr>\n",
       "    <tr>\n",
       "      <th>53</th>\n",
       "      <td>318.0</td>\n",
       "      <td>124.000</td>\n",
       "      <td>180.875</td>\n",
       "      <td>107.175</td>\n",
       "      <td>324.975</td>\n",
       "      <td>221.65</td>\n",
       "      <td>158.6</td>\n",
       "      <td>131.925</td>\n",
       "    </tr>\n",
       "    <tr>\n",
       "      <th>54</th>\n",
       "      <td>318.0</td>\n",
       "      <td>124.000</td>\n",
       "      <td>180.875</td>\n",
       "      <td>107.175</td>\n",
       "      <td>342.000</td>\n",
       "      <td>221.65</td>\n",
       "      <td>158.6</td>\n",
       "      <td>131.925</td>\n",
       "    </tr>\n",
       "    <tr>\n",
       "      <th>55</th>\n",
       "      <td>318.0</td>\n",
       "      <td>120.425</td>\n",
       "      <td>180.875</td>\n",
       "      <td>107.175</td>\n",
       "      <td>342.000</td>\n",
       "      <td>221.65</td>\n",
       "      <td>158.6</td>\n",
       "      <td>131.925</td>\n",
       "    </tr>\n",
       "    <tr>\n",
       "      <th>56</th>\n",
       "      <td>318.0</td>\n",
       "      <td>121.950</td>\n",
       "      <td>180.875</td>\n",
       "      <td>107.175</td>\n",
       "      <td>336.650</td>\n",
       "      <td>221.65</td>\n",
       "      <td>158.6</td>\n",
       "      <td>131.925</td>\n",
       "    </tr>\n",
       "  </tbody>\n",
       "</table>\n",
       "</div>"
      ],
      "text/plain": [
       "    sin restricciones sin repetitividad sin normalizar  \\\n",
       "52                                              315.5    \n",
       "53                                              318.0    \n",
       "54                                              318.0    \n",
       "55                                              318.0    \n",
       "56                                              318.0    \n",
       "\n",
       "    con restricciones sin repetitividad sin normalizar  \\\n",
       "52                                            124.000    \n",
       "53                                            124.000    \n",
       "54                                            124.000    \n",
       "55                                            120.425    \n",
       "56                                            121.950    \n",
       "\n",
       "    sin restricciones con repetitividad sin normalizar  \\\n",
       "52                                            180.875    \n",
       "53                                            180.875    \n",
       "54                                            180.875    \n",
       "55                                            180.875    \n",
       "56                                            180.875    \n",
       "\n",
       "    con restricciones con repetitividad sin normalizar  \\\n",
       "52                                            107.175    \n",
       "53                                            107.175    \n",
       "54                                            107.175    \n",
       "55                                            107.175    \n",
       "56                                            107.175    \n",
       "\n",
       "    sin restricciones sin repetitividad normalizado  \\\n",
       "52                                          323.675   \n",
       "53                                          324.975   \n",
       "54                                          342.000   \n",
       "55                                          342.000   \n",
       "56                                          336.650   \n",
       "\n",
       "    sin restricciones con repetitividad normalizado  \\\n",
       "52                                           221.65   \n",
       "53                                           221.65   \n",
       "54                                           221.65   \n",
       "55                                           221.65   \n",
       "56                                           221.65   \n",
       "\n",
       "    con restricciones sin repetitividad normalizado  \\\n",
       "52                                            158.6   \n",
       "53                                            158.6   \n",
       "54                                            158.6   \n",
       "55                                            158.6   \n",
       "56                                            158.6   \n",
       "\n",
       "    con restricciones con repetitividad normalizado  \n",
       "52                                          131.925  \n",
       "53                                          131.925  \n",
       "54                                          131.925  \n",
       "55                                          131.925  \n",
       "56                                          131.925  "
      ]
     },
     "execution_count": 50,
     "metadata": {},
     "output_type": "execute_result"
    }
   ],
   "source": [
    "reward_df.tail()"
   ]
  },
  {
   "cell_type": "code",
   "execution_count": 9,
   "metadata": {},
   "outputs": [],
   "source": [
    "loss_df = pd.DataFrame()\n",
    "loss_df['sin restricciones sin repetitividad sin normalizar'] = df1['loss']\n",
    "loss_df['con restricciones sin repetitividad sin normalizar'] = df2['loss']\n",
    "loss_df['sin restricciones con repetitividad sin normalizar'] = df3['loss']\n",
    "loss_df['con restricciones con repetitividad sin normalizar'] = df4['loss']\n",
    "loss_df['sin restricciones sin repetitividad normalizado'] = df5['loss']\n",
    "loss_df['sin restricciones con repetitividad normalizado'] = df6['loss']\n",
    "loss_df['con restricciones sin repetitividad normalizado'] = df7['loss']\n",
    "loss_df['con restricciones con repetitividad normalizado'] = df8['loss']\n",
    "loss_df.fillna(method='ffill', inplace=True)"
   ]
  },
  {
   "cell_type": "code",
   "execution_count": 51,
   "metadata": {},
   "outputs": [
    {
     "data": {
      "text/html": [
       "<div>\n",
       "<style scoped>\n",
       "    .dataframe tbody tr th:only-of-type {\n",
       "        vertical-align: middle;\n",
       "    }\n",
       "\n",
       "    .dataframe tbody tr th {\n",
       "        vertical-align: top;\n",
       "    }\n",
       "\n",
       "    .dataframe thead th {\n",
       "        text-align: right;\n",
       "    }\n",
       "</style>\n",
       "<table border=\"1\" class=\"dataframe\">\n",
       "  <thead>\n",
       "    <tr style=\"text-align: right;\">\n",
       "      <th></th>\n",
       "      <th>sin restricciones sin repetitividad sin normalizar</th>\n",
       "      <th>con restricciones sin repetitividad sin normalizar</th>\n",
       "      <th>sin restricciones con repetitividad sin normalizar</th>\n",
       "      <th>con restricciones con repetitividad sin normalizar</th>\n",
       "      <th>sin restricciones sin repetitividad normalizado</th>\n",
       "      <th>sin restricciones con repetitividad normalizado</th>\n",
       "      <th>con restricciones sin repetitividad normalizado</th>\n",
       "      <th>con restricciones con repetitividad normalizado</th>\n",
       "    </tr>\n",
       "  </thead>\n",
       "  <tbody>\n",
       "    <tr>\n",
       "      <th>52</th>\n",
       "      <td>0.011801</td>\n",
       "      <td>49.647087</td>\n",
       "      <td>0.292582</td>\n",
       "      <td>0.81978</td>\n",
       "      <td>298.003326</td>\n",
       "      <td>32.823544</td>\n",
       "      <td>30.829348</td>\n",
       "      <td>3.552367</td>\n",
       "    </tr>\n",
       "    <tr>\n",
       "      <th>53</th>\n",
       "      <td>0.002015</td>\n",
       "      <td>18.403351</td>\n",
       "      <td>0.292582</td>\n",
       "      <td>0.81978</td>\n",
       "      <td>14.319837</td>\n",
       "      <td>32.823544</td>\n",
       "      <td>30.829348</td>\n",
       "      <td>3.552367</td>\n",
       "    </tr>\n",
       "    <tr>\n",
       "      <th>54</th>\n",
       "      <td>0.267704</td>\n",
       "      <td>0.696455</td>\n",
       "      <td>0.292582</td>\n",
       "      <td>0.81978</td>\n",
       "      <td>0.437365</td>\n",
       "      <td>32.823544</td>\n",
       "      <td>30.829348</td>\n",
       "      <td>3.552367</td>\n",
       "    </tr>\n",
       "    <tr>\n",
       "      <th>55</th>\n",
       "      <td>0.019464</td>\n",
       "      <td>31.513762</td>\n",
       "      <td>0.292582</td>\n",
       "      <td>0.81978</td>\n",
       "      <td>0.067416</td>\n",
       "      <td>32.823544</td>\n",
       "      <td>30.829348</td>\n",
       "      <td>3.552367</td>\n",
       "    </tr>\n",
       "    <tr>\n",
       "      <th>56</th>\n",
       "      <td>0.000744</td>\n",
       "      <td>13.852743</td>\n",
       "      <td>0.292582</td>\n",
       "      <td>0.81978</td>\n",
       "      <td>1615.554321</td>\n",
       "      <td>32.823544</td>\n",
       "      <td>30.829348</td>\n",
       "      <td>3.552367</td>\n",
       "    </tr>\n",
       "  </tbody>\n",
       "</table>\n",
       "</div>"
      ],
      "text/plain": [
       "    sin restricciones sin repetitividad sin normalizar  \\\n",
       "52                                           0.011801    \n",
       "53                                           0.002015    \n",
       "54                                           0.267704    \n",
       "55                                           0.019464    \n",
       "56                                           0.000744    \n",
       "\n",
       "    con restricciones sin repetitividad sin normalizar  \\\n",
       "52                                          49.647087    \n",
       "53                                          18.403351    \n",
       "54                                           0.696455    \n",
       "55                                          31.513762    \n",
       "56                                          13.852743    \n",
       "\n",
       "    sin restricciones con repetitividad sin normalizar  \\\n",
       "52                                           0.292582    \n",
       "53                                           0.292582    \n",
       "54                                           0.292582    \n",
       "55                                           0.292582    \n",
       "56                                           0.292582    \n",
       "\n",
       "    con restricciones con repetitividad sin normalizar  \\\n",
       "52                                            0.81978    \n",
       "53                                            0.81978    \n",
       "54                                            0.81978    \n",
       "55                                            0.81978    \n",
       "56                                            0.81978    \n",
       "\n",
       "    sin restricciones sin repetitividad normalizado  \\\n",
       "52                                       298.003326   \n",
       "53                                        14.319837   \n",
       "54                                         0.437365   \n",
       "55                                         0.067416   \n",
       "56                                      1615.554321   \n",
       "\n",
       "    sin restricciones con repetitividad normalizado  \\\n",
       "52                                        32.823544   \n",
       "53                                        32.823544   \n",
       "54                                        32.823544   \n",
       "55                                        32.823544   \n",
       "56                                        32.823544   \n",
       "\n",
       "    con restricciones sin repetitividad normalizado  \\\n",
       "52                                        30.829348   \n",
       "53                                        30.829348   \n",
       "54                                        30.829348   \n",
       "55                                        30.829348   \n",
       "56                                        30.829348   \n",
       "\n",
       "    con restricciones con repetitividad normalizado  \n",
       "52                                         3.552367  \n",
       "53                                         3.552367  \n",
       "54                                         3.552367  \n",
       "55                                         3.552367  \n",
       "56                                         3.552367  "
      ]
     },
     "execution_count": 51,
     "metadata": {},
     "output_type": "execute_result"
    }
   ],
   "source": [
    "loss_df.tail()"
   ]
  },
  {
   "cell_type": "code",
   "execution_count": 11,
   "metadata": {},
   "outputs": [],
   "source": [
    "mean_episode_length_df = pd.DataFrame()\n",
    "mean_episode_length_df['sin restricciones sin repetitividad sin normalizar'] = df1['mean_episode_length']\n",
    "mean_episode_length_df['con restricciones sin repetitividad sin normalizar'] = df2['mean_episode_length']\n",
    "mean_episode_length_df['sin restricciones con repetitividad sin normalizar'] = df3['mean_episode_length']\n",
    "mean_episode_length_df['con restricciones con repetitividad sin normalizar'] = df4['mean_episode_length']\n",
    "mean_episode_length_df['sin restricciones sin repetitividad normalizado'] = df5['mean_episode_length']\n",
    "mean_episode_length_df['sin restricciones con repetitividad normalizado'] = df6['mean_episode_length']\n",
    "mean_episode_length_df['con restricciones sin repetitividad normalizado'] = df7['mean_episode_length']\n",
    "mean_episode_length_df['con restricciones con repetitividad normalizado'] = df8['mean_episode_length']\n",
    "mean_episode_length_df.fillna(method='ffill', inplace=True)"
   ]
  },
  {
   "cell_type": "code",
   "execution_count": 52,
   "metadata": {},
   "outputs": [
    {
     "data": {
      "text/html": [
       "<div>\n",
       "<style scoped>\n",
       "    .dataframe tbody tr th:only-of-type {\n",
       "        vertical-align: middle;\n",
       "    }\n",
       "\n",
       "    .dataframe tbody tr th {\n",
       "        vertical-align: top;\n",
       "    }\n",
       "\n",
       "    .dataframe thead th {\n",
       "        text-align: right;\n",
       "    }\n",
       "</style>\n",
       "<table border=\"1\" class=\"dataframe\">\n",
       "  <thead>\n",
       "    <tr style=\"text-align: right;\">\n",
       "      <th></th>\n",
       "      <th>sin restricciones sin repetitividad sin normalizar</th>\n",
       "      <th>con restricciones sin repetitividad sin normalizar</th>\n",
       "      <th>sin restricciones con repetitividad sin normalizar</th>\n",
       "      <th>con restricciones con repetitividad sin normalizar</th>\n",
       "      <th>sin restricciones sin repetitividad normalizado</th>\n",
       "      <th>sin restricciones con repetitividad normalizado</th>\n",
       "      <th>con restricciones sin repetitividad normalizado</th>\n",
       "      <th>con restricciones con repetitividad normalizado</th>\n",
       "    </tr>\n",
       "  </thead>\n",
       "  <tbody>\n",
       "    <tr>\n",
       "      <th>52</th>\n",
       "      <td>13.0</td>\n",
       "      <td>9.600</td>\n",
       "      <td>134.225</td>\n",
       "      <td>34.25</td>\n",
       "      <td>12.600</td>\n",
       "      <td>209.825</td>\n",
       "      <td>8.45</td>\n",
       "      <td>284.125</td>\n",
       "    </tr>\n",
       "    <tr>\n",
       "      <th>53</th>\n",
       "      <td>13.0</td>\n",
       "      <td>9.075</td>\n",
       "      <td>134.225</td>\n",
       "      <td>34.25</td>\n",
       "      <td>12.750</td>\n",
       "      <td>209.825</td>\n",
       "      <td>8.45</td>\n",
       "      <td>284.125</td>\n",
       "    </tr>\n",
       "    <tr>\n",
       "      <th>54</th>\n",
       "      <td>13.0</td>\n",
       "      <td>9.575</td>\n",
       "      <td>134.225</td>\n",
       "      <td>34.25</td>\n",
       "      <td>13.000</td>\n",
       "      <td>209.825</td>\n",
       "      <td>8.45</td>\n",
       "      <td>284.125</td>\n",
       "    </tr>\n",
       "    <tr>\n",
       "      <th>55</th>\n",
       "      <td>13.0</td>\n",
       "      <td>6.950</td>\n",
       "      <td>134.225</td>\n",
       "      <td>34.25</td>\n",
       "      <td>13.000</td>\n",
       "      <td>209.825</td>\n",
       "      <td>8.45</td>\n",
       "      <td>284.125</td>\n",
       "    </tr>\n",
       "    <tr>\n",
       "      <th>56</th>\n",
       "      <td>13.0</td>\n",
       "      <td>7.750</td>\n",
       "      <td>134.225</td>\n",
       "      <td>34.25</td>\n",
       "      <td>12.975</td>\n",
       "      <td>209.825</td>\n",
       "      <td>8.45</td>\n",
       "      <td>284.125</td>\n",
       "    </tr>\n",
       "  </tbody>\n",
       "</table>\n",
       "</div>"
      ],
      "text/plain": [
       "    sin restricciones sin repetitividad sin normalizar  \\\n",
       "52                                               13.0    \n",
       "53                                               13.0    \n",
       "54                                               13.0    \n",
       "55                                               13.0    \n",
       "56                                               13.0    \n",
       "\n",
       "    con restricciones sin repetitividad sin normalizar  \\\n",
       "52                                              9.600    \n",
       "53                                              9.075    \n",
       "54                                              9.575    \n",
       "55                                              6.950    \n",
       "56                                              7.750    \n",
       "\n",
       "    sin restricciones con repetitividad sin normalizar  \\\n",
       "52                                            134.225    \n",
       "53                                            134.225    \n",
       "54                                            134.225    \n",
       "55                                            134.225    \n",
       "56                                            134.225    \n",
       "\n",
       "    con restricciones con repetitividad sin normalizar  \\\n",
       "52                                              34.25    \n",
       "53                                              34.25    \n",
       "54                                              34.25    \n",
       "55                                              34.25    \n",
       "56                                              34.25    \n",
       "\n",
       "    sin restricciones sin repetitividad normalizado  \\\n",
       "52                                           12.600   \n",
       "53                                           12.750   \n",
       "54                                           13.000   \n",
       "55                                           13.000   \n",
       "56                                           12.975   \n",
       "\n",
       "    sin restricciones con repetitividad normalizado  \\\n",
       "52                                          209.825   \n",
       "53                                          209.825   \n",
       "54                                          209.825   \n",
       "55                                          209.825   \n",
       "56                                          209.825   \n",
       "\n",
       "    con restricciones sin repetitividad normalizado  \\\n",
       "52                                             8.45   \n",
       "53                                             8.45   \n",
       "54                                             8.45   \n",
       "55                                             8.45   \n",
       "56                                             8.45   \n",
       "\n",
       "    con restricciones con repetitividad normalizado  \n",
       "52                                          284.125  \n",
       "53                                          284.125  \n",
       "54                                          284.125  \n",
       "55                                          284.125  \n",
       "56                                          284.125  "
      ]
     },
     "execution_count": 52,
     "metadata": {},
     "output_type": "execute_result"
    }
   ],
   "source": [
    "mean_episode_length_df.tail()"
   ]
  },
  {
   "cell_type": "code",
   "execution_count": 12,
   "metadata": {},
   "outputs": [],
   "source": [
    "variance_df = pd.DataFrame()\n",
    "variance_df['sin restricciones sin repetitividad sin normalizar'] = df1['explained_variance']\n",
    "variance_df['con restricciones sin repetitividad sin normalizar'] = df2['explained_variance']\n",
    "variance_df['sin restricciones con repetitividad sin normalizar'] = df3['explained_variance']\n",
    "variance_df['con restricciones con repetitividad sin normalizar'] = df4['explained_variance']\n",
    "variance_df['sin restricciones sin repetitividad normalizado'] = df5['explained_variance']\n",
    "variance_df['sin restricciones con repetitividad normalizado'] = df6['explained_variance']\n",
    "variance_df['con restricciones sin repetitividad normalizado'] = df7['explained_variance']\n",
    "variance_df['con restricciones con repetitividad normalizado'] = df8['explained_variance']\n",
    "variance_df.fillna(method='ffill', inplace=True)"
   ]
  },
  {
   "cell_type": "code",
   "execution_count": 13,
   "metadata": {},
   "outputs": [],
   "source": [
    "entropy_df = pd.DataFrame()\n",
    "entropy_df['sin restricciones sin repetitividad sin normalizar'] = df1['entropy']\n",
    "entropy_df['con restricciones sin repetitividad sin normalizar'] = df2['entropy']\n",
    "entropy_df['sin restricciones con repetitividad sin normalizar'] = df3['entropy']\n",
    "entropy_df['con restricciones con repetitividad sin normalizar'] = df4['entropy']\n",
    "entropy_df['sin restricciones sin repetitividad normalizado'] = df5['entropy']\n",
    "entropy_df['sin restricciones con repetitividad normalizado'] = df6['entropy']\n",
    "entropy_df['con restricciones sin repetitividad normalizado'] = df7['entropy']\n",
    "entropy_df['con restricciones con repetitividad normalizado'] = df8['entropy']\n",
    "entropy_df.fillna(method='ffill', inplace=True)"
   ]
  },
  {
   "cell_type": "code",
   "execution_count": 22,
   "metadata": {},
   "outputs": [
    {
     "data": {
      "application/vnd.plotly.v1+json": {
       "config": {
        "plotlyServerURL": "https://plot.ly"
       },
       "data": [
        {
         "hovertemplate": "variable=sin restricciones sin repetitividad sin normalizar<br>index=%{x}<br>value=%{y}<extra></extra>",
         "legendgroup": "sin restricciones sin repetitividad sin normalizar",
         "line": {
          "color": "#636efa",
          "dash": "solid"
         },
         "marker": {
          "symbol": "circle"
         },
         "mode": "lines",
         "name": "sin restricciones sin repetitividad sin normalizar",
         "orientation": "v",
         "showlegend": true,
         "type": "scatter",
         "x": [
          0,
          1,
          2,
          3,
          4,
          5,
          6,
          7,
          8,
          9,
          10,
          11,
          12,
          13,
          14,
          15,
          16,
          17,
          18,
          19,
          20,
          21,
          22,
          23,
          24,
          25,
          26,
          27,
          28,
          29,
          30,
          31,
          32,
          33,
          34,
          35,
          36,
          37,
          38,
          39,
          40,
          41,
          42,
          43,
          44,
          45,
          46,
          47,
          48,
          49,
          50,
          51,
          52,
          53,
          54,
          55,
          56
         ],
         "xaxis": "x",
         "y": [
          -2.5,
          41.075,
          81.125,
          117.7,
          122.7,
          131.55,
          145.2,
          144,
          160.225,
          169.25,
          175.475,
          181.05,
          183.7,
          187.1,
          203.75,
          207.8,
          21.05,
          122.8,
          222.6,
          268,
          239.15,
          252.55,
          288.325,
          313,
          147.85,
          150.5,
          116,
          114.775,
          184.6,
          184.575,
          185,
          185,
          185,
          185,
          198.175,
          202.4,
          151.225,
          217.6,
          310.5,
          171.1,
          152.8,
          310.1,
          318,
          215.6,
          202,
          313,
          307.15,
          311.75,
          318,
          318,
          318,
          318,
          315.5,
          318,
          318,
          318,
          318
         ],
         "yaxis": "y"
        },
        {
         "hovertemplate": "variable=con restricciones sin repetitividad sin normalizar<br>index=%{x}<br>value=%{y}<extra></extra>",
         "legendgroup": "con restricciones sin repetitividad sin normalizar",
         "line": {
          "color": "#EF553B",
          "dash": "solid"
         },
         "marker": {
          "symbol": "circle"
         },
         "mode": "lines",
         "name": "con restricciones sin repetitividad sin normalizar",
         "orientation": "v",
         "showlegend": true,
         "type": "scatter",
         "x": [
          0,
          1,
          2,
          3,
          4,
          5,
          6,
          7,
          8,
          9,
          10,
          11,
          12,
          13,
          14,
          15,
          16,
          17,
          18,
          19,
          20,
          21,
          22,
          23,
          24,
          25,
          26,
          27,
          28,
          29,
          30,
          31,
          32,
          33,
          34,
          35,
          36,
          37,
          38,
          39,
          40,
          41,
          42,
          43,
          44,
          45,
          46,
          47,
          48,
          49,
          50,
          51,
          52,
          53,
          54,
          55,
          56
         ],
         "xaxis": "x",
         "y": [
          -77.71428571428571,
          -55.875,
          56.95,
          78.275,
          90.3,
          99.625,
          111.525,
          113.725,
          118.25,
          113.2,
          122.8,
          122.75,
          124,
          122.425,
          124,
          123.225,
          123.625,
          122.475,
          123.6,
          123.6,
          120.825,
          123.225,
          122.775,
          123.625,
          123.25,
          124,
          123.6,
          120,
          124,
          124,
          119.6,
          122.825,
          123.625,
          124,
          124,
          108.75,
          124,
          75.575,
          82.275,
          108.425,
          116.4,
          108.4,
          108.4,
          109.2,
          124,
          124,
          109.975,
          108,
          123.6,
          114,
          124,
          123.625,
          124,
          124,
          124,
          120.425,
          121.95
         ],
         "yaxis": "y"
        },
        {
         "hovertemplate": "variable=sin restricciones con repetitividad sin normalizar<br>index=%{x}<br>value=%{y}<extra></extra>",
         "legendgroup": "sin restricciones con repetitividad sin normalizar",
         "line": {
          "color": "#00cc96",
          "dash": "solid"
         },
         "marker": {
          "symbol": "circle"
         },
         "mode": "lines",
         "name": "sin restricciones con repetitividad sin normalizar",
         "orientation": "v",
         "showlegend": true,
         "type": "scatter",
         "x": [
          0,
          1,
          2,
          3,
          4,
          5,
          6,
          7,
          8,
          9,
          10,
          11,
          12,
          13,
          14,
          15,
          16,
          17,
          18,
          19,
          20,
          21,
          22,
          23,
          24,
          25,
          26,
          27,
          28,
          29,
          30,
          31,
          32,
          33,
          34,
          35,
          36,
          37,
          38,
          39,
          40,
          41,
          42,
          43,
          44,
          45,
          46,
          47,
          48,
          49,
          50,
          51,
          52,
          53,
          54,
          55,
          56
         ],
         "xaxis": "x",
         "y": [
          3.333333333333333,
          65.6,
          97.775,
          125.6,
          157.15,
          163.875,
          165.75,
          171.025,
          171.125,
          179.55,
          183.65,
          182.9,
          180.875,
          180.875,
          180.875,
          180.875,
          180.875,
          180.875,
          180.875,
          180.875,
          180.875,
          180.875,
          180.875,
          180.875,
          180.875,
          180.875,
          180.875,
          180.875,
          180.875,
          180.875,
          180.875,
          180.875,
          180.875,
          180.875,
          180.875,
          180.875,
          180.875,
          180.875,
          180.875,
          180.875,
          180.875,
          180.875,
          180.875,
          180.875,
          180.875,
          180.875,
          180.875,
          180.875,
          180.875,
          180.875,
          180.875,
          180.875,
          180.875,
          180.875,
          180.875,
          180.875,
          180.875
         ],
         "yaxis": "y"
        },
        {
         "hovertemplate": "variable=con restricciones con repetitividad sin normalizar<br>index=%{x}<br>value=%{y}<extra></extra>",
         "legendgroup": "con restricciones con repetitividad sin normalizar",
         "line": {
          "color": "#ab63fa",
          "dash": "solid"
         },
         "marker": {
          "symbol": "circle"
         },
         "mode": "lines",
         "name": "con restricciones con repetitividad sin normalizar",
         "orientation": "v",
         "showlegend": true,
         "type": "scatter",
         "x": [
          0,
          1,
          2,
          3,
          4,
          5,
          6,
          7,
          8,
          9,
          10,
          11,
          12,
          13,
          14,
          15,
          16,
          17,
          18,
          19,
          20,
          21,
          22,
          23,
          24,
          25,
          26,
          27,
          28,
          29,
          30,
          31,
          32,
          33,
          34,
          35,
          36,
          37,
          38,
          39,
          40,
          41,
          42,
          43,
          44,
          45,
          46,
          47,
          48,
          49,
          50,
          51,
          52,
          53,
          54,
          55,
          56
         ],
         "xaxis": "x",
         "y": [
          -77.71428571428571,
          -50.675,
          78.3,
          88.025,
          108.025,
          109.75,
          109.775,
          109.425,
          103.725,
          107.175,
          107.175,
          107.175,
          107.175,
          107.175,
          107.175,
          107.175,
          107.175,
          107.175,
          107.175,
          107.175,
          107.175,
          107.175,
          107.175,
          107.175,
          107.175,
          107.175,
          107.175,
          107.175,
          107.175,
          107.175,
          107.175,
          107.175,
          107.175,
          107.175,
          107.175,
          107.175,
          107.175,
          107.175,
          107.175,
          107.175,
          107.175,
          107.175,
          107.175,
          107.175,
          107.175,
          107.175,
          107.175,
          107.175,
          107.175,
          107.175,
          107.175,
          107.175,
          107.175,
          107.175,
          107.175,
          107.175,
          107.175
         ],
         "yaxis": "y"
        },
        {
         "hovertemplate": "variable=sin restricciones sin repetitividad normalizado<br>index=%{x}<br>value=%{y}<extra></extra>",
         "legendgroup": "sin restricciones sin repetitividad normalizado",
         "line": {
          "color": "#FFA15A",
          "dash": "solid"
         },
         "marker": {
          "symbol": "circle"
         },
         "mode": "lines",
         "name": "sin restricciones sin repetitividad normalizado",
         "orientation": "v",
         "showlegend": true,
         "type": "scatter",
         "x": [
          0,
          1,
          2,
          3,
          4,
          5,
          6,
          7,
          8,
          9,
          10,
          11,
          12,
          13,
          14,
          15,
          16,
          17,
          18,
          19,
          20,
          21,
          22,
          23,
          24,
          25,
          26,
          27,
          28,
          29,
          30,
          31,
          32,
          33,
          34,
          35,
          36,
          37,
          38,
          39,
          40,
          41,
          42,
          43,
          44,
          45,
          46,
          47,
          48,
          49,
          50,
          51,
          52,
          53,
          54,
          55,
          56
         ],
         "xaxis": "x",
         "y": [
          15.5,
          61.825,
          98.275,
          134.7,
          159.4,
          174.15,
          189.975,
          182.925,
          214.05,
          208.975,
          228.975,
          218.8,
          216,
          45.35,
          229.1,
          234.675,
          232.875,
          238.75,
          236.45,
          115.95,
          157.45,
          240.125,
          -10,
          159.4,
          237.2,
          240.85,
          241.425,
          233,
          157.375,
          176,
          227.425,
          213.175,
          182.675,
          236.525,
          183.2,
          241.425,
          240.85,
          226.925,
          235.1,
          244.5,
          216.3,
          242,
          241.425,
          242,
          247,
          254.5,
          287,
          294.5,
          314.5,
          320.875,
          317,
          241.425,
          323.675,
          324.975,
          342,
          342,
          336.65
         ],
         "yaxis": "y"
        },
        {
         "hovertemplate": "variable=sin restricciones con repetitividad normalizado<br>index=%{x}<br>value=%{y}<extra></extra>",
         "legendgroup": "sin restricciones con repetitividad normalizado",
         "line": {
          "color": "#19d3f3",
          "dash": "solid"
         },
         "marker": {
          "symbol": "circle"
         },
         "mode": "lines",
         "name": "sin restricciones con repetitividad normalizado",
         "orientation": "v",
         "showlegend": true,
         "type": "scatter",
         "x": [
          0,
          1,
          2,
          3,
          4,
          5,
          6,
          7,
          8,
          9,
          10,
          11,
          12,
          13,
          14,
          15,
          16,
          17,
          18,
          19,
          20,
          21,
          22,
          23,
          24,
          25,
          26,
          27,
          28,
          29,
          30,
          31,
          32,
          33,
          34,
          35,
          36,
          37,
          38,
          39,
          40,
          41,
          42,
          43,
          44,
          45,
          46,
          47,
          48,
          49,
          50,
          51,
          52,
          53,
          54,
          55,
          56
         ],
         "xaxis": "x",
         "y": [
          30.33333333333333,
          100.35,
          154.85,
          187.325,
          211.5,
          211.075,
          216.35,
          214.275,
          222.325,
          223.95,
          220.225,
          222.875,
          225.925,
          225.175,
          226.05,
          227.15,
          226.025,
          222.225,
          222.075,
          222.15,
          221.65,
          221.65,
          221.65,
          221.65,
          221.65,
          221.65,
          221.65,
          221.65,
          221.65,
          221.65,
          221.65,
          221.65,
          221.65,
          221.65,
          221.65,
          221.65,
          221.65,
          221.65,
          221.65,
          221.65,
          221.65,
          221.65,
          221.65,
          221.65,
          221.65,
          221.65,
          221.65,
          221.65,
          221.65,
          221.65,
          221.65,
          221.65,
          221.65,
          221.65,
          221.65,
          221.65,
          221.65
         ],
         "yaxis": "y"
        },
        {
         "hovertemplate": "variable=con restricciones sin repetitividad normalizado<br>index=%{x}<br>value=%{y}<extra></extra>",
         "legendgroup": "con restricciones sin repetitividad normalizado",
         "line": {
          "color": "#FF6692",
          "dash": "solid"
         },
         "marker": {
          "symbol": "circle"
         },
         "mode": "lines",
         "name": "con restricciones sin repetitividad normalizado",
         "orientation": "v",
         "showlegend": true,
         "type": "scatter",
         "x": [
          0,
          1,
          2,
          3,
          4,
          5,
          6,
          7,
          8,
          9,
          10,
          11,
          12,
          13,
          14,
          15,
          16,
          17,
          18,
          19,
          20,
          21,
          22,
          23,
          24,
          25,
          26,
          27,
          28,
          29,
          30,
          31,
          32,
          33,
          34,
          35,
          36,
          37,
          38,
          39,
          40,
          41,
          42,
          43,
          44,
          45,
          46,
          47,
          48,
          49,
          50,
          51,
          52,
          53,
          54,
          55,
          56
         ],
         "xaxis": "x",
         "y": [
          -76.57142857142857,
          -44.05,
          78.2,
          93.625,
          125.2,
          127.225,
          146.75,
          151.325,
          157.125,
          146.425,
          134.375,
          139.225,
          158.425,
          157.85,
          157.85,
          140.025,
          136,
          137.15,
          136,
          145.775,
          141.75,
          159,
          -36.7,
          158.2,
          159,
          153.55,
          159,
          156.2,
          122.3,
          158.2,
          158.6,
          158.6,
          158.6,
          158.6,
          158.6,
          158.6,
          158.6,
          158.6,
          158.6,
          158.6,
          158.6,
          158.6,
          158.6,
          158.6,
          158.6,
          158.6,
          158.6,
          158.6,
          158.6,
          158.6,
          158.6,
          158.6,
          158.6,
          158.6,
          158.6,
          158.6,
          158.6
         ],
         "yaxis": "y"
        },
        {
         "hovertemplate": "variable=con restricciones con repetitividad normalizado<br>index=%{x}<br>value=%{y}<extra></extra>",
         "legendgroup": "con restricciones con repetitividad normalizado",
         "line": {
          "color": "#B6E880",
          "dash": "solid"
         },
         "marker": {
          "symbol": "circle"
         },
         "mode": "lines",
         "name": "con restricciones con repetitividad normalizado",
         "orientation": "v",
         "showlegend": true,
         "type": "scatter",
         "x": [
          0,
          1,
          2,
          3,
          4,
          5,
          6,
          7,
          8,
          9,
          10,
          11,
          12,
          13,
          14,
          15,
          16,
          17,
          18,
          19,
          20,
          21,
          22,
          23,
          24,
          25,
          26,
          27,
          28,
          29,
          30,
          31,
          32,
          33,
          34,
          35,
          36,
          37,
          38,
          39,
          40,
          41,
          42,
          43,
          44,
          45,
          46,
          47,
          48,
          49,
          50,
          51,
          52,
          53,
          54,
          55,
          56
         ],
         "xaxis": "x",
         "y": [
          -76.57142857142857,
          -42.875,
          96.175,
          109.45,
          133,
          132.85,
          130.95,
          131.35,
          131.35,
          131.35,
          131.925,
          131.925,
          131.925,
          131.925,
          131.925,
          131.925,
          131.925,
          131.925,
          131.925,
          131.925,
          131.925,
          131.925,
          131.925,
          131.925,
          131.925,
          131.925,
          131.925,
          131.925,
          131.925,
          131.925,
          131.925,
          131.925,
          131.925,
          131.925,
          131.925,
          131.925,
          131.925,
          131.925,
          131.925,
          131.925,
          131.925,
          131.925,
          131.925,
          131.925,
          131.925,
          131.925,
          131.925,
          131.925,
          131.925,
          131.925,
          131.925,
          131.925,
          131.925,
          131.925,
          131.925,
          131.925,
          131.925
         ],
         "yaxis": "y"
        }
       ],
       "layout": {
        "autosize": false,
        "height": 800,
        "legend": {
         "title": {
          "text": "variable"
         },
         "tracegroupgap": 0
        },
        "template": {
         "data": {
          "bar": [
           {
            "error_x": {
             "color": "#2a3f5f"
            },
            "error_y": {
             "color": "#2a3f5f"
            },
            "marker": {
             "line": {
              "color": "#E5ECF6",
              "width": 0.5
             },
             "pattern": {
              "fillmode": "overlay",
              "size": 10,
              "solidity": 0.2
             }
            },
            "type": "bar"
           }
          ],
          "barpolar": [
           {
            "marker": {
             "line": {
              "color": "#E5ECF6",
              "width": 0.5
             },
             "pattern": {
              "fillmode": "overlay",
              "size": 10,
              "solidity": 0.2
             }
            },
            "type": "barpolar"
           }
          ],
          "carpet": [
           {
            "aaxis": {
             "endlinecolor": "#2a3f5f",
             "gridcolor": "white",
             "linecolor": "white",
             "minorgridcolor": "white",
             "startlinecolor": "#2a3f5f"
            },
            "baxis": {
             "endlinecolor": "#2a3f5f",
             "gridcolor": "white",
             "linecolor": "white",
             "minorgridcolor": "white",
             "startlinecolor": "#2a3f5f"
            },
            "type": "carpet"
           }
          ],
          "choropleth": [
           {
            "colorbar": {
             "outlinewidth": 0,
             "ticks": ""
            },
            "type": "choropleth"
           }
          ],
          "contour": [
           {
            "colorbar": {
             "outlinewidth": 0,
             "ticks": ""
            },
            "colorscale": [
             [
              0,
              "#0d0887"
             ],
             [
              0.1111111111111111,
              "#46039f"
             ],
             [
              0.2222222222222222,
              "#7201a8"
             ],
             [
              0.3333333333333333,
              "#9c179e"
             ],
             [
              0.4444444444444444,
              "#bd3786"
             ],
             [
              0.5555555555555556,
              "#d8576b"
             ],
             [
              0.6666666666666666,
              "#ed7953"
             ],
             [
              0.7777777777777778,
              "#fb9f3a"
             ],
             [
              0.8888888888888888,
              "#fdca26"
             ],
             [
              1,
              "#f0f921"
             ]
            ],
            "type": "contour"
           }
          ],
          "contourcarpet": [
           {
            "colorbar": {
             "outlinewidth": 0,
             "ticks": ""
            },
            "type": "contourcarpet"
           }
          ],
          "heatmap": [
           {
            "colorbar": {
             "outlinewidth": 0,
             "ticks": ""
            },
            "colorscale": [
             [
              0,
              "#0d0887"
             ],
             [
              0.1111111111111111,
              "#46039f"
             ],
             [
              0.2222222222222222,
              "#7201a8"
             ],
             [
              0.3333333333333333,
              "#9c179e"
             ],
             [
              0.4444444444444444,
              "#bd3786"
             ],
             [
              0.5555555555555556,
              "#d8576b"
             ],
             [
              0.6666666666666666,
              "#ed7953"
             ],
             [
              0.7777777777777778,
              "#fb9f3a"
             ],
             [
              0.8888888888888888,
              "#fdca26"
             ],
             [
              1,
              "#f0f921"
             ]
            ],
            "type": "heatmap"
           }
          ],
          "heatmapgl": [
           {
            "colorbar": {
             "outlinewidth": 0,
             "ticks": ""
            },
            "colorscale": [
             [
              0,
              "#0d0887"
             ],
             [
              0.1111111111111111,
              "#46039f"
             ],
             [
              0.2222222222222222,
              "#7201a8"
             ],
             [
              0.3333333333333333,
              "#9c179e"
             ],
             [
              0.4444444444444444,
              "#bd3786"
             ],
             [
              0.5555555555555556,
              "#d8576b"
             ],
             [
              0.6666666666666666,
              "#ed7953"
             ],
             [
              0.7777777777777778,
              "#fb9f3a"
             ],
             [
              0.8888888888888888,
              "#fdca26"
             ],
             [
              1,
              "#f0f921"
             ]
            ],
            "type": "heatmapgl"
           }
          ],
          "histogram": [
           {
            "marker": {
             "pattern": {
              "fillmode": "overlay",
              "size": 10,
              "solidity": 0.2
             }
            },
            "type": "histogram"
           }
          ],
          "histogram2d": [
           {
            "colorbar": {
             "outlinewidth": 0,
             "ticks": ""
            },
            "colorscale": [
             [
              0,
              "#0d0887"
             ],
             [
              0.1111111111111111,
              "#46039f"
             ],
             [
              0.2222222222222222,
              "#7201a8"
             ],
             [
              0.3333333333333333,
              "#9c179e"
             ],
             [
              0.4444444444444444,
              "#bd3786"
             ],
             [
              0.5555555555555556,
              "#d8576b"
             ],
             [
              0.6666666666666666,
              "#ed7953"
             ],
             [
              0.7777777777777778,
              "#fb9f3a"
             ],
             [
              0.8888888888888888,
              "#fdca26"
             ],
             [
              1,
              "#f0f921"
             ]
            ],
            "type": "histogram2d"
           }
          ],
          "histogram2dcontour": [
           {
            "colorbar": {
             "outlinewidth": 0,
             "ticks": ""
            },
            "colorscale": [
             [
              0,
              "#0d0887"
             ],
             [
              0.1111111111111111,
              "#46039f"
             ],
             [
              0.2222222222222222,
              "#7201a8"
             ],
             [
              0.3333333333333333,
              "#9c179e"
             ],
             [
              0.4444444444444444,
              "#bd3786"
             ],
             [
              0.5555555555555556,
              "#d8576b"
             ],
             [
              0.6666666666666666,
              "#ed7953"
             ],
             [
              0.7777777777777778,
              "#fb9f3a"
             ],
             [
              0.8888888888888888,
              "#fdca26"
             ],
             [
              1,
              "#f0f921"
             ]
            ],
            "type": "histogram2dcontour"
           }
          ],
          "mesh3d": [
           {
            "colorbar": {
             "outlinewidth": 0,
             "ticks": ""
            },
            "type": "mesh3d"
           }
          ],
          "parcoords": [
           {
            "line": {
             "colorbar": {
              "outlinewidth": 0,
              "ticks": ""
             }
            },
            "type": "parcoords"
           }
          ],
          "pie": [
           {
            "automargin": true,
            "type": "pie"
           }
          ],
          "scatter": [
           {
            "marker": {
             "colorbar": {
              "outlinewidth": 0,
              "ticks": ""
             }
            },
            "type": "scatter"
           }
          ],
          "scatter3d": [
           {
            "line": {
             "colorbar": {
              "outlinewidth": 0,
              "ticks": ""
             }
            },
            "marker": {
             "colorbar": {
              "outlinewidth": 0,
              "ticks": ""
             }
            },
            "type": "scatter3d"
           }
          ],
          "scattercarpet": [
           {
            "marker": {
             "colorbar": {
              "outlinewidth": 0,
              "ticks": ""
             }
            },
            "type": "scattercarpet"
           }
          ],
          "scattergeo": [
           {
            "marker": {
             "colorbar": {
              "outlinewidth": 0,
              "ticks": ""
             }
            },
            "type": "scattergeo"
           }
          ],
          "scattergl": [
           {
            "marker": {
             "colorbar": {
              "outlinewidth": 0,
              "ticks": ""
             }
            },
            "type": "scattergl"
           }
          ],
          "scattermapbox": [
           {
            "marker": {
             "colorbar": {
              "outlinewidth": 0,
              "ticks": ""
             }
            },
            "type": "scattermapbox"
           }
          ],
          "scatterpolar": [
           {
            "marker": {
             "colorbar": {
              "outlinewidth": 0,
              "ticks": ""
             }
            },
            "type": "scatterpolar"
           }
          ],
          "scatterpolargl": [
           {
            "marker": {
             "colorbar": {
              "outlinewidth": 0,
              "ticks": ""
             }
            },
            "type": "scatterpolargl"
           }
          ],
          "scatterternary": [
           {
            "marker": {
             "colorbar": {
              "outlinewidth": 0,
              "ticks": ""
             }
            },
            "type": "scatterternary"
           }
          ],
          "surface": [
           {
            "colorbar": {
             "outlinewidth": 0,
             "ticks": ""
            },
            "colorscale": [
             [
              0,
              "#0d0887"
             ],
             [
              0.1111111111111111,
              "#46039f"
             ],
             [
              0.2222222222222222,
              "#7201a8"
             ],
             [
              0.3333333333333333,
              "#9c179e"
             ],
             [
              0.4444444444444444,
              "#bd3786"
             ],
             [
              0.5555555555555556,
              "#d8576b"
             ],
             [
              0.6666666666666666,
              "#ed7953"
             ],
             [
              0.7777777777777778,
              "#fb9f3a"
             ],
             [
              0.8888888888888888,
              "#fdca26"
             ],
             [
              1,
              "#f0f921"
             ]
            ],
            "type": "surface"
           }
          ],
          "table": [
           {
            "cells": {
             "fill": {
              "color": "#EBF0F8"
             },
             "line": {
              "color": "white"
             }
            },
            "header": {
             "fill": {
              "color": "#C8D4E3"
             },
             "line": {
              "color": "white"
             }
            },
            "type": "table"
           }
          ]
         },
         "layout": {
          "annotationdefaults": {
           "arrowcolor": "#2a3f5f",
           "arrowhead": 0,
           "arrowwidth": 1
          },
          "autotypenumbers": "strict",
          "coloraxis": {
           "colorbar": {
            "outlinewidth": 0,
            "ticks": ""
           }
          },
          "colorscale": {
           "diverging": [
            [
             0,
             "#8e0152"
            ],
            [
             0.1,
             "#c51b7d"
            ],
            [
             0.2,
             "#de77ae"
            ],
            [
             0.3,
             "#f1b6da"
            ],
            [
             0.4,
             "#fde0ef"
            ],
            [
             0.5,
             "#f7f7f7"
            ],
            [
             0.6,
             "#e6f5d0"
            ],
            [
             0.7,
             "#b8e186"
            ],
            [
             0.8,
             "#7fbc41"
            ],
            [
             0.9,
             "#4d9221"
            ],
            [
             1,
             "#276419"
            ]
           ],
           "sequential": [
            [
             0,
             "#0d0887"
            ],
            [
             0.1111111111111111,
             "#46039f"
            ],
            [
             0.2222222222222222,
             "#7201a8"
            ],
            [
             0.3333333333333333,
             "#9c179e"
            ],
            [
             0.4444444444444444,
             "#bd3786"
            ],
            [
             0.5555555555555556,
             "#d8576b"
            ],
            [
             0.6666666666666666,
             "#ed7953"
            ],
            [
             0.7777777777777778,
             "#fb9f3a"
            ],
            [
             0.8888888888888888,
             "#fdca26"
            ],
            [
             1,
             "#f0f921"
            ]
           ],
           "sequentialminus": [
            [
             0,
             "#0d0887"
            ],
            [
             0.1111111111111111,
             "#46039f"
            ],
            [
             0.2222222222222222,
             "#7201a8"
            ],
            [
             0.3333333333333333,
             "#9c179e"
            ],
            [
             0.4444444444444444,
             "#bd3786"
            ],
            [
             0.5555555555555556,
             "#d8576b"
            ],
            [
             0.6666666666666666,
             "#ed7953"
            ],
            [
             0.7777777777777778,
             "#fb9f3a"
            ],
            [
             0.8888888888888888,
             "#fdca26"
            ],
            [
             1,
             "#f0f921"
            ]
           ]
          },
          "colorway": [
           "#636efa",
           "#EF553B",
           "#00cc96",
           "#ab63fa",
           "#FFA15A",
           "#19d3f3",
           "#FF6692",
           "#B6E880",
           "#FF97FF",
           "#FECB52"
          ],
          "font": {
           "color": "#2a3f5f"
          },
          "geo": {
           "bgcolor": "white",
           "lakecolor": "white",
           "landcolor": "#E5ECF6",
           "showlakes": true,
           "showland": true,
           "subunitcolor": "white"
          },
          "hoverlabel": {
           "align": "left"
          },
          "hovermode": "closest",
          "mapbox": {
           "style": "light"
          },
          "paper_bgcolor": "white",
          "plot_bgcolor": "#E5ECF6",
          "polar": {
           "angularaxis": {
            "gridcolor": "white",
            "linecolor": "white",
            "ticks": ""
           },
           "bgcolor": "#E5ECF6",
           "radialaxis": {
            "gridcolor": "white",
            "linecolor": "white",
            "ticks": ""
           }
          },
          "scene": {
           "xaxis": {
            "backgroundcolor": "#E5ECF6",
            "gridcolor": "white",
            "gridwidth": 2,
            "linecolor": "white",
            "showbackground": true,
            "ticks": "",
            "zerolinecolor": "white"
           },
           "yaxis": {
            "backgroundcolor": "#E5ECF6",
            "gridcolor": "white",
            "gridwidth": 2,
            "linecolor": "white",
            "showbackground": true,
            "ticks": "",
            "zerolinecolor": "white"
           },
           "zaxis": {
            "backgroundcolor": "#E5ECF6",
            "gridcolor": "white",
            "gridwidth": 2,
            "linecolor": "white",
            "showbackground": true,
            "ticks": "",
            "zerolinecolor": "white"
           }
          },
          "shapedefaults": {
           "line": {
            "color": "#2a3f5f"
           }
          },
          "ternary": {
           "aaxis": {
            "gridcolor": "white",
            "linecolor": "white",
            "ticks": ""
           },
           "baxis": {
            "gridcolor": "white",
            "linecolor": "white",
            "ticks": ""
           },
           "bgcolor": "#E5ECF6",
           "caxis": {
            "gridcolor": "white",
            "linecolor": "white",
            "ticks": ""
           }
          },
          "title": {
           "x": 0.05
          },
          "xaxis": {
           "automargin": true,
           "gridcolor": "white",
           "linecolor": "white",
           "ticks": "",
           "title": {
            "standoff": 15
           },
           "zerolinecolor": "white",
           "zerolinewidth": 2
          },
          "yaxis": {
           "automargin": true,
           "gridcolor": "white",
           "linecolor": "white",
           "ticks": "",
           "title": {
            "standoff": 15
           },
           "zerolinecolor": "white",
           "zerolinewidth": 2
          }
         }
        },
        "title": {
         "text": "Mean Episode Reward over 1H of Training"
        },
        "width": 1600,
        "xaxis": {
         "anchor": "y",
         "domain": [
          0,
          1
         ],
         "title": {
          "text": "Iteration"
         }
        },
        "yaxis": {
         "anchor": "x",
         "domain": [
          0,
          1
         ],
         "title": {
          "text": "EpRewardMean"
         }
        }
       }
      }
     },
     "metadata": {},
     "output_type": "display_data"
    }
   ],
   "source": [
    "fig = px.line(reward_df, title='Mean Episode Reward over 1H of Training')\n",
    "fig.update_xaxes(title_text='Iteration')\n",
    "fig.update_yaxes(title_text='EpRewardMean')\n",
    "\n",
    "fig.update_layout(\n",
    "    autosize=False,\n",
    "    width=1600,\n",
    "    height=800,)\n",
    "\n",
    "fig.show()"
   ]
  },
  {
   "cell_type": "code",
   "execution_count": 21,
   "metadata": {},
   "outputs": [
    {
     "data": {
      "application/vnd.plotly.v1+json": {
       "config": {
        "plotlyServerURL": "https://plot.ly"
       },
       "data": [
        {
         "hovertemplate": "variable=sin restricciones sin repetitividad sin normalizar<br>index=%{x}<br>value=%{y}<extra></extra>",
         "legendgroup": "sin restricciones sin repetitividad sin normalizar",
         "line": {
          "color": "#636efa",
          "dash": "solid"
         },
         "marker": {
          "symbol": "circle"
         },
         "mode": "lines",
         "name": "sin restricciones sin repetitividad sin normalizar",
         "orientation": "v",
         "showlegend": true,
         "type": "scatter",
         "x": [
          0,
          1,
          2,
          3,
          4,
          5,
          6,
          7,
          8,
          9,
          10,
          11,
          12,
          13,
          14,
          15,
          16,
          17,
          18,
          19,
          20,
          21,
          22,
          23,
          24,
          25,
          26,
          27,
          28,
          29,
          30,
          31,
          32,
          33,
          34,
          35,
          36,
          37,
          38,
          39,
          40,
          41,
          42,
          43,
          44,
          45,
          46,
          47,
          48,
          49,
          50,
          51,
          52,
          53,
          54,
          55,
          56
         ],
         "xaxis": "x",
         "y": [
          908.8394775390624,
          1437.9700927734375,
          1068.4324951171875,
          1065.29638671875,
          864.2650146484375,
          537.0734252929688,
          337.60333251953125,
          1268.243896484375,
          132.67796325683594,
          162.84353637695312,
          30.59316635131836,
          30.555784225463867,
          11.231348037719728,
          1076.7265625,
          178.73373413085938,
          3.112511157989502,
          10514.384765625,
          100.27205657958984,
          9.588444709777832,
          240.6013641357422,
          1264.1220703125,
          2188.783447265625,
          246.10289001464844,
          95.2409439086914,
          7233.888671875,
          3701.117431640625,
          6464.92333984375,
          567.6766967773438,
          0.4478746354579925,
          0.4197545945644378,
          0.1036380380392074,
          0.094059057533741,
          0.0560592338442802,
          0.0061454866081476,
          20.458105087280277,
          0.6850189566612244,
          732.472412109375,
          13.278488159179688,
          195.39317321777344,
          6643.91162109375,
          7874.0234375,
          38.5216178894043,
          0.4484668374061584,
          5803.2880859375,
          2271.362060546875,
          119.77764129638672,
          2.2047388553619385,
          0.0635547935962677,
          0.0155541347339749,
          0.0491537190973758,
          0.0226542241871356,
          0.0058494335971772,
          0.0118011645972728,
          0.0020146842580288,
          0.2677039802074432,
          0.0194639414548873,
          0.0007437299937009
         ],
         "yaxis": "y"
        },
        {
         "hovertemplate": "variable=con restricciones sin repetitividad sin normalizar<br>index=%{x}<br>value=%{y}<extra></extra>",
         "legendgroup": "con restricciones sin repetitividad sin normalizar",
         "line": {
          "color": "#EF553B",
          "dash": "solid"
         },
         "marker": {
          "symbol": "circle"
         },
         "mode": "lines",
         "name": "con restricciones sin repetitividad sin normalizar",
         "orientation": "v",
         "showlegend": true,
         "type": "scatter",
         "x": [
          0,
          1,
          2,
          3,
          4,
          5,
          6,
          7,
          8,
          9,
          10,
          11,
          12,
          13,
          14,
          15,
          16,
          17,
          18,
          19,
          20,
          21,
          22,
          23,
          24,
          25,
          26,
          27,
          28,
          29,
          30,
          31,
          32,
          33,
          34,
          35,
          36,
          37,
          38,
          39,
          40,
          41,
          42,
          43,
          44,
          45,
          46,
          47,
          48,
          49,
          50,
          51,
          52,
          53,
          54,
          55,
          56
         ],
         "xaxis": "x",
         "y": [
          1690.71435546875,
          1440.2642822265625,
          1194.44287109375,
          816.229248046875,
          623.8624267578125,
          579.2991943359375,
          687.8790893554688,
          470.73919677734375,
          7407.81005859375,
          2346.933837890625,
          1245.819091796875,
          1571.7181396484375,
          1990.7608642578125,
          2824.242919921875,
          1213.5487060546875,
          911.2872314453124,
          426.8551330566406,
          797.0843505859375,
          828.34521484375,
          1762.49072265625,
          1051.1650390625,
          1333.9183349609375,
          738.1103515625,
          1026.62451171875,
          698.25830078125,
          2000.9014892578125,
          766.292724609375,
          4096.7333984375,
          357.3450927734375,
          729.9700317382812,
          970.1991577148438,
          336.39556884765625,
          1957.98876953125,
          831.3267211914062,
          489.2652893066406,
          1043.334228515625,
          288.1993103027344,
          756.5982666015625,
          626.75146484375,
          124.37456512451172,
          206.64898681640625,
          1200.1195068359375,
          553.1649169921875,
          282.4520263671875,
          94.16194152832033,
          61.93494415283203,
          952.3466796875,
          294.0365295410156,
          57.30216217041016,
          242.2464904785156,
          145.8533935546875,
          153.71087646484375,
          49.64708709716797,
          18.403350830078125,
          0.696454644203186,
          31.513761520385746,
          13.852743148803713
         ],
         "yaxis": "y"
        },
        {
         "hovertemplate": "variable=sin restricciones con repetitividad sin normalizar<br>index=%{x}<br>value=%{y}<extra></extra>",
         "legendgroup": "sin restricciones con repetitividad sin normalizar",
         "line": {
          "color": "#00cc96",
          "dash": "solid"
         },
         "marker": {
          "symbol": "circle"
         },
         "mode": "lines",
         "name": "sin restricciones con repetitividad sin normalizar",
         "orientation": "v",
         "showlegend": true,
         "type": "scatter",
         "x": [
          0,
          1,
          2,
          3,
          4,
          5,
          6,
          7,
          8,
          9,
          10,
          11,
          12,
          13,
          14,
          15,
          16,
          17,
          18,
          19,
          20,
          21,
          22,
          23,
          24,
          25,
          26,
          27,
          28,
          29,
          30,
          31,
          32,
          33,
          34,
          35,
          36,
          37,
          38,
          39,
          40,
          41,
          42,
          43,
          44,
          45,
          46,
          47,
          48,
          49,
          50,
          51,
          52,
          53,
          54,
          55,
          56
         ],
         "xaxis": "x",
         "y": [
          1037.787353515625,
          1951.708251953125,
          1285.6597900390625,
          227.9923553466797,
          2.1898202896118164,
          0.3729294538497925,
          0.3464345335960388,
          0.4534167349338531,
          13.00649070739746,
          5.215192317962647,
          2.785817861557007,
          -0.3181061446666717,
          0.2925815880298614,
          0.2925815880298614,
          0.2925815880298614,
          0.2925815880298614,
          0.2925815880298614,
          0.2925815880298614,
          0.2925815880298614,
          0.2925815880298614,
          0.2925815880298614,
          0.2925815880298614,
          0.2925815880298614,
          0.2925815880298614,
          0.2925815880298614,
          0.2925815880298614,
          0.2925815880298614,
          0.2925815880298614,
          0.2925815880298614,
          0.2925815880298614,
          0.2925815880298614,
          0.2925815880298614,
          0.2925815880298614,
          0.2925815880298614,
          0.2925815880298614,
          0.2925815880298614,
          0.2925815880298614,
          0.2925815880298614,
          0.2925815880298614,
          0.2925815880298614,
          0.2925815880298614,
          0.2925815880298614,
          0.2925815880298614,
          0.2925815880298614,
          0.2925815880298614,
          0.2925815880298614,
          0.2925815880298614,
          0.2925815880298614,
          0.2925815880298614,
          0.2925815880298614,
          0.2925815880298614,
          0.2925815880298614,
          0.2925815880298614,
          0.2925815880298614,
          0.2925815880298614,
          0.2925815880298614,
          0.2925815880298614
         ],
         "yaxis": "y"
        },
        {
         "hovertemplate": "variable=con restricciones con repetitividad sin normalizar<br>index=%{x}<br>value=%{y}<extra></extra>",
         "legendgroup": "con restricciones con repetitividad sin normalizar",
         "line": {
          "color": "#ab63fa",
          "dash": "solid"
         },
         "marker": {
          "symbol": "circle"
         },
         "mode": "lines",
         "name": "con restricciones con repetitividad sin normalizar",
         "orientation": "v",
         "showlegend": true,
         "type": "scatter",
         "x": [
          0,
          1,
          2,
          3,
          4,
          5,
          6,
          7,
          8,
          9,
          10,
          11,
          12,
          13,
          14,
          15,
          16,
          17,
          18,
          19,
          20,
          21,
          22,
          23,
          24,
          25,
          26,
          27,
          28,
          29,
          30,
          31,
          32,
          33,
          34,
          35,
          36,
          37,
          38,
          39,
          40,
          41,
          42,
          43,
          44,
          45,
          46,
          47,
          48,
          49,
          50,
          51,
          52,
          53,
          54,
          55,
          56
         ],
         "xaxis": "x",
         "y": [
          1690.724609375,
          1251.9967041015625,
          1453.9710693359375,
          1339.962646484375,
          1531.2877197265625,
          0.1155380308628082,
          0.1547610759735107,
          -0.1286835670471191,
          2453.684326171875,
          1908.9334716796875,
          0.8197804093360901,
          0.8197804093360901,
          0.8197804093360901,
          0.8197804093360901,
          0.8197804093360901,
          0.8197804093360901,
          0.8197804093360901,
          0.8197804093360901,
          0.8197804093360901,
          0.8197804093360901,
          0.8197804093360901,
          0.8197804093360901,
          0.8197804093360901,
          0.8197804093360901,
          0.8197804093360901,
          0.8197804093360901,
          0.8197804093360901,
          0.8197804093360901,
          0.8197804093360901,
          0.8197804093360901,
          0.8197804093360901,
          0.8197804093360901,
          0.8197804093360901,
          0.8197804093360901,
          0.8197804093360901,
          0.8197804093360901,
          0.8197804093360901,
          0.8197804093360901,
          0.8197804093360901,
          0.8197804093360901,
          0.8197804093360901,
          0.8197804093360901,
          0.8197804093360901,
          0.8197804093360901,
          0.8197804093360901,
          0.8197804093360901,
          0.8197804093360901,
          0.8197804093360901,
          0.8197804093360901,
          0.8197804093360901,
          0.8197804093360901,
          0.8197804093360901,
          0.8197804093360901,
          0.8197804093360901,
          0.8197804093360901,
          0.8197804093360901,
          0.8197804093360901
         ],
         "yaxis": "y"
        },
        {
         "hovertemplate": "variable=sin restricciones sin repetitividad normalizado<br>index=%{x}<br>value=%{y}<extra></extra>",
         "legendgroup": "sin restricciones sin repetitividad normalizado",
         "line": {
          "color": "#FFA15A",
          "dash": "solid"
         },
         "marker": {
          "symbol": "circle"
         },
         "mode": "lines",
         "name": "sin restricciones sin repetitividad normalizado",
         "orientation": "v",
         "showlegend": true,
         "type": "scatter",
         "x": [
          0,
          1,
          2,
          3,
          4,
          5,
          6,
          7,
          8,
          9,
          10,
          11,
          12,
          13,
          14,
          15,
          16,
          17,
          18,
          19,
          20,
          21,
          22,
          23,
          24,
          25,
          26,
          27,
          28,
          29,
          30,
          31,
          32,
          33,
          34,
          35,
          36,
          37,
          38,
          39,
          40,
          41,
          42,
          43,
          44,
          45,
          46,
          47,
          48,
          49,
          50,
          51,
          52,
          53,
          54,
          55,
          56
         ],
         "xaxis": "x",
         "y": [
          992.9910888671876,
          2054.048095703125,
          1588.9635009765625,
          1028.74169921875,
          1256.7857666015625,
          661.6939697265625,
          505.3892822265625,
          529.3945922851562,
          666.5437622070312,
          840.7024536132812,
          496.5426940917969,
          2023.3966064453125,
          486.6187744140625,
          8941.2470703125,
          546.429443359375,
          95.88874816894533,
          116.60665130615234,
          172.73439025878906,
          47.19746398925781,
          6970.138671875,
          222.3287353515625,
          60.20030212402344,
          21370.423828125,
          745.8959350585938,
          222.44110107421875,
          138.57086181640625,
          42.53711318969727,
          99.21600341796876,
          5440.2666015625,
          471.5177917480469,
          17.404762268066406,
          883.5474243164062,
          575.13232421875,
          1.897927165031433,
          2021.5574951171875,
          1.071941375732422,
          4.276958465576172,
          371.6838684082031,
          0.986302614212036,
          0.1010791659355163,
          388.6957702636719,
          1.642699956893921,
          0.0355182774364948,
          -0.0221794657409191,
          -0.1490061581134796,
          -0.0669230818748474,
          1383.221923828125,
          6.7600603103637695,
          454.1018981933594,
          2158.43798828125,
          1916.743408203125,
          1311.1004638671875,
          298.0033264160156,
          14.319836616516112,
          0.4373650848865509,
          0.0674163326621055,
          1615.5543212890625
         ],
         "yaxis": "y"
        },
        {
         "hovertemplate": "variable=sin restricciones con repetitividad normalizado<br>index=%{x}<br>value=%{y}<extra></extra>",
         "legendgroup": "sin restricciones con repetitividad normalizado",
         "line": {
          "color": "#19d3f3",
          "dash": "solid"
         },
         "marker": {
          "symbol": "circle"
         },
         "mode": "lines",
         "name": "sin restricciones con repetitividad normalizado",
         "orientation": "v",
         "showlegend": true,
         "type": "scatter",
         "x": [
          0,
          1,
          2,
          3,
          4,
          5,
          6,
          7,
          8,
          9,
          10,
          11,
          12,
          13,
          14,
          15,
          16,
          17,
          18,
          19,
          20,
          21,
          22,
          23,
          24,
          25,
          26,
          27,
          28,
          29,
          30,
          31,
          32,
          33,
          34,
          35,
          36,
          37,
          38,
          39,
          40,
          41,
          42,
          43,
          44,
          45,
          46,
          47,
          48,
          49,
          50,
          51,
          52,
          53,
          54,
          55,
          56
         ],
         "xaxis": "x",
         "y": [
          1251.5870361328125,
          2227.5087890625,
          1070.4200439453125,
          245.78965759277344,
          789.0985717773438,
          2.8592541217803955,
          2028.00146484375,
          3.422526359558105,
          42.334415435791016,
          2201.95849609375,
          608.9049682617188,
          2501.737060546875,
          -0.3329657316207886,
          397.0115356445313,
          0.1036862730979919,
          2039.1551513671875,
          -0.0763509273529052,
          -0.592812180519104,
          -0.2168319225311279,
          -0.0482521206140518,
          32.823543548583984,
          32.823543548583984,
          32.823543548583984,
          32.823543548583984,
          32.823543548583984,
          32.823543548583984,
          32.823543548583984,
          32.823543548583984,
          32.823543548583984,
          32.823543548583984,
          32.823543548583984,
          32.823543548583984,
          32.823543548583984,
          32.823543548583984,
          32.823543548583984,
          32.823543548583984,
          32.823543548583984,
          32.823543548583984,
          32.823543548583984,
          32.823543548583984,
          32.823543548583984,
          32.823543548583984,
          32.823543548583984,
          32.823543548583984,
          32.823543548583984,
          32.823543548583984,
          32.823543548583984,
          32.823543548583984,
          32.823543548583984,
          32.823543548583984,
          32.823543548583984,
          32.823543548583984,
          32.823543548583984,
          32.823543548583984,
          32.823543548583984,
          32.823543548583984,
          32.823543548583984
         ],
         "yaxis": "y"
        },
        {
         "hovertemplate": "variable=con restricciones sin repetitividad normalizado<br>index=%{x}<br>value=%{y}<extra></extra>",
         "legendgroup": "con restricciones sin repetitividad normalizado",
         "line": {
          "color": "#FF6692",
          "dash": "solid"
         },
         "marker": {
          "symbol": "circle"
         },
         "mode": "lines",
         "name": "con restricciones sin repetitividad normalizado",
         "orientation": "v",
         "showlegend": true,
         "type": "scatter",
         "x": [
          0,
          1,
          2,
          3,
          4,
          5,
          6,
          7,
          8,
          9,
          10,
          11,
          12,
          13,
          14,
          15,
          16,
          17,
          18,
          19,
          20,
          21,
          22,
          23,
          24,
          25,
          26,
          27,
          28,
          29,
          30,
          31,
          32,
          33,
          34,
          35,
          36,
          37,
          38,
          39,
          40,
          41,
          42,
          43,
          44,
          45,
          46,
          47,
          48,
          49,
          50,
          51,
          52,
          53,
          54,
          55,
          56
         ],
         "xaxis": "x",
         "y": [
          1697.2734375,
          1291.0509033203125,
          1863.6435546875,
          1655.71435546875,
          1560.332763671875,
          984.9542846679688,
          1383.2518310546875,
          1022.2936401367188,
          1312.367431640625,
          588.4475708007812,
          1057.56103515625,
          971.8914794921876,
          1094.8939208984375,
          265.5707092285156,
          1347.335693359375,
          627.8677368164062,
          1308.8812255859375,
          153.79286193847656,
          2217.141845703125,
          465.6339416503906,
          67.7303237915039,
          162.97621154785156,
          14777.146484375,
          13.694141387939451,
          401.70611572265625,
          280.6016540527344,
          528.5111083984375,
          232.1396484375,
          2007.9857177734373,
          134.77569580078125,
          30.829347610473636,
          30.829347610473636,
          30.829347610473636,
          30.829347610473636,
          30.829347610473636,
          30.829347610473636,
          30.829347610473636,
          30.829347610473636,
          30.829347610473636,
          30.829347610473636,
          30.829347610473636,
          30.829347610473636,
          30.829347610473636,
          30.829347610473636,
          30.829347610473636,
          30.829347610473636,
          30.829347610473636,
          30.829347610473636,
          30.829347610473636,
          30.829347610473636,
          30.829347610473636,
          30.829347610473636,
          30.829347610473636,
          30.829347610473636,
          30.829347610473636,
          30.829347610473636,
          30.829347610473636
         ],
         "yaxis": "y"
        },
        {
         "hovertemplate": "variable=con restricciones con repetitividad normalizado<br>index=%{x}<br>value=%{y}<extra></extra>",
         "legendgroup": "con restricciones con repetitividad normalizado",
         "line": {
          "color": "#B6E880",
          "dash": "solid"
         },
         "marker": {
          "symbol": "circle"
         },
         "mode": "lines",
         "name": "con restricciones con repetitividad normalizado",
         "orientation": "v",
         "showlegend": true,
         "type": "scatter",
         "x": [
          0,
          1,
          2,
          3,
          4,
          5,
          6,
          7,
          8,
          9,
          10,
          11,
          12,
          13,
          14,
          15,
          16,
          17,
          18,
          19,
          20,
          21,
          22,
          23,
          24,
          25,
          26,
          27,
          28,
          29,
          30,
          31,
          32,
          33,
          34,
          35,
          36,
          37,
          38,
          39,
          40,
          41,
          42,
          43,
          44,
          45,
          46,
          47,
          48,
          49,
          50,
          51,
          52,
          53,
          54,
          55,
          56
         ],
         "xaxis": "x",
         "y": [
          1697.283935546875,
          1280.2564697265625,
          1495.20361328125,
          1577.6787109375,
          1.191115140914917,
          4.441978454589844,
          -0.0994904562830925,
          -0.1382651478052139,
          0.9681898951530457,
          -0.1950704455375671,
          3.5523674488067627,
          3.5523674488067627,
          3.5523674488067627,
          3.5523674488067627,
          3.5523674488067627,
          3.5523674488067627,
          3.5523674488067627,
          3.5523674488067627,
          3.5523674488067627,
          3.5523674488067627,
          3.5523674488067627,
          3.5523674488067627,
          3.5523674488067627,
          3.5523674488067627,
          3.5523674488067627,
          3.5523674488067627,
          3.5523674488067627,
          3.5523674488067627,
          3.5523674488067627,
          3.5523674488067627,
          3.5523674488067627,
          3.5523674488067627,
          3.5523674488067627,
          3.5523674488067627,
          3.5523674488067627,
          3.5523674488067627,
          3.5523674488067627,
          3.5523674488067627,
          3.5523674488067627,
          3.5523674488067627,
          3.5523674488067627,
          3.5523674488067627,
          3.5523674488067627,
          3.5523674488067627,
          3.5523674488067627,
          3.5523674488067627,
          3.5523674488067627,
          3.5523674488067627,
          3.5523674488067627,
          3.5523674488067627,
          3.5523674488067627,
          3.5523674488067627,
          3.5523674488067627,
          3.5523674488067627,
          3.5523674488067627,
          3.5523674488067627,
          3.5523674488067627
         ],
         "yaxis": "y"
        }
       ],
       "layout": {
        "autosize": false,
        "height": 800,
        "legend": {
         "title": {
          "text": "variable"
         },
         "tracegroupgap": 0
        },
        "template": {
         "data": {
          "bar": [
           {
            "error_x": {
             "color": "#2a3f5f"
            },
            "error_y": {
             "color": "#2a3f5f"
            },
            "marker": {
             "line": {
              "color": "#E5ECF6",
              "width": 0.5
             },
             "pattern": {
              "fillmode": "overlay",
              "size": 10,
              "solidity": 0.2
             }
            },
            "type": "bar"
           }
          ],
          "barpolar": [
           {
            "marker": {
             "line": {
              "color": "#E5ECF6",
              "width": 0.5
             },
             "pattern": {
              "fillmode": "overlay",
              "size": 10,
              "solidity": 0.2
             }
            },
            "type": "barpolar"
           }
          ],
          "carpet": [
           {
            "aaxis": {
             "endlinecolor": "#2a3f5f",
             "gridcolor": "white",
             "linecolor": "white",
             "minorgridcolor": "white",
             "startlinecolor": "#2a3f5f"
            },
            "baxis": {
             "endlinecolor": "#2a3f5f",
             "gridcolor": "white",
             "linecolor": "white",
             "minorgridcolor": "white",
             "startlinecolor": "#2a3f5f"
            },
            "type": "carpet"
           }
          ],
          "choropleth": [
           {
            "colorbar": {
             "outlinewidth": 0,
             "ticks": ""
            },
            "type": "choropleth"
           }
          ],
          "contour": [
           {
            "colorbar": {
             "outlinewidth": 0,
             "ticks": ""
            },
            "colorscale": [
             [
              0,
              "#0d0887"
             ],
             [
              0.1111111111111111,
              "#46039f"
             ],
             [
              0.2222222222222222,
              "#7201a8"
             ],
             [
              0.3333333333333333,
              "#9c179e"
             ],
             [
              0.4444444444444444,
              "#bd3786"
             ],
             [
              0.5555555555555556,
              "#d8576b"
             ],
             [
              0.6666666666666666,
              "#ed7953"
             ],
             [
              0.7777777777777778,
              "#fb9f3a"
             ],
             [
              0.8888888888888888,
              "#fdca26"
             ],
             [
              1,
              "#f0f921"
             ]
            ],
            "type": "contour"
           }
          ],
          "contourcarpet": [
           {
            "colorbar": {
             "outlinewidth": 0,
             "ticks": ""
            },
            "type": "contourcarpet"
           }
          ],
          "heatmap": [
           {
            "colorbar": {
             "outlinewidth": 0,
             "ticks": ""
            },
            "colorscale": [
             [
              0,
              "#0d0887"
             ],
             [
              0.1111111111111111,
              "#46039f"
             ],
             [
              0.2222222222222222,
              "#7201a8"
             ],
             [
              0.3333333333333333,
              "#9c179e"
             ],
             [
              0.4444444444444444,
              "#bd3786"
             ],
             [
              0.5555555555555556,
              "#d8576b"
             ],
             [
              0.6666666666666666,
              "#ed7953"
             ],
             [
              0.7777777777777778,
              "#fb9f3a"
             ],
             [
              0.8888888888888888,
              "#fdca26"
             ],
             [
              1,
              "#f0f921"
             ]
            ],
            "type": "heatmap"
           }
          ],
          "heatmapgl": [
           {
            "colorbar": {
             "outlinewidth": 0,
             "ticks": ""
            },
            "colorscale": [
             [
              0,
              "#0d0887"
             ],
             [
              0.1111111111111111,
              "#46039f"
             ],
             [
              0.2222222222222222,
              "#7201a8"
             ],
             [
              0.3333333333333333,
              "#9c179e"
             ],
             [
              0.4444444444444444,
              "#bd3786"
             ],
             [
              0.5555555555555556,
              "#d8576b"
             ],
             [
              0.6666666666666666,
              "#ed7953"
             ],
             [
              0.7777777777777778,
              "#fb9f3a"
             ],
             [
              0.8888888888888888,
              "#fdca26"
             ],
             [
              1,
              "#f0f921"
             ]
            ],
            "type": "heatmapgl"
           }
          ],
          "histogram": [
           {
            "marker": {
             "pattern": {
              "fillmode": "overlay",
              "size": 10,
              "solidity": 0.2
             }
            },
            "type": "histogram"
           }
          ],
          "histogram2d": [
           {
            "colorbar": {
             "outlinewidth": 0,
             "ticks": ""
            },
            "colorscale": [
             [
              0,
              "#0d0887"
             ],
             [
              0.1111111111111111,
              "#46039f"
             ],
             [
              0.2222222222222222,
              "#7201a8"
             ],
             [
              0.3333333333333333,
              "#9c179e"
             ],
             [
              0.4444444444444444,
              "#bd3786"
             ],
             [
              0.5555555555555556,
              "#d8576b"
             ],
             [
              0.6666666666666666,
              "#ed7953"
             ],
             [
              0.7777777777777778,
              "#fb9f3a"
             ],
             [
              0.8888888888888888,
              "#fdca26"
             ],
             [
              1,
              "#f0f921"
             ]
            ],
            "type": "histogram2d"
           }
          ],
          "histogram2dcontour": [
           {
            "colorbar": {
             "outlinewidth": 0,
             "ticks": ""
            },
            "colorscale": [
             [
              0,
              "#0d0887"
             ],
             [
              0.1111111111111111,
              "#46039f"
             ],
             [
              0.2222222222222222,
              "#7201a8"
             ],
             [
              0.3333333333333333,
              "#9c179e"
             ],
             [
              0.4444444444444444,
              "#bd3786"
             ],
             [
              0.5555555555555556,
              "#d8576b"
             ],
             [
              0.6666666666666666,
              "#ed7953"
             ],
             [
              0.7777777777777778,
              "#fb9f3a"
             ],
             [
              0.8888888888888888,
              "#fdca26"
             ],
             [
              1,
              "#f0f921"
             ]
            ],
            "type": "histogram2dcontour"
           }
          ],
          "mesh3d": [
           {
            "colorbar": {
             "outlinewidth": 0,
             "ticks": ""
            },
            "type": "mesh3d"
           }
          ],
          "parcoords": [
           {
            "line": {
             "colorbar": {
              "outlinewidth": 0,
              "ticks": ""
             }
            },
            "type": "parcoords"
           }
          ],
          "pie": [
           {
            "automargin": true,
            "type": "pie"
           }
          ],
          "scatter": [
           {
            "marker": {
             "colorbar": {
              "outlinewidth": 0,
              "ticks": ""
             }
            },
            "type": "scatter"
           }
          ],
          "scatter3d": [
           {
            "line": {
             "colorbar": {
              "outlinewidth": 0,
              "ticks": ""
             }
            },
            "marker": {
             "colorbar": {
              "outlinewidth": 0,
              "ticks": ""
             }
            },
            "type": "scatter3d"
           }
          ],
          "scattercarpet": [
           {
            "marker": {
             "colorbar": {
              "outlinewidth": 0,
              "ticks": ""
             }
            },
            "type": "scattercarpet"
           }
          ],
          "scattergeo": [
           {
            "marker": {
             "colorbar": {
              "outlinewidth": 0,
              "ticks": ""
             }
            },
            "type": "scattergeo"
           }
          ],
          "scattergl": [
           {
            "marker": {
             "colorbar": {
              "outlinewidth": 0,
              "ticks": ""
             }
            },
            "type": "scattergl"
           }
          ],
          "scattermapbox": [
           {
            "marker": {
             "colorbar": {
              "outlinewidth": 0,
              "ticks": ""
             }
            },
            "type": "scattermapbox"
           }
          ],
          "scatterpolar": [
           {
            "marker": {
             "colorbar": {
              "outlinewidth": 0,
              "ticks": ""
             }
            },
            "type": "scatterpolar"
           }
          ],
          "scatterpolargl": [
           {
            "marker": {
             "colorbar": {
              "outlinewidth": 0,
              "ticks": ""
             }
            },
            "type": "scatterpolargl"
           }
          ],
          "scatterternary": [
           {
            "marker": {
             "colorbar": {
              "outlinewidth": 0,
              "ticks": ""
             }
            },
            "type": "scatterternary"
           }
          ],
          "surface": [
           {
            "colorbar": {
             "outlinewidth": 0,
             "ticks": ""
            },
            "colorscale": [
             [
              0,
              "#0d0887"
             ],
             [
              0.1111111111111111,
              "#46039f"
             ],
             [
              0.2222222222222222,
              "#7201a8"
             ],
             [
              0.3333333333333333,
              "#9c179e"
             ],
             [
              0.4444444444444444,
              "#bd3786"
             ],
             [
              0.5555555555555556,
              "#d8576b"
             ],
             [
              0.6666666666666666,
              "#ed7953"
             ],
             [
              0.7777777777777778,
              "#fb9f3a"
             ],
             [
              0.8888888888888888,
              "#fdca26"
             ],
             [
              1,
              "#f0f921"
             ]
            ],
            "type": "surface"
           }
          ],
          "table": [
           {
            "cells": {
             "fill": {
              "color": "#EBF0F8"
             },
             "line": {
              "color": "white"
             }
            },
            "header": {
             "fill": {
              "color": "#C8D4E3"
             },
             "line": {
              "color": "white"
             }
            },
            "type": "table"
           }
          ]
         },
         "layout": {
          "annotationdefaults": {
           "arrowcolor": "#2a3f5f",
           "arrowhead": 0,
           "arrowwidth": 1
          },
          "autotypenumbers": "strict",
          "coloraxis": {
           "colorbar": {
            "outlinewidth": 0,
            "ticks": ""
           }
          },
          "colorscale": {
           "diverging": [
            [
             0,
             "#8e0152"
            ],
            [
             0.1,
             "#c51b7d"
            ],
            [
             0.2,
             "#de77ae"
            ],
            [
             0.3,
             "#f1b6da"
            ],
            [
             0.4,
             "#fde0ef"
            ],
            [
             0.5,
             "#f7f7f7"
            ],
            [
             0.6,
             "#e6f5d0"
            ],
            [
             0.7,
             "#b8e186"
            ],
            [
             0.8,
             "#7fbc41"
            ],
            [
             0.9,
             "#4d9221"
            ],
            [
             1,
             "#276419"
            ]
           ],
           "sequential": [
            [
             0,
             "#0d0887"
            ],
            [
             0.1111111111111111,
             "#46039f"
            ],
            [
             0.2222222222222222,
             "#7201a8"
            ],
            [
             0.3333333333333333,
             "#9c179e"
            ],
            [
             0.4444444444444444,
             "#bd3786"
            ],
            [
             0.5555555555555556,
             "#d8576b"
            ],
            [
             0.6666666666666666,
             "#ed7953"
            ],
            [
             0.7777777777777778,
             "#fb9f3a"
            ],
            [
             0.8888888888888888,
             "#fdca26"
            ],
            [
             1,
             "#f0f921"
            ]
           ],
           "sequentialminus": [
            [
             0,
             "#0d0887"
            ],
            [
             0.1111111111111111,
             "#46039f"
            ],
            [
             0.2222222222222222,
             "#7201a8"
            ],
            [
             0.3333333333333333,
             "#9c179e"
            ],
            [
             0.4444444444444444,
             "#bd3786"
            ],
            [
             0.5555555555555556,
             "#d8576b"
            ],
            [
             0.6666666666666666,
             "#ed7953"
            ],
            [
             0.7777777777777778,
             "#fb9f3a"
            ],
            [
             0.8888888888888888,
             "#fdca26"
            ],
            [
             1,
             "#f0f921"
            ]
           ]
          },
          "colorway": [
           "#636efa",
           "#EF553B",
           "#00cc96",
           "#ab63fa",
           "#FFA15A",
           "#19d3f3",
           "#FF6692",
           "#B6E880",
           "#FF97FF",
           "#FECB52"
          ],
          "font": {
           "color": "#2a3f5f"
          },
          "geo": {
           "bgcolor": "white",
           "lakecolor": "white",
           "landcolor": "#E5ECF6",
           "showlakes": true,
           "showland": true,
           "subunitcolor": "white"
          },
          "hoverlabel": {
           "align": "left"
          },
          "hovermode": "closest",
          "mapbox": {
           "style": "light"
          },
          "paper_bgcolor": "white",
          "plot_bgcolor": "#E5ECF6",
          "polar": {
           "angularaxis": {
            "gridcolor": "white",
            "linecolor": "white",
            "ticks": ""
           },
           "bgcolor": "#E5ECF6",
           "radialaxis": {
            "gridcolor": "white",
            "linecolor": "white",
            "ticks": ""
           }
          },
          "scene": {
           "xaxis": {
            "backgroundcolor": "#E5ECF6",
            "gridcolor": "white",
            "gridwidth": 2,
            "linecolor": "white",
            "showbackground": true,
            "ticks": "",
            "zerolinecolor": "white"
           },
           "yaxis": {
            "backgroundcolor": "#E5ECF6",
            "gridcolor": "white",
            "gridwidth": 2,
            "linecolor": "white",
            "showbackground": true,
            "ticks": "",
            "zerolinecolor": "white"
           },
           "zaxis": {
            "backgroundcolor": "#E5ECF6",
            "gridcolor": "white",
            "gridwidth": 2,
            "linecolor": "white",
            "showbackground": true,
            "ticks": "",
            "zerolinecolor": "white"
           }
          },
          "shapedefaults": {
           "line": {
            "color": "#2a3f5f"
           }
          },
          "ternary": {
           "aaxis": {
            "gridcolor": "white",
            "linecolor": "white",
            "ticks": ""
           },
           "baxis": {
            "gridcolor": "white",
            "linecolor": "white",
            "ticks": ""
           },
           "bgcolor": "#E5ECF6",
           "caxis": {
            "gridcolor": "white",
            "linecolor": "white",
            "ticks": ""
           }
          },
          "title": {
           "x": 0.05
          },
          "xaxis": {
           "automargin": true,
           "gridcolor": "white",
           "linecolor": "white",
           "ticks": "",
           "title": {
            "standoff": 15
           },
           "zerolinecolor": "white",
           "zerolinewidth": 2
          },
          "yaxis": {
           "automargin": true,
           "gridcolor": "white",
           "linecolor": "white",
           "ticks": "",
           "title": {
            "standoff": 15
           },
           "zerolinecolor": "white",
           "zerolinewidth": 2
          }
         }
        },
        "title": {
         "text": "Loss Function over 1H of Training"
        },
        "width": 1600,
        "xaxis": {
         "anchor": "y",
         "domain": [
          0,
          1
         ],
         "title": {
          "text": "Iteration"
         }
        },
        "yaxis": {
         "anchor": "x",
         "domain": [
          0,
          1
         ],
         "title": {
          "text": "Loss"
         }
        }
       }
      }
     },
     "metadata": {},
     "output_type": "display_data"
    }
   ],
   "source": [
    "fig = px.line(loss_df, title='Loss Function over 1H of Training')\n",
    "fig.update_xaxes(title_text='Iteration')\n",
    "fig.update_yaxes(title_text='Loss')\n",
    "\n",
    "fig.update_layout(\n",
    "    autosize=False,\n",
    "    width=1600,\n",
    "    height=800,)\n",
    "\n",
    "fig.show()"
   ]
  },
  {
   "cell_type": "code",
   "execution_count": 20,
   "metadata": {},
   "outputs": [
    {
     "data": {
      "application/vnd.plotly.v1+json": {
       "config": {
        "plotlyServerURL": "https://plot.ly"
       },
       "data": [
        {
         "hovertemplate": "variable=sin restricciones sin repetitividad sin normalizar<br>index=%{x}<br>value=%{y}<extra></extra>",
         "legendgroup": "sin restricciones sin repetitividad sin normalizar",
         "line": {
          "color": "#636efa",
          "dash": "solid"
         },
         "marker": {
          "symbol": "circle"
         },
         "mode": "lines",
         "name": "sin restricciones sin repetitividad sin normalizar",
         "orientation": "v",
         "showlegend": true,
         "type": "scatter",
         "x": [
          0,
          1,
          2,
          3,
          4,
          5,
          6,
          7,
          8,
          9,
          10,
          11,
          12,
          13,
          14,
          15,
          16,
          17,
          18,
          19,
          20,
          21,
          22,
          23,
          24,
          25,
          26,
          27,
          28,
          29,
          30,
          31,
          32,
          33,
          34,
          35,
          36,
          37,
          38,
          39,
          40,
          41,
          42,
          43,
          44,
          45,
          46,
          47,
          48,
          49,
          50,
          51,
          52,
          53,
          54,
          55,
          56
         ],
         "xaxis": "x",
         "y": [
          4.75,
          5.35,
          5.85,
          7.225,
          7.4,
          7.525,
          8.375,
          8.05,
          8.675,
          9.475,
          9.825,
          9.65,
          10.35,
          10.05,
          10.4,
          11.45,
          3.225,
          7.725,
          12,
          12.85,
          12,
          11.75,
          12.4,
          12.975,
          6.875,
          6.975,
          6.225,
          6.3,
          10.275,
          9.95,
          10.325,
          10.475,
          10.625,
          10.55,
          10.65,
          11.425,
          6.975,
          11.05,
          13,
          7.8,
          7.05,
          12.9,
          13,
          11.55,
          10,
          13,
          12.8,
          12.85,
          13,
          13,
          13,
          13,
          13,
          13,
          13,
          13,
          13
         ],
         "yaxis": "y"
        },
        {
         "hovertemplate": "variable=con restricciones sin repetitividad sin normalizar<br>index=%{x}<br>value=%{y}<extra></extra>",
         "legendgroup": "con restricciones sin repetitividad sin normalizar",
         "line": {
          "color": "#EF553B",
          "dash": "solid"
         },
         "marker": {
          "symbol": "circle"
         },
         "mode": "lines",
         "name": "con restricciones sin repetitividad sin normalizar",
         "orientation": "v",
         "showlegend": true,
         "type": "scatter",
         "x": [
          0,
          1,
          2,
          3,
          4,
          5,
          6,
          7,
          8,
          9,
          10,
          11,
          12,
          13,
          14,
          15,
          16,
          17,
          18,
          19,
          20,
          21,
          22,
          23,
          24,
          25,
          26,
          27,
          28,
          29,
          30,
          31,
          32,
          33,
          34,
          35,
          36,
          37,
          38,
          39,
          40,
          41,
          42,
          43,
          44,
          45,
          46,
          47,
          48,
          49,
          50,
          51,
          52,
          53,
          54,
          55,
          56
         ],
         "xaxis": "x",
         "y": [
          1.4285714285714286,
          2.275,
          4.45,
          5.675,
          6.075,
          6.45,
          6.55,
          6.8,
          7.5,
          6.6,
          6.95,
          7,
          7.45,
          8.225,
          8.375,
          8.125,
          7.425,
          7.1,
          7.05,
          7.4,
          7.15,
          8.175,
          7.675,
          7,
          6.975,
          7.025,
          7.05,
          6.875,
          7.675,
          8.125,
          8.375,
          9.125,
          7.225,
          7.075,
          7.9,
          6.575,
          9.425,
          4.475,
          4.725,
          6.05,
          7.05,
          6.425,
          6.25,
          6.95,
          7.55,
          8.475,
          6.275,
          6.05,
          9.175,
          6.7,
          7.025,
          8.55,
          9.6,
          9.075,
          9.575,
          6.95,
          7.75
         ],
         "yaxis": "y"
        },
        {
         "hovertemplate": "variable=sin restricciones con repetitividad sin normalizar<br>index=%{x}<br>value=%{y}<extra></extra>",
         "legendgroup": "sin restricciones con repetitividad sin normalizar",
         "line": {
          "color": "#00cc96",
          "dash": "solid"
         },
         "marker": {
          "symbol": "circle"
         },
         "mode": "lines",
         "name": "sin restricciones con repetitividad sin normalizar",
         "orientation": "v",
         "showlegend": true,
         "type": "scatter",
         "x": [
          0,
          1,
          2,
          3,
          4,
          5,
          6,
          7,
          8,
          9,
          10,
          11,
          12,
          13,
          14,
          15,
          16,
          17,
          18,
          19,
          20,
          21,
          22,
          23,
          24,
          25,
          26,
          27,
          28,
          29,
          30,
          31,
          32,
          33,
          34,
          35,
          36,
          37,
          38,
          39,
          40,
          41,
          42,
          43,
          44,
          45,
          46,
          47,
          48,
          49,
          50,
          51,
          52,
          53,
          54,
          55,
          56
         ],
         "xaxis": "x",
         "y": [
          6.333333333333333,
          8.45,
          13.875,
          23.975,
          61.575,
          91.925,
          64.65,
          58.4,
          91.825,
          104.2,
          90.675,
          118.175,
          134.225,
          134.225,
          134.225,
          134.225,
          134.225,
          134.225,
          134.225,
          134.225,
          134.225,
          134.225,
          134.225,
          134.225,
          134.225,
          134.225,
          134.225,
          134.225,
          134.225,
          134.225,
          134.225,
          134.225,
          134.225,
          134.225,
          134.225,
          134.225,
          134.225,
          134.225,
          134.225,
          134.225,
          134.225,
          134.225,
          134.225,
          134.225,
          134.225,
          134.225,
          134.225,
          134.225,
          134.225,
          134.225,
          134.225,
          134.225,
          134.225,
          134.225,
          134.225,
          134.225,
          134.225
         ],
         "yaxis": "y"
        },
        {
         "hovertemplate": "variable=con restricciones con repetitividad sin normalizar<br>index=%{x}<br>value=%{y}<extra></extra>",
         "legendgroup": "con restricciones con repetitividad sin normalizar",
         "line": {
          "color": "#ab63fa",
          "dash": "solid"
         },
         "marker": {
          "symbol": "circle"
         },
         "mode": "lines",
         "name": "con restricciones con repetitividad sin normalizar",
         "orientation": "v",
         "showlegend": true,
         "type": "scatter",
         "x": [
          0,
          1,
          2,
          3,
          4,
          5,
          6,
          7,
          8,
          9,
          10,
          11,
          12,
          13,
          14,
          15,
          16,
          17,
          18,
          19,
          20,
          21,
          22,
          23,
          24,
          25,
          26,
          27,
          28,
          29,
          30,
          31,
          32,
          33,
          34,
          35,
          36,
          37,
          38,
          39,
          40,
          41,
          42,
          43,
          44,
          45,
          46,
          47,
          48,
          49,
          50,
          51,
          52,
          53,
          54,
          55,
          56
         ],
         "xaxis": "x",
         "y": [
          1.4285714285714286,
          2.475,
          6.425,
          7.65,
          17.55,
          42.95,
          84.85,
          130.15,
          7.45,
          10.1,
          34.25,
          34.25,
          34.25,
          34.25,
          34.25,
          34.25,
          34.25,
          34.25,
          34.25,
          34.25,
          34.25,
          34.25,
          34.25,
          34.25,
          34.25,
          34.25,
          34.25,
          34.25,
          34.25,
          34.25,
          34.25,
          34.25,
          34.25,
          34.25,
          34.25,
          34.25,
          34.25,
          34.25,
          34.25,
          34.25,
          34.25,
          34.25,
          34.25,
          34.25,
          34.25,
          34.25,
          34.25,
          34.25,
          34.25,
          34.25,
          34.25,
          34.25,
          34.25,
          34.25,
          34.25,
          34.25,
          34.25
         ],
         "yaxis": "y"
        },
        {
         "hovertemplate": "variable=sin restricciones sin repetitividad normalizado<br>index=%{x}<br>value=%{y}<extra></extra>",
         "legendgroup": "sin restricciones sin repetitividad normalizado",
         "line": {
          "color": "#FFA15A",
          "dash": "solid"
         },
         "marker": {
          "symbol": "circle"
         },
         "mode": "lines",
         "name": "sin restricciones sin repetitividad normalizado",
         "orientation": "v",
         "showlegend": true,
         "type": "scatter",
         "x": [
          0,
          1,
          2,
          3,
          4,
          5,
          6,
          7,
          8,
          9,
          10,
          11,
          12,
          13,
          14,
          15,
          16,
          17,
          18,
          19,
          20,
          21,
          22,
          23,
          24,
          25,
          26,
          27,
          28,
          29,
          30,
          31,
          32,
          33,
          34,
          35,
          36,
          37,
          38,
          39,
          40,
          41,
          42,
          43,
          44,
          45,
          46,
          47,
          48,
          49,
          50,
          51,
          52,
          53,
          54,
          55,
          56
         ],
         "xaxis": "x",
         "y": [
          4.75,
          5.275,
          5.55,
          6.7,
          7.2,
          7.675,
          8.25,
          7.875,
          9.15,
          9.175,
          9.675,
          9.475,
          9.075,
          3.025,
          9.8,
          10.1,
          10.125,
          10.025,
          9.85,
          5.025,
          6.325,
          9.95,
          2,
          7.3,
          9.8,
          9.95,
          10.25,
          9.7,
          6.2,
          7,
          9,
          8.375,
          7.15,
          9.775,
          8.025,
          11.05,
          10,
          9.325,
          10.375,
          11.725,
          9.125,
          10.05,
          10,
          10.2,
          12,
          12.15,
          12.475,
          12.75,
          12.85,
          12.25,
          12.375,
          9.975,
          12.6,
          12.75,
          13,
          13,
          12.975
         ],
         "yaxis": "y"
        },
        {
         "hovertemplate": "variable=sin restricciones con repetitividad normalizado<br>index=%{x}<br>value=%{y}<extra></extra>",
         "legendgroup": "sin restricciones con repetitividad normalizado",
         "line": {
          "color": "#19d3f3",
          "dash": "solid"
         },
         "marker": {
          "symbol": "circle"
         },
         "mode": "lines",
         "name": "sin restricciones con repetitividad normalizado",
         "orientation": "v",
         "showlegend": true,
         "type": "scatter",
         "x": [
          0,
          1,
          2,
          3,
          4,
          5,
          6,
          7,
          8,
          9,
          10,
          11,
          12,
          13,
          14,
          15,
          16,
          17,
          18,
          19,
          20,
          21,
          22,
          23,
          24,
          25,
          26,
          27,
          28,
          29,
          30,
          31,
          32,
          33,
          34,
          35,
          36,
          37,
          38,
          39,
          40,
          41,
          42,
          43,
          44,
          45,
          46,
          47,
          48,
          49,
          50,
          51,
          52,
          53,
          54,
          55,
          56
         ],
         "xaxis": "x",
         "y": [
          6.333333333333333,
          9.025,
          15.325,
          23.95,
          46.05,
          72.3,
          115.075,
          131.225,
          75,
          51.65,
          76.325,
          103.325,
          139,
          137.125,
          191.45,
          227.475,
          247.925,
          242.175,
          215.8,
          194.175,
          209.825,
          209.825,
          209.825,
          209.825,
          209.825,
          209.825,
          209.825,
          209.825,
          209.825,
          209.825,
          209.825,
          209.825,
          209.825,
          209.825,
          209.825,
          209.825,
          209.825,
          209.825,
          209.825,
          209.825,
          209.825,
          209.825,
          209.825,
          209.825,
          209.825,
          209.825,
          209.825,
          209.825,
          209.825,
          209.825,
          209.825,
          209.825,
          209.825,
          209.825,
          209.825,
          209.825,
          209.825
         ],
         "yaxis": "y"
        },
        {
         "hovertemplate": "variable=con restricciones sin repetitividad normalizado<br>index=%{x}<br>value=%{y}<extra></extra>",
         "legendgroup": "con restricciones sin repetitividad normalizado",
         "line": {
          "color": "#FF6692",
          "dash": "solid"
         },
         "marker": {
          "symbol": "circle"
         },
         "mode": "lines",
         "name": "con restricciones sin repetitividad normalizado",
         "orientation": "v",
         "showlegend": true,
         "type": "scatter",
         "x": [
          0,
          1,
          2,
          3,
          4,
          5,
          6,
          7,
          8,
          9,
          10,
          11,
          12,
          13,
          14,
          15,
          16,
          17,
          18,
          19,
          20,
          21,
          22,
          23,
          24,
          25,
          26,
          27,
          28,
          29,
          30,
          31,
          32,
          33,
          34,
          35,
          36,
          37,
          38,
          39,
          40,
          41,
          42,
          43,
          44,
          45,
          46,
          47,
          48,
          49,
          50,
          51,
          52,
          53,
          54,
          55,
          56
         ],
         "xaxis": "x",
         "y": [
          1.4285714285714286,
          2.3,
          5.05,
          5.225,
          6.1,
          6.3,
          7.025,
          7.45,
          7.15,
          6.3,
          6.025,
          6.7,
          7.325,
          7.325,
          7.275,
          6.6,
          6.025,
          6.175,
          6.15,
          7.625,
          7.925,
          8.275,
          2.25,
          6.975,
          7.025,
          6.75,
          7,
          6.825,
          5.1,
          6.975,
          8.45,
          8.45,
          8.45,
          8.45,
          8.45,
          8.45,
          8.45,
          8.45,
          8.45,
          8.45,
          8.45,
          8.45,
          8.45,
          8.45,
          8.45,
          8.45,
          8.45,
          8.45,
          8.45,
          8.45,
          8.45,
          8.45,
          8.45,
          8.45,
          8.45,
          8.45,
          8.45
         ],
         "yaxis": "y"
        },
        {
         "hovertemplate": "variable=con restricciones con repetitividad normalizado<br>index=%{x}<br>value=%{y}<extra></extra>",
         "legendgroup": "con restricciones con repetitividad normalizado",
         "line": {
          "color": "#B6E880",
          "dash": "solid"
         },
         "marker": {
          "symbol": "circle"
         },
         "mode": "lines",
         "name": "con restricciones con repetitividad normalizado",
         "orientation": "v",
         "showlegend": true,
         "type": "scatter",
         "x": [
          0,
          1,
          2,
          3,
          4,
          5,
          6,
          7,
          8,
          9,
          10,
          11,
          12,
          13,
          14,
          15,
          16,
          17,
          18,
          19,
          20,
          21,
          22,
          23,
          24,
          25,
          26,
          27,
          28,
          29,
          30,
          31,
          32,
          33,
          34,
          35,
          36,
          37,
          38,
          39,
          40,
          41,
          42,
          43,
          44,
          45,
          46,
          47,
          48,
          49,
          50,
          51,
          52,
          53,
          54,
          55,
          56
         ],
         "xaxis": "x",
         "y": [
          1.4285714285714286,
          2.475,
          7.075,
          8.7,
          38.15,
          72.225,
          108.575,
          128.075,
          128.075,
          222.15,
          284.125,
          284.125,
          284.125,
          284.125,
          284.125,
          284.125,
          284.125,
          284.125,
          284.125,
          284.125,
          284.125,
          284.125,
          284.125,
          284.125,
          284.125,
          284.125,
          284.125,
          284.125,
          284.125,
          284.125,
          284.125,
          284.125,
          284.125,
          284.125,
          284.125,
          284.125,
          284.125,
          284.125,
          284.125,
          284.125,
          284.125,
          284.125,
          284.125,
          284.125,
          284.125,
          284.125,
          284.125,
          284.125,
          284.125,
          284.125,
          284.125,
          284.125,
          284.125,
          284.125,
          284.125,
          284.125,
          284.125
         ],
         "yaxis": "y"
        }
       ],
       "layout": {
        "autosize": false,
        "height": 800,
        "legend": {
         "title": {
          "text": "variable"
         },
         "tracegroupgap": 0
        },
        "template": {
         "data": {
          "bar": [
           {
            "error_x": {
             "color": "#2a3f5f"
            },
            "error_y": {
             "color": "#2a3f5f"
            },
            "marker": {
             "line": {
              "color": "#E5ECF6",
              "width": 0.5
             },
             "pattern": {
              "fillmode": "overlay",
              "size": 10,
              "solidity": 0.2
             }
            },
            "type": "bar"
           }
          ],
          "barpolar": [
           {
            "marker": {
             "line": {
              "color": "#E5ECF6",
              "width": 0.5
             },
             "pattern": {
              "fillmode": "overlay",
              "size": 10,
              "solidity": 0.2
             }
            },
            "type": "barpolar"
           }
          ],
          "carpet": [
           {
            "aaxis": {
             "endlinecolor": "#2a3f5f",
             "gridcolor": "white",
             "linecolor": "white",
             "minorgridcolor": "white",
             "startlinecolor": "#2a3f5f"
            },
            "baxis": {
             "endlinecolor": "#2a3f5f",
             "gridcolor": "white",
             "linecolor": "white",
             "minorgridcolor": "white",
             "startlinecolor": "#2a3f5f"
            },
            "type": "carpet"
           }
          ],
          "choropleth": [
           {
            "colorbar": {
             "outlinewidth": 0,
             "ticks": ""
            },
            "type": "choropleth"
           }
          ],
          "contour": [
           {
            "colorbar": {
             "outlinewidth": 0,
             "ticks": ""
            },
            "colorscale": [
             [
              0,
              "#0d0887"
             ],
             [
              0.1111111111111111,
              "#46039f"
             ],
             [
              0.2222222222222222,
              "#7201a8"
             ],
             [
              0.3333333333333333,
              "#9c179e"
             ],
             [
              0.4444444444444444,
              "#bd3786"
             ],
             [
              0.5555555555555556,
              "#d8576b"
             ],
             [
              0.6666666666666666,
              "#ed7953"
             ],
             [
              0.7777777777777778,
              "#fb9f3a"
             ],
             [
              0.8888888888888888,
              "#fdca26"
             ],
             [
              1,
              "#f0f921"
             ]
            ],
            "type": "contour"
           }
          ],
          "contourcarpet": [
           {
            "colorbar": {
             "outlinewidth": 0,
             "ticks": ""
            },
            "type": "contourcarpet"
           }
          ],
          "heatmap": [
           {
            "colorbar": {
             "outlinewidth": 0,
             "ticks": ""
            },
            "colorscale": [
             [
              0,
              "#0d0887"
             ],
             [
              0.1111111111111111,
              "#46039f"
             ],
             [
              0.2222222222222222,
              "#7201a8"
             ],
             [
              0.3333333333333333,
              "#9c179e"
             ],
             [
              0.4444444444444444,
              "#bd3786"
             ],
             [
              0.5555555555555556,
              "#d8576b"
             ],
             [
              0.6666666666666666,
              "#ed7953"
             ],
             [
              0.7777777777777778,
              "#fb9f3a"
             ],
             [
              0.8888888888888888,
              "#fdca26"
             ],
             [
              1,
              "#f0f921"
             ]
            ],
            "type": "heatmap"
           }
          ],
          "heatmapgl": [
           {
            "colorbar": {
             "outlinewidth": 0,
             "ticks": ""
            },
            "colorscale": [
             [
              0,
              "#0d0887"
             ],
             [
              0.1111111111111111,
              "#46039f"
             ],
             [
              0.2222222222222222,
              "#7201a8"
             ],
             [
              0.3333333333333333,
              "#9c179e"
             ],
             [
              0.4444444444444444,
              "#bd3786"
             ],
             [
              0.5555555555555556,
              "#d8576b"
             ],
             [
              0.6666666666666666,
              "#ed7953"
             ],
             [
              0.7777777777777778,
              "#fb9f3a"
             ],
             [
              0.8888888888888888,
              "#fdca26"
             ],
             [
              1,
              "#f0f921"
             ]
            ],
            "type": "heatmapgl"
           }
          ],
          "histogram": [
           {
            "marker": {
             "pattern": {
              "fillmode": "overlay",
              "size": 10,
              "solidity": 0.2
             }
            },
            "type": "histogram"
           }
          ],
          "histogram2d": [
           {
            "colorbar": {
             "outlinewidth": 0,
             "ticks": ""
            },
            "colorscale": [
             [
              0,
              "#0d0887"
             ],
             [
              0.1111111111111111,
              "#46039f"
             ],
             [
              0.2222222222222222,
              "#7201a8"
             ],
             [
              0.3333333333333333,
              "#9c179e"
             ],
             [
              0.4444444444444444,
              "#bd3786"
             ],
             [
              0.5555555555555556,
              "#d8576b"
             ],
             [
              0.6666666666666666,
              "#ed7953"
             ],
             [
              0.7777777777777778,
              "#fb9f3a"
             ],
             [
              0.8888888888888888,
              "#fdca26"
             ],
             [
              1,
              "#f0f921"
             ]
            ],
            "type": "histogram2d"
           }
          ],
          "histogram2dcontour": [
           {
            "colorbar": {
             "outlinewidth": 0,
             "ticks": ""
            },
            "colorscale": [
             [
              0,
              "#0d0887"
             ],
             [
              0.1111111111111111,
              "#46039f"
             ],
             [
              0.2222222222222222,
              "#7201a8"
             ],
             [
              0.3333333333333333,
              "#9c179e"
             ],
             [
              0.4444444444444444,
              "#bd3786"
             ],
             [
              0.5555555555555556,
              "#d8576b"
             ],
             [
              0.6666666666666666,
              "#ed7953"
             ],
             [
              0.7777777777777778,
              "#fb9f3a"
             ],
             [
              0.8888888888888888,
              "#fdca26"
             ],
             [
              1,
              "#f0f921"
             ]
            ],
            "type": "histogram2dcontour"
           }
          ],
          "mesh3d": [
           {
            "colorbar": {
             "outlinewidth": 0,
             "ticks": ""
            },
            "type": "mesh3d"
           }
          ],
          "parcoords": [
           {
            "line": {
             "colorbar": {
              "outlinewidth": 0,
              "ticks": ""
             }
            },
            "type": "parcoords"
           }
          ],
          "pie": [
           {
            "automargin": true,
            "type": "pie"
           }
          ],
          "scatter": [
           {
            "marker": {
             "colorbar": {
              "outlinewidth": 0,
              "ticks": ""
             }
            },
            "type": "scatter"
           }
          ],
          "scatter3d": [
           {
            "line": {
             "colorbar": {
              "outlinewidth": 0,
              "ticks": ""
             }
            },
            "marker": {
             "colorbar": {
              "outlinewidth": 0,
              "ticks": ""
             }
            },
            "type": "scatter3d"
           }
          ],
          "scattercarpet": [
           {
            "marker": {
             "colorbar": {
              "outlinewidth": 0,
              "ticks": ""
             }
            },
            "type": "scattercarpet"
           }
          ],
          "scattergeo": [
           {
            "marker": {
             "colorbar": {
              "outlinewidth": 0,
              "ticks": ""
             }
            },
            "type": "scattergeo"
           }
          ],
          "scattergl": [
           {
            "marker": {
             "colorbar": {
              "outlinewidth": 0,
              "ticks": ""
             }
            },
            "type": "scattergl"
           }
          ],
          "scattermapbox": [
           {
            "marker": {
             "colorbar": {
              "outlinewidth": 0,
              "ticks": ""
             }
            },
            "type": "scattermapbox"
           }
          ],
          "scatterpolar": [
           {
            "marker": {
             "colorbar": {
              "outlinewidth": 0,
              "ticks": ""
             }
            },
            "type": "scatterpolar"
           }
          ],
          "scatterpolargl": [
           {
            "marker": {
             "colorbar": {
              "outlinewidth": 0,
              "ticks": ""
             }
            },
            "type": "scatterpolargl"
           }
          ],
          "scatterternary": [
           {
            "marker": {
             "colorbar": {
              "outlinewidth": 0,
              "ticks": ""
             }
            },
            "type": "scatterternary"
           }
          ],
          "surface": [
           {
            "colorbar": {
             "outlinewidth": 0,
             "ticks": ""
            },
            "colorscale": [
             [
              0,
              "#0d0887"
             ],
             [
              0.1111111111111111,
              "#46039f"
             ],
             [
              0.2222222222222222,
              "#7201a8"
             ],
             [
              0.3333333333333333,
              "#9c179e"
             ],
             [
              0.4444444444444444,
              "#bd3786"
             ],
             [
              0.5555555555555556,
              "#d8576b"
             ],
             [
              0.6666666666666666,
              "#ed7953"
             ],
             [
              0.7777777777777778,
              "#fb9f3a"
             ],
             [
              0.8888888888888888,
              "#fdca26"
             ],
             [
              1,
              "#f0f921"
             ]
            ],
            "type": "surface"
           }
          ],
          "table": [
           {
            "cells": {
             "fill": {
              "color": "#EBF0F8"
             },
             "line": {
              "color": "white"
             }
            },
            "header": {
             "fill": {
              "color": "#C8D4E3"
             },
             "line": {
              "color": "white"
             }
            },
            "type": "table"
           }
          ]
         },
         "layout": {
          "annotationdefaults": {
           "arrowcolor": "#2a3f5f",
           "arrowhead": 0,
           "arrowwidth": 1
          },
          "autotypenumbers": "strict",
          "coloraxis": {
           "colorbar": {
            "outlinewidth": 0,
            "ticks": ""
           }
          },
          "colorscale": {
           "diverging": [
            [
             0,
             "#8e0152"
            ],
            [
             0.1,
             "#c51b7d"
            ],
            [
             0.2,
             "#de77ae"
            ],
            [
             0.3,
             "#f1b6da"
            ],
            [
             0.4,
             "#fde0ef"
            ],
            [
             0.5,
             "#f7f7f7"
            ],
            [
             0.6,
             "#e6f5d0"
            ],
            [
             0.7,
             "#b8e186"
            ],
            [
             0.8,
             "#7fbc41"
            ],
            [
             0.9,
             "#4d9221"
            ],
            [
             1,
             "#276419"
            ]
           ],
           "sequential": [
            [
             0,
             "#0d0887"
            ],
            [
             0.1111111111111111,
             "#46039f"
            ],
            [
             0.2222222222222222,
             "#7201a8"
            ],
            [
             0.3333333333333333,
             "#9c179e"
            ],
            [
             0.4444444444444444,
             "#bd3786"
            ],
            [
             0.5555555555555556,
             "#d8576b"
            ],
            [
             0.6666666666666666,
             "#ed7953"
            ],
            [
             0.7777777777777778,
             "#fb9f3a"
            ],
            [
             0.8888888888888888,
             "#fdca26"
            ],
            [
             1,
             "#f0f921"
            ]
           ],
           "sequentialminus": [
            [
             0,
             "#0d0887"
            ],
            [
             0.1111111111111111,
             "#46039f"
            ],
            [
             0.2222222222222222,
             "#7201a8"
            ],
            [
             0.3333333333333333,
             "#9c179e"
            ],
            [
             0.4444444444444444,
             "#bd3786"
            ],
            [
             0.5555555555555556,
             "#d8576b"
            ],
            [
             0.6666666666666666,
             "#ed7953"
            ],
            [
             0.7777777777777778,
             "#fb9f3a"
            ],
            [
             0.8888888888888888,
             "#fdca26"
            ],
            [
             1,
             "#f0f921"
            ]
           ]
          },
          "colorway": [
           "#636efa",
           "#EF553B",
           "#00cc96",
           "#ab63fa",
           "#FFA15A",
           "#19d3f3",
           "#FF6692",
           "#B6E880",
           "#FF97FF",
           "#FECB52"
          ],
          "font": {
           "color": "#2a3f5f"
          },
          "geo": {
           "bgcolor": "white",
           "lakecolor": "white",
           "landcolor": "#E5ECF6",
           "showlakes": true,
           "showland": true,
           "subunitcolor": "white"
          },
          "hoverlabel": {
           "align": "left"
          },
          "hovermode": "closest",
          "mapbox": {
           "style": "light"
          },
          "paper_bgcolor": "white",
          "plot_bgcolor": "#E5ECF6",
          "polar": {
           "angularaxis": {
            "gridcolor": "white",
            "linecolor": "white",
            "ticks": ""
           },
           "bgcolor": "#E5ECF6",
           "radialaxis": {
            "gridcolor": "white",
            "linecolor": "white",
            "ticks": ""
           }
          },
          "scene": {
           "xaxis": {
            "backgroundcolor": "#E5ECF6",
            "gridcolor": "white",
            "gridwidth": 2,
            "linecolor": "white",
            "showbackground": true,
            "ticks": "",
            "zerolinecolor": "white"
           },
           "yaxis": {
            "backgroundcolor": "#E5ECF6",
            "gridcolor": "white",
            "gridwidth": 2,
            "linecolor": "white",
            "showbackground": true,
            "ticks": "",
            "zerolinecolor": "white"
           },
           "zaxis": {
            "backgroundcolor": "#E5ECF6",
            "gridcolor": "white",
            "gridwidth": 2,
            "linecolor": "white",
            "showbackground": true,
            "ticks": "",
            "zerolinecolor": "white"
           }
          },
          "shapedefaults": {
           "line": {
            "color": "#2a3f5f"
           }
          },
          "ternary": {
           "aaxis": {
            "gridcolor": "white",
            "linecolor": "white",
            "ticks": ""
           },
           "baxis": {
            "gridcolor": "white",
            "linecolor": "white",
            "ticks": ""
           },
           "bgcolor": "#E5ECF6",
           "caxis": {
            "gridcolor": "white",
            "linecolor": "white",
            "ticks": ""
           }
          },
          "title": {
           "x": 0.05
          },
          "xaxis": {
           "automargin": true,
           "gridcolor": "white",
           "linecolor": "white",
           "ticks": "",
           "title": {
            "standoff": 15
           },
           "zerolinecolor": "white",
           "zerolinewidth": 2
          },
          "yaxis": {
           "automargin": true,
           "gridcolor": "white",
           "linecolor": "white",
           "ticks": "",
           "title": {
            "standoff": 15
           },
           "zerolinecolor": "white",
           "zerolinewidth": 2
          }
         }
        },
        "title": {
         "text": "Mean Episode Length over 1H of Training"
        },
        "width": 1600,
        "xaxis": {
         "anchor": "y",
         "domain": [
          0,
          1
         ],
         "title": {
          "text": "Iteration"
         }
        },
        "yaxis": {
         "anchor": "x",
         "domain": [
          0,
          1
         ],
         "title": {
          "text": "episode length"
         }
        }
       }
      }
     },
     "metadata": {},
     "output_type": "display_data"
    }
   ],
   "source": [
    "fig = px.line(mean_episode_length_df, title='Mean Episode Length over 1H of Training')\n",
    "fig.update_xaxes(title_text='Iteration')\n",
    "fig.update_yaxes(title_text='episode length')\n",
    "\n",
    "fig.update_layout(\n",
    "    autosize=False,\n",
    "    width=1600,\n",
    "    height=800,)\n",
    "\n",
    "fig.show()"
   ]
  },
  {
   "cell_type": "code",
   "execution_count": 19,
   "metadata": {},
   "outputs": [
    {
     "data": {
      "application/vnd.plotly.v1+json": {
       "config": {
        "plotlyServerURL": "https://plot.ly"
       },
       "data": [
        {
         "hovertemplate": "variable=sin restricciones sin repetitividad sin normalizar<br>index=%{x}<br>value=%{y}<extra></extra>",
         "legendgroup": "sin restricciones sin repetitividad sin normalizar",
         "line": {
          "color": "#636efa",
          "dash": "solid"
         },
         "marker": {
          "symbol": "circle"
         },
         "mode": "lines",
         "name": "sin restricciones sin repetitividad sin normalizar",
         "orientation": "v",
         "showlegend": true,
         "type": "scatter",
         "x": [
          0,
          1,
          2,
          3,
          4,
          5,
          6,
          7,
          8,
          9,
          10,
          11,
          12,
          13,
          14,
          15,
          16,
          17,
          18,
          19,
          20,
          21,
          22,
          23,
          24,
          25,
          26,
          27,
          28,
          29,
          30,
          31,
          32,
          33,
          34,
          35,
          36,
          37,
          38,
          39,
          40,
          41,
          42,
          43,
          44,
          45,
          46,
          47,
          48,
          49,
          50,
          51,
          52,
          53,
          54,
          55,
          56
         ],
         "xaxis": "x",
         "y": [
          0.000004410743713378906,
          0.0024135112762451,
          0.1668298840522766,
          0.3170809745788574,
          0.479385495185852,
          0.7004652619361877,
          0.7891555428504944,
          0.4477940201759338,
          0.9250062108039856,
          0.9182590246200562,
          0.983079731464386,
          0.9852015972137452,
          0.9935680031776428,
          0.6156851053237915,
          0.987589716911316,
          0.9979420900344848,
          0.3839371800422668,
          0.9799618124961852,
          0.9969183206558228,
          0.9118330478668212,
          0.8210403919219971,
          0.5806008577346802,
          0.9536564350128174,
          0.9674694538116456,
          0.7576044797897339,
          0.7324368953704834,
          0.59853196144104,
          0.8510127663612366,
          0.9997538328170776,
          0.9997413158416748,
          0.9999199509620668,
          0.9999414086341858,
          0.9999619722366332,
          0.999993085861206,
          0.991722822189331,
          0.9995795488357544,
          0.8745565414428711,
          0.9987931847572328,
          0.952572464942932,
          -0.067338228225708,
          0.5729769468307495,
          0.9695727229118348,
          0.9998076558113098,
          0.859380304813385,
          0.8615168333053589,
          0.9767113924026488,
          0.999217927455902,
          0.999969244003296,
          0.9999933242797852,
          0.9999874830245972,
          0.9999908804893494,
          0.9999974370002748,
          0.9999937415122986,
          0.9999980926513672,
          0.999881386756897,
          0.9999943971633912,
          0.9999991655349731
         ],
         "yaxis": "y"
        },
        {
         "hovertemplate": "variable=con restricciones sin repetitividad sin normalizar<br>index=%{x}<br>value=%{y}<extra></extra>",
         "legendgroup": "con restricciones sin repetitividad sin normalizar",
         "line": {
          "color": "#EF553B",
          "dash": "solid"
         },
         "marker": {
          "symbol": "circle"
         },
         "mode": "lines",
         "name": "con restricciones sin repetitividad sin normalizar",
         "orientation": "v",
         "showlegend": true,
         "type": "scatter",
         "x": [
          0,
          1,
          2,
          3,
          4,
          5,
          6,
          7,
          8,
          9,
          10,
          11,
          12,
          13,
          14,
          15,
          16,
          17,
          18,
          19,
          20,
          21,
          22,
          23,
          24,
          25,
          26,
          27,
          28,
          29,
          30,
          31,
          32,
          33,
          34,
          35,
          36,
          37,
          38,
          39,
          40,
          41,
          42,
          43,
          44,
          45,
          46,
          47,
          48,
          49,
          50,
          51,
          52,
          53,
          54,
          55,
          56
         ],
         "xaxis": "x",
         "y": [
          -4.76837158203125e-7,
          0.0241395235061645,
          0.1018124222755432,
          0.3688611388206482,
          0.4773154258728027,
          0.5909368991851807,
          0.6302763223648071,
          0.7737051844596863,
          0.1548672318458557,
          0.3784630298614502,
          0.4585559964179992,
          0.4190712571144104,
          0.6588152647018433,
          0.660470724105835,
          0.5718209147453308,
          0.6795405149459839,
          0.934239625930786,
          0.9923520684242249,
          0.8852788209915161,
          0.8949436545372009,
          0.8212025761604309,
          0.9643749594688416,
          0.7929069399833679,
          0.9687422513961792,
          0.808634340763092,
          0.9758634567260742,
          0.8549003601074219,
          0.977869749069214,
          0.9112766981124878,
          0.973824143409729,
          0.8177202343940735,
          0.8903151154518127,
          0.8142627477645874,
          0.938560962677002,
          0.9204964637756348,
          0.9217936992645264,
          0.9720723628997804,
          0.8074097037315369,
          0.8755801916122437,
          0.9349275231361388,
          0.9161219596862792,
          0.8338887691497803,
          0.8455049395561218,
          0.9628665447235109,
          0.9902677536010742,
          0.9818570613861084,
          0.9433409571647644,
          0.9823200702667236,
          0.9623990058898926,
          0.8858810067176819,
          0.9752413630485536,
          0.9930176138877868,
          0.9922675490379332,
          0.9950074553489684,
          0.9995086193084716,
          0.9955626726150512,
          0.9960540533065796
         ],
         "yaxis": "y"
        },
        {
         "hovertemplate": "variable=sin restricciones con repetitividad sin normalizar<br>index=%{x}<br>value=%{y}<extra></extra>",
         "legendgroup": "sin restricciones con repetitividad sin normalizar",
         "line": {
          "color": "#00cc96",
          "dash": "solid"
         },
         "marker": {
          "symbol": "circle"
         },
         "mode": "lines",
         "name": "sin restricciones con repetitividad sin normalizar",
         "orientation": "v",
         "showlegend": true,
         "type": "scatter",
         "x": [
          0,
          1,
          2,
          3,
          4,
          5,
          6,
          7,
          8,
          9,
          10,
          11,
          12,
          13,
          14,
          15,
          16,
          17,
          18,
          19,
          20,
          21,
          22,
          23,
          24,
          25,
          26,
          27,
          28,
          29,
          30,
          31,
          32,
          33,
          34,
          35,
          36,
          37,
          38,
          39,
          40,
          41,
          42,
          43,
          44,
          45,
          46,
          47,
          48,
          49,
          50,
          51,
          52,
          53,
          54,
          55,
          56
         ],
         "xaxis": "x",
         "y": [
          0.000020802021026611328,
          0.0028582215309143,
          0.2314014434814453,
          0.18221116065979,
          -29.91026496887207,
          -1.7061991691589355,
          0.0395179390907287,
          0.021056056022644,
          0.4866098165512085,
          -0.3902456760406494,
          -0.1011539697647094,
          -0.5952264070510864,
          -1.0304479598999023,
          -1.0304479598999023,
          -1.0304479598999023,
          -1.0304479598999023,
          -1.0304479598999023,
          -1.0304479598999023,
          -1.0304479598999023,
          -1.0304479598999023,
          -1.0304479598999023,
          -1.0304479598999023,
          -1.0304479598999023,
          -1.0304479598999023,
          -1.0304479598999023,
          -1.0304479598999023,
          -1.0304479598999023,
          -1.0304479598999023,
          -1.0304479598999023,
          -1.0304479598999023,
          -1.0304479598999023,
          -1.0304479598999023,
          -1.0304479598999023,
          -1.0304479598999023,
          -1.0304479598999023,
          -1.0304479598999023,
          -1.0304479598999023,
          -1.0304479598999023,
          -1.0304479598999023,
          -1.0304479598999023,
          -1.0304479598999023,
          -1.0304479598999023,
          -1.0304479598999023,
          -1.0304479598999023,
          -1.0304479598999023,
          -1.0304479598999023,
          -1.0304479598999023,
          -1.0304479598999023,
          -1.0304479598999023,
          -1.0304479598999023,
          -1.0304479598999023,
          -1.0304479598999023,
          -1.0304479598999023,
          -1.0304479598999023,
          -1.0304479598999023,
          -1.0304479598999023,
          -1.0304479598999023
         ],
         "yaxis": "y"
        },
        {
         "hovertemplate": "variable=con restricciones con repetitividad sin normalizar<br>index=%{x}<br>value=%{y}<extra></extra>",
         "legendgroup": "con restricciones con repetitividad sin normalizar",
         "line": {
          "color": "#ab63fa",
          "dash": "solid"
         },
         "marker": {
          "symbol": "circle"
         },
         "mode": "lines",
         "name": "con restricciones con repetitividad sin normalizar",
         "orientation": "v",
         "showlegend": true,
         "type": "scatter",
         "x": [
          0,
          1,
          2,
          3,
          4,
          5,
          6,
          7,
          8,
          9,
          10,
          11,
          12,
          13,
          14,
          15,
          16,
          17,
          18,
          19,
          20,
          21,
          22,
          23,
          24,
          25,
          26,
          27,
          28,
          29,
          30,
          31,
          32,
          33,
          34,
          35,
          36,
          37,
          38,
          39,
          40,
          41,
          42,
          43,
          44,
          45,
          46,
          47,
          48,
          49,
          50,
          51,
          52,
          53,
          54,
          55,
          56
         ],
         "xaxis": "x",
         "y": [
          -0.00000762939453125,
          0.0204057693481445,
          0.060859203338623,
          0.1572672128677368,
          0.1230624914169311,
          0.05938720703125,
          0.0370508432388305,
          -0.3593071699142456,
          0.1923316717147827,
          0.0872703194618225,
          0.1126453280448913,
          0.1126453280448913,
          0.1126453280448913,
          0.1126453280448913,
          0.1126453280448913,
          0.1126453280448913,
          0.1126453280448913,
          0.1126453280448913,
          0.1126453280448913,
          0.1126453280448913,
          0.1126453280448913,
          0.1126453280448913,
          0.1126453280448913,
          0.1126453280448913,
          0.1126453280448913,
          0.1126453280448913,
          0.1126453280448913,
          0.1126453280448913,
          0.1126453280448913,
          0.1126453280448913,
          0.1126453280448913,
          0.1126453280448913,
          0.1126453280448913,
          0.1126453280448913,
          0.1126453280448913,
          0.1126453280448913,
          0.1126453280448913,
          0.1126453280448913,
          0.1126453280448913,
          0.1126453280448913,
          0.1126453280448913,
          0.1126453280448913,
          0.1126453280448913,
          0.1126453280448913,
          0.1126453280448913,
          0.1126453280448913,
          0.1126453280448913,
          0.1126453280448913,
          0.1126453280448913,
          0.1126453280448913,
          0.1126453280448913,
          0.1126453280448913,
          0.1126453280448913,
          0.1126453280448913,
          0.1126453280448913,
          0.1126453280448913,
          0.1126453280448913
         ],
         "yaxis": "y"
        },
        {
         "hovertemplate": "variable=sin restricciones sin repetitividad normalizado<br>index=%{x}<br>value=%{y}<extra></extra>",
         "legendgroup": "sin restricciones sin repetitividad normalizado",
         "line": {
          "color": "#FFA15A",
          "dash": "solid"
         },
         "marker": {
          "symbol": "circle"
         },
         "mode": "lines",
         "name": "sin restricciones sin repetitividad normalizado",
         "orientation": "v",
         "showlegend": true,
         "type": "scatter",
         "x": [
          0,
          1,
          2,
          3,
          4,
          5,
          6,
          7,
          8,
          9,
          10,
          11,
          12,
          13,
          14,
          15,
          16,
          17,
          18,
          19,
          20,
          21,
          22,
          23,
          24,
          25,
          26,
          27,
          28,
          29,
          30,
          31,
          32,
          33,
          34,
          35,
          36,
          37,
          38,
          39,
          40,
          41,
          42,
          43,
          44,
          45,
          46,
          47,
          48,
          49,
          50,
          51,
          52,
          53,
          54,
          55,
          56
         ],
         "xaxis": "x",
         "y": [
          0.000003337860107421875,
          0.0019610524177551,
          0.1685324311256408,
          0.3889700174331665,
          0.5148208141326904,
          0.6673420071601868,
          0.7220286130905151,
          0.7278265953063965,
          0.9057535529136658,
          0.6633871793746948,
          0.9333584904670716,
          0.4560667276382446,
          0.920122504234314,
          0.6063932776451111,
          0.9444199204444884,
          0.9769841432571412,
          0.953784704208374,
          0.9449508786201476,
          0.9833476543426514,
          0.3469042181968689,
          0.8981509804725647,
          0.986133635044098,
          0.9096949696540833,
          0.6563258767127991,
          0.9196832180023192,
          0.9449245929718018,
          0.98662132024765,
          0.9685112833976746,
          0.5636289119720459,
          0.9972721934318542,
          0.9962501525878906,
          0.8401234149932861,
          0.9757524132728576,
          0.9994248151779176,
          0.7988647818565369,
          0.9998995065689088,
          0.9990990161895752,
          0.9777413606643676,
          0.9998036026954652,
          0.9999585747718812,
          0.9889064431190492,
          0.9997591376304626,
          0.9999867081642152,
          0.9999899864196776,
          0.9999871850013732,
          0.9999444484710692,
          0.8422982692718506,
          0.998940885066986,
          0.9701821208000184,
          0.4537646770477295,
          0.7844904661178589,
          0.9754417538642884,
          0.9208155274391174,
          0.9933930039405824,
          0.9999304413795472,
          0.9999743103981018,
          0.8006139993667603
         ],
         "yaxis": "y"
        },
        {
         "hovertemplate": "variable=sin restricciones con repetitividad normalizado<br>index=%{x}<br>value=%{y}<extra></extra>",
         "legendgroup": "sin restricciones con repetitividad normalizado",
         "line": {
          "color": "#19d3f3",
          "dash": "solid"
         },
         "marker": {
          "symbol": "circle"
         },
         "mode": "lines",
         "name": "sin restricciones con repetitividad normalizado",
         "orientation": "v",
         "showlegend": true,
         "type": "scatter",
         "x": [
          0,
          1,
          2,
          3,
          4,
          5,
          6,
          7,
          8,
          9,
          10,
          11,
          12,
          13,
          14,
          15,
          16,
          17,
          18,
          19,
          20,
          21,
          22,
          23,
          24,
          25,
          26,
          27,
          28,
          29,
          30,
          31,
          32,
          33,
          34,
          35,
          36,
          37,
          38,
          39,
          40,
          41,
          42,
          43,
          44,
          45,
          46,
          47,
          48,
          49,
          50,
          51,
          52,
          53,
          54,
          55,
          56
         ],
         "xaxis": "x",
         "y": [
          0.000017702579498291016,
          0.0042887330055236,
          0.1461880207061767,
          -0.0239700078964233,
          0.5723563432693481,
          -0.9899286031723022,
          0.3966824412345886,
          0.3939505815505981,
          -0.0367968082427978,
          0.4394473433494568,
          0.7209558486938477,
          0.4717671275138855,
          -0.3791031837463379,
          0.136919617652893,
          -0.1227657794952392,
          0.5204293727874756,
          -7.40167236328125,
          -0.0337990522384643,
          0.0360130667686462,
          -4.467437267303467,
          -0.2301784753799438,
          -0.2301784753799438,
          -0.2301784753799438,
          -0.2301784753799438,
          -0.2301784753799438,
          -0.2301784753799438,
          -0.2301784753799438,
          -0.2301784753799438,
          -0.2301784753799438,
          -0.2301784753799438,
          -0.2301784753799438,
          -0.2301784753799438,
          -0.2301784753799438,
          -0.2301784753799438,
          -0.2301784753799438,
          -0.2301784753799438,
          -0.2301784753799438,
          -0.2301784753799438,
          -0.2301784753799438,
          -0.2301784753799438,
          -0.2301784753799438,
          -0.2301784753799438,
          -0.2301784753799438,
          -0.2301784753799438,
          -0.2301784753799438,
          -0.2301784753799438,
          -0.2301784753799438,
          -0.2301784753799438,
          -0.2301784753799438,
          -0.2301784753799438,
          -0.2301784753799438,
          -0.2301784753799438,
          -0.2301784753799438,
          -0.2301784753799438,
          -0.2301784753799438,
          -0.2301784753799438,
          -0.2301784753799438
         ],
         "yaxis": "y"
        },
        {
         "hovertemplate": "variable=con restricciones sin repetitividad normalizado<br>index=%{x}<br>value=%{y}<extra></extra>",
         "legendgroup": "con restricciones sin repetitividad normalizado",
         "line": {
          "color": "#FF6692",
          "dash": "solid"
         },
         "marker": {
          "symbol": "circle"
         },
         "mode": "lines",
         "name": "con restricciones sin repetitividad normalizado",
         "orientation": "v",
         "showlegend": true,
         "type": "scatter",
         "x": [
          0,
          1,
          2,
          3,
          4,
          5,
          6,
          7,
          8,
          9,
          10,
          11,
          12,
          13,
          14,
          15,
          16,
          17,
          18,
          19,
          20,
          21,
          22,
          23,
          24,
          25,
          26,
          27,
          28,
          29,
          30,
          31,
          32,
          33,
          34,
          35,
          36,
          37,
          38,
          39,
          40,
          41,
          42,
          43,
          44,
          45,
          46,
          47,
          48,
          49,
          50,
          51,
          52,
          53,
          54,
          55,
          56
         ],
         "xaxis": "x",
         "y": [
          0.0000010132789611816406,
          0.0204097628593444,
          0.0559027791023254,
          0.1081913113594055,
          0.2229471206665039,
          0.4485707283020019,
          0.5250911712646484,
          0.5558569431304932,
          0.5214998722076416,
          0.7655836343765259,
          0.6454908847808838,
          0.6951745748519897,
          0.8626123070716858,
          0.9578300714492798,
          0.827321469783783,
          0.8971556425094604,
          0.9599654674530028,
          0.9490476846694946,
          0.981995403766632,
          0.8220633864402771,
          0.978364646434784,
          0.9717835187911988,
          0.2382047772407531,
          0.9971786141395568,
          0.9419620037078856,
          0.9593338966369628,
          0.998490273952484,
          0.9890440702438354,
          0.8616624474525452,
          0.980360746383667,
          0.9946877360343932,
          0.9946877360343932,
          0.9946877360343932,
          0.9946877360343932,
          0.9946877360343932,
          0.9946877360343932,
          0.9946877360343932,
          0.9946877360343932,
          0.9946877360343932,
          0.9946877360343932,
          0.9946877360343932,
          0.9946877360343932,
          0.9946877360343932,
          0.9946877360343932,
          0.9946877360343932,
          0.9946877360343932,
          0.9946877360343932,
          0.9946877360343932,
          0.9946877360343932,
          0.9946877360343932,
          0.9946877360343932,
          0.9946877360343932,
          0.9946877360343932,
          0.9946877360343932,
          0.9946877360343932,
          0.9946877360343932,
          0.9946877360343932
         ],
         "yaxis": "y"
        },
        {
         "hovertemplate": "variable=con restricciones con repetitividad normalizado<br>index=%{x}<br>value=%{y}<extra></extra>",
         "legendgroup": "con restricciones con repetitividad normalizado",
         "line": {
          "color": "#B6E880",
          "dash": "solid"
         },
         "marker": {
          "symbol": "circle"
         },
         "mode": "lines",
         "name": "con restricciones con repetitividad normalizado",
         "orientation": "v",
         "showlegend": true,
         "type": "scatter",
         "x": [
          0,
          1,
          2,
          3,
          4,
          5,
          6,
          7,
          8,
          9,
          10,
          11,
          12,
          13,
          14,
          15,
          16,
          17,
          18,
          19,
          20,
          21,
          22,
          23,
          24,
          25,
          26,
          27,
          28,
          29,
          30,
          31,
          32,
          33,
          34,
          35,
          36,
          37,
          38,
          39,
          40,
          41,
          42,
          43,
          44,
          45,
          46,
          47,
          48,
          49,
          50,
          51,
          52,
          53,
          54,
          55,
          56
         ],
         "xaxis": "x",
         "y": [
          -0.000005364418029785156,
          0.0186846256256103,
          0.0518100261688232,
          0.0323682427406311,
          0.0799534320831298,
          -0.0042811632156372,
          -0.1778250932693481,
          -0.1305383443832397,
          -0.3589197397232055,
          0.0113380551338195,
          -0.1338144540786743,
          -0.1338144540786743,
          -0.1338144540786743,
          -0.1338144540786743,
          -0.1338144540786743,
          -0.1338144540786743,
          -0.1338144540786743,
          -0.1338144540786743,
          -0.1338144540786743,
          -0.1338144540786743,
          -0.1338144540786743,
          -0.1338144540786743,
          -0.1338144540786743,
          -0.1338144540786743,
          -0.1338144540786743,
          -0.1338144540786743,
          -0.1338144540786743,
          -0.1338144540786743,
          -0.1338144540786743,
          -0.1338144540786743,
          -0.1338144540786743,
          -0.1338144540786743,
          -0.1338144540786743,
          -0.1338144540786743,
          -0.1338144540786743,
          -0.1338144540786743,
          -0.1338144540786743,
          -0.1338144540786743,
          -0.1338144540786743,
          -0.1338144540786743,
          -0.1338144540786743,
          -0.1338144540786743,
          -0.1338144540786743,
          -0.1338144540786743,
          -0.1338144540786743,
          -0.1338144540786743,
          -0.1338144540786743,
          -0.1338144540786743,
          -0.1338144540786743,
          -0.1338144540786743,
          -0.1338144540786743,
          -0.1338144540786743,
          -0.1338144540786743,
          -0.1338144540786743,
          -0.1338144540786743,
          -0.1338144540786743,
          -0.1338144540786743
         ],
         "yaxis": "y"
        }
       ],
       "layout": {
        "autosize": false,
        "height": 800,
        "legend": {
         "title": {
          "text": "variable"
         },
         "tracegroupgap": 0
        },
        "template": {
         "data": {
          "bar": [
           {
            "error_x": {
             "color": "#2a3f5f"
            },
            "error_y": {
             "color": "#2a3f5f"
            },
            "marker": {
             "line": {
              "color": "#E5ECF6",
              "width": 0.5
             },
             "pattern": {
              "fillmode": "overlay",
              "size": 10,
              "solidity": 0.2
             }
            },
            "type": "bar"
           }
          ],
          "barpolar": [
           {
            "marker": {
             "line": {
              "color": "#E5ECF6",
              "width": 0.5
             },
             "pattern": {
              "fillmode": "overlay",
              "size": 10,
              "solidity": 0.2
             }
            },
            "type": "barpolar"
           }
          ],
          "carpet": [
           {
            "aaxis": {
             "endlinecolor": "#2a3f5f",
             "gridcolor": "white",
             "linecolor": "white",
             "minorgridcolor": "white",
             "startlinecolor": "#2a3f5f"
            },
            "baxis": {
             "endlinecolor": "#2a3f5f",
             "gridcolor": "white",
             "linecolor": "white",
             "minorgridcolor": "white",
             "startlinecolor": "#2a3f5f"
            },
            "type": "carpet"
           }
          ],
          "choropleth": [
           {
            "colorbar": {
             "outlinewidth": 0,
             "ticks": ""
            },
            "type": "choropleth"
           }
          ],
          "contour": [
           {
            "colorbar": {
             "outlinewidth": 0,
             "ticks": ""
            },
            "colorscale": [
             [
              0,
              "#0d0887"
             ],
             [
              0.1111111111111111,
              "#46039f"
             ],
             [
              0.2222222222222222,
              "#7201a8"
             ],
             [
              0.3333333333333333,
              "#9c179e"
             ],
             [
              0.4444444444444444,
              "#bd3786"
             ],
             [
              0.5555555555555556,
              "#d8576b"
             ],
             [
              0.6666666666666666,
              "#ed7953"
             ],
             [
              0.7777777777777778,
              "#fb9f3a"
             ],
             [
              0.8888888888888888,
              "#fdca26"
             ],
             [
              1,
              "#f0f921"
             ]
            ],
            "type": "contour"
           }
          ],
          "contourcarpet": [
           {
            "colorbar": {
             "outlinewidth": 0,
             "ticks": ""
            },
            "type": "contourcarpet"
           }
          ],
          "heatmap": [
           {
            "colorbar": {
             "outlinewidth": 0,
             "ticks": ""
            },
            "colorscale": [
             [
              0,
              "#0d0887"
             ],
             [
              0.1111111111111111,
              "#46039f"
             ],
             [
              0.2222222222222222,
              "#7201a8"
             ],
             [
              0.3333333333333333,
              "#9c179e"
             ],
             [
              0.4444444444444444,
              "#bd3786"
             ],
             [
              0.5555555555555556,
              "#d8576b"
             ],
             [
              0.6666666666666666,
              "#ed7953"
             ],
             [
              0.7777777777777778,
              "#fb9f3a"
             ],
             [
              0.8888888888888888,
              "#fdca26"
             ],
             [
              1,
              "#f0f921"
             ]
            ],
            "type": "heatmap"
           }
          ],
          "heatmapgl": [
           {
            "colorbar": {
             "outlinewidth": 0,
             "ticks": ""
            },
            "colorscale": [
             [
              0,
              "#0d0887"
             ],
             [
              0.1111111111111111,
              "#46039f"
             ],
             [
              0.2222222222222222,
              "#7201a8"
             ],
             [
              0.3333333333333333,
              "#9c179e"
             ],
             [
              0.4444444444444444,
              "#bd3786"
             ],
             [
              0.5555555555555556,
              "#d8576b"
             ],
             [
              0.6666666666666666,
              "#ed7953"
             ],
             [
              0.7777777777777778,
              "#fb9f3a"
             ],
             [
              0.8888888888888888,
              "#fdca26"
             ],
             [
              1,
              "#f0f921"
             ]
            ],
            "type": "heatmapgl"
           }
          ],
          "histogram": [
           {
            "marker": {
             "pattern": {
              "fillmode": "overlay",
              "size": 10,
              "solidity": 0.2
             }
            },
            "type": "histogram"
           }
          ],
          "histogram2d": [
           {
            "colorbar": {
             "outlinewidth": 0,
             "ticks": ""
            },
            "colorscale": [
             [
              0,
              "#0d0887"
             ],
             [
              0.1111111111111111,
              "#46039f"
             ],
             [
              0.2222222222222222,
              "#7201a8"
             ],
             [
              0.3333333333333333,
              "#9c179e"
             ],
             [
              0.4444444444444444,
              "#bd3786"
             ],
             [
              0.5555555555555556,
              "#d8576b"
             ],
             [
              0.6666666666666666,
              "#ed7953"
             ],
             [
              0.7777777777777778,
              "#fb9f3a"
             ],
             [
              0.8888888888888888,
              "#fdca26"
             ],
             [
              1,
              "#f0f921"
             ]
            ],
            "type": "histogram2d"
           }
          ],
          "histogram2dcontour": [
           {
            "colorbar": {
             "outlinewidth": 0,
             "ticks": ""
            },
            "colorscale": [
             [
              0,
              "#0d0887"
             ],
             [
              0.1111111111111111,
              "#46039f"
             ],
             [
              0.2222222222222222,
              "#7201a8"
             ],
             [
              0.3333333333333333,
              "#9c179e"
             ],
             [
              0.4444444444444444,
              "#bd3786"
             ],
             [
              0.5555555555555556,
              "#d8576b"
             ],
             [
              0.6666666666666666,
              "#ed7953"
             ],
             [
              0.7777777777777778,
              "#fb9f3a"
             ],
             [
              0.8888888888888888,
              "#fdca26"
             ],
             [
              1,
              "#f0f921"
             ]
            ],
            "type": "histogram2dcontour"
           }
          ],
          "mesh3d": [
           {
            "colorbar": {
             "outlinewidth": 0,
             "ticks": ""
            },
            "type": "mesh3d"
           }
          ],
          "parcoords": [
           {
            "line": {
             "colorbar": {
              "outlinewidth": 0,
              "ticks": ""
             }
            },
            "type": "parcoords"
           }
          ],
          "pie": [
           {
            "automargin": true,
            "type": "pie"
           }
          ],
          "scatter": [
           {
            "marker": {
             "colorbar": {
              "outlinewidth": 0,
              "ticks": ""
             }
            },
            "type": "scatter"
           }
          ],
          "scatter3d": [
           {
            "line": {
             "colorbar": {
              "outlinewidth": 0,
              "ticks": ""
             }
            },
            "marker": {
             "colorbar": {
              "outlinewidth": 0,
              "ticks": ""
             }
            },
            "type": "scatter3d"
           }
          ],
          "scattercarpet": [
           {
            "marker": {
             "colorbar": {
              "outlinewidth": 0,
              "ticks": ""
             }
            },
            "type": "scattercarpet"
           }
          ],
          "scattergeo": [
           {
            "marker": {
             "colorbar": {
              "outlinewidth": 0,
              "ticks": ""
             }
            },
            "type": "scattergeo"
           }
          ],
          "scattergl": [
           {
            "marker": {
             "colorbar": {
              "outlinewidth": 0,
              "ticks": ""
             }
            },
            "type": "scattergl"
           }
          ],
          "scattermapbox": [
           {
            "marker": {
             "colorbar": {
              "outlinewidth": 0,
              "ticks": ""
             }
            },
            "type": "scattermapbox"
           }
          ],
          "scatterpolar": [
           {
            "marker": {
             "colorbar": {
              "outlinewidth": 0,
              "ticks": ""
             }
            },
            "type": "scatterpolar"
           }
          ],
          "scatterpolargl": [
           {
            "marker": {
             "colorbar": {
              "outlinewidth": 0,
              "ticks": ""
             }
            },
            "type": "scatterpolargl"
           }
          ],
          "scatterternary": [
           {
            "marker": {
             "colorbar": {
              "outlinewidth": 0,
              "ticks": ""
             }
            },
            "type": "scatterternary"
           }
          ],
          "surface": [
           {
            "colorbar": {
             "outlinewidth": 0,
             "ticks": ""
            },
            "colorscale": [
             [
              0,
              "#0d0887"
             ],
             [
              0.1111111111111111,
              "#46039f"
             ],
             [
              0.2222222222222222,
              "#7201a8"
             ],
             [
              0.3333333333333333,
              "#9c179e"
             ],
             [
              0.4444444444444444,
              "#bd3786"
             ],
             [
              0.5555555555555556,
              "#d8576b"
             ],
             [
              0.6666666666666666,
              "#ed7953"
             ],
             [
              0.7777777777777778,
              "#fb9f3a"
             ],
             [
              0.8888888888888888,
              "#fdca26"
             ],
             [
              1,
              "#f0f921"
             ]
            ],
            "type": "surface"
           }
          ],
          "table": [
           {
            "cells": {
             "fill": {
              "color": "#EBF0F8"
             },
             "line": {
              "color": "white"
             }
            },
            "header": {
             "fill": {
              "color": "#C8D4E3"
             },
             "line": {
              "color": "white"
             }
            },
            "type": "table"
           }
          ]
         },
         "layout": {
          "annotationdefaults": {
           "arrowcolor": "#2a3f5f",
           "arrowhead": 0,
           "arrowwidth": 1
          },
          "autotypenumbers": "strict",
          "coloraxis": {
           "colorbar": {
            "outlinewidth": 0,
            "ticks": ""
           }
          },
          "colorscale": {
           "diverging": [
            [
             0,
             "#8e0152"
            ],
            [
             0.1,
             "#c51b7d"
            ],
            [
             0.2,
             "#de77ae"
            ],
            [
             0.3,
             "#f1b6da"
            ],
            [
             0.4,
             "#fde0ef"
            ],
            [
             0.5,
             "#f7f7f7"
            ],
            [
             0.6,
             "#e6f5d0"
            ],
            [
             0.7,
             "#b8e186"
            ],
            [
             0.8,
             "#7fbc41"
            ],
            [
             0.9,
             "#4d9221"
            ],
            [
             1,
             "#276419"
            ]
           ],
           "sequential": [
            [
             0,
             "#0d0887"
            ],
            [
             0.1111111111111111,
             "#46039f"
            ],
            [
             0.2222222222222222,
             "#7201a8"
            ],
            [
             0.3333333333333333,
             "#9c179e"
            ],
            [
             0.4444444444444444,
             "#bd3786"
            ],
            [
             0.5555555555555556,
             "#d8576b"
            ],
            [
             0.6666666666666666,
             "#ed7953"
            ],
            [
             0.7777777777777778,
             "#fb9f3a"
            ],
            [
             0.8888888888888888,
             "#fdca26"
            ],
            [
             1,
             "#f0f921"
            ]
           ],
           "sequentialminus": [
            [
             0,
             "#0d0887"
            ],
            [
             0.1111111111111111,
             "#46039f"
            ],
            [
             0.2222222222222222,
             "#7201a8"
            ],
            [
             0.3333333333333333,
             "#9c179e"
            ],
            [
             0.4444444444444444,
             "#bd3786"
            ],
            [
             0.5555555555555556,
             "#d8576b"
            ],
            [
             0.6666666666666666,
             "#ed7953"
            ],
            [
             0.7777777777777778,
             "#fb9f3a"
            ],
            [
             0.8888888888888888,
             "#fdca26"
            ],
            [
             1,
             "#f0f921"
            ]
           ]
          },
          "colorway": [
           "#636efa",
           "#EF553B",
           "#00cc96",
           "#ab63fa",
           "#FFA15A",
           "#19d3f3",
           "#FF6692",
           "#B6E880",
           "#FF97FF",
           "#FECB52"
          ],
          "font": {
           "color": "#2a3f5f"
          },
          "geo": {
           "bgcolor": "white",
           "lakecolor": "white",
           "landcolor": "#E5ECF6",
           "showlakes": true,
           "showland": true,
           "subunitcolor": "white"
          },
          "hoverlabel": {
           "align": "left"
          },
          "hovermode": "closest",
          "mapbox": {
           "style": "light"
          },
          "paper_bgcolor": "white",
          "plot_bgcolor": "#E5ECF6",
          "polar": {
           "angularaxis": {
            "gridcolor": "white",
            "linecolor": "white",
            "ticks": ""
           },
           "bgcolor": "#E5ECF6",
           "radialaxis": {
            "gridcolor": "white",
            "linecolor": "white",
            "ticks": ""
           }
          },
          "scene": {
           "xaxis": {
            "backgroundcolor": "#E5ECF6",
            "gridcolor": "white",
            "gridwidth": 2,
            "linecolor": "white",
            "showbackground": true,
            "ticks": "",
            "zerolinecolor": "white"
           },
           "yaxis": {
            "backgroundcolor": "#E5ECF6",
            "gridcolor": "white",
            "gridwidth": 2,
            "linecolor": "white",
            "showbackground": true,
            "ticks": "",
            "zerolinecolor": "white"
           },
           "zaxis": {
            "backgroundcolor": "#E5ECF6",
            "gridcolor": "white",
            "gridwidth": 2,
            "linecolor": "white",
            "showbackground": true,
            "ticks": "",
            "zerolinecolor": "white"
           }
          },
          "shapedefaults": {
           "line": {
            "color": "#2a3f5f"
           }
          },
          "ternary": {
           "aaxis": {
            "gridcolor": "white",
            "linecolor": "white",
            "ticks": ""
           },
           "baxis": {
            "gridcolor": "white",
            "linecolor": "white",
            "ticks": ""
           },
           "bgcolor": "#E5ECF6",
           "caxis": {
            "gridcolor": "white",
            "linecolor": "white",
            "ticks": ""
           }
          },
          "title": {
           "x": 0.05
          },
          "xaxis": {
           "automargin": true,
           "gridcolor": "white",
           "linecolor": "white",
           "ticks": "",
           "title": {
            "standoff": 15
           },
           "zerolinecolor": "white",
           "zerolinewidth": 2
          },
          "yaxis": {
           "automargin": true,
           "gridcolor": "white",
           "linecolor": "white",
           "ticks": "",
           "title": {
            "standoff": 15
           },
           "zerolinecolor": "white",
           "zerolinewidth": 2
          }
         }
        },
        "title": {
         "text": "Variance over 1H training"
        },
        "width": 1600,
        "xaxis": {
         "anchor": "y",
         "domain": [
          0,
          1
         ],
         "title": {
          "text": "Iteration"
         }
        },
        "yaxis": {
         "anchor": "x",
         "domain": [
          0,
          1
         ],
         "title": {
          "text": "Variance"
         }
        }
       }
      }
     },
     "metadata": {},
     "output_type": "display_data"
    }
   ],
   "source": [
    "fig = px.line(variance_df, title='Variance over 1H training')\n",
    "fig.update_xaxes(title_text='Iteration')\n",
    "fig.update_yaxes(title_text='Variance')\n",
    "\n",
    "fig.update_layout(\n",
    "    autosize=False,\n",
    "    width=1600,\n",
    "    height=800,)\n",
    "\n",
    "fig.show()"
   ]
  },
  {
   "cell_type": "code",
   "execution_count": 18,
   "metadata": {},
   "outputs": [
    {
     "data": {
      "application/vnd.plotly.v1+json": {
       "config": {
        "plotlyServerURL": "https://plot.ly"
       },
       "data": [
        {
         "hovertemplate": "variable=sin restricciones sin repetitividad sin normalizar<br>index=%{x}<br>value=%{y}<extra></extra>",
         "legendgroup": "sin restricciones sin repetitividad sin normalizar",
         "line": {
          "color": "#636efa",
          "dash": "solid"
         },
         "marker": {
          "symbol": "circle"
         },
         "mode": "lines",
         "name": "sin restricciones sin repetitividad sin normalizar",
         "orientation": "v",
         "showlegend": true,
         "type": "scatter",
         "x": [
          0,
          1,
          2,
          3,
          4,
          5,
          6,
          7,
          8,
          9,
          10,
          11,
          12,
          13,
          14,
          15,
          16,
          17,
          18,
          19,
          20,
          21,
          22,
          23,
          24,
          25,
          26,
          27,
          28,
          29,
          30,
          31,
          32,
          33,
          34,
          35,
          36,
          37,
          38,
          39,
          40,
          41,
          42,
          43,
          44,
          45,
          46,
          47,
          48,
          49,
          50,
          51,
          52,
          53,
          54,
          55,
          56
         ],
         "xaxis": "x",
         "y": [
          53.863914489746094,
          52.08680725097656,
          44.61721420288086,
          39.0547981262207,
          34.81908416748047,
          27.92706298828125,
          26.671688079833984,
          25.624053955078125,
          20.79690170288086,
          18.20779609680176,
          18.227710723876957,
          11.925175666809082,
          13.151001930236816,
          9.480083465576172,
          5.855038642883301,
          5.707210063934326,
          0.2015814185142517,
          4.669209957122803,
          3.8587374687194815,
          5.65671968460083,
          5.973846435546875,
          5.864898681640625,
          2.7966904640197754,
          1.9784746170043943,
          1.0385944843292236,
          0.7430768013000488,
          2.508079290390014,
          7.201296806335449,
          2.80024528503418,
          3.86264705657959,
          2.5433349609375,
          2.845942974090576,
          2.63186264038086,
          1.361768126487732,
          4.355826377868652,
          5.353964805603027,
          0.7657622694969177,
          2.0727853775024414,
          2.200188636779785,
          1.020073413848877,
          0.3236691951751709,
          1.6733454465866089,
          0.9712851047515868,
          0.8416208624839783,
          0.3427297472953796,
          0.9152968525886536,
          1.1376636028289795,
          0.4122733473777771,
          0.3229643404483795,
          0.2688370048999786,
          0.2304378747940063,
          0.1360314637422561,
          0.6141661405563354,
          0.1768298298120498,
          0.1156555861234664,
          0.0864227786660194,
          0.1718626171350479
         ],
         "yaxis": "y"
        },
        {
         "hovertemplate": "variable=con restricciones sin repetitividad sin normalizar<br>index=%{x}<br>value=%{y}<extra></extra>",
         "legendgroup": "con restricciones sin repetitividad sin normalizar",
         "line": {
          "color": "#EF553B",
          "dash": "solid"
         },
         "marker": {
          "symbol": "circle"
         },
         "mode": "lines",
         "name": "con restricciones sin repetitividad sin normalizar",
         "orientation": "v",
         "showlegend": true,
         "type": "scatter",
         "x": [
          0,
          1,
          2,
          3,
          4,
          5,
          6,
          7,
          8,
          9,
          10,
          11,
          12,
          13,
          14,
          15,
          16,
          17,
          18,
          19,
          20,
          21,
          22,
          23,
          24,
          25,
          26,
          27,
          28,
          29,
          30,
          31,
          32,
          33,
          34,
          35,
          36,
          37,
          38,
          39,
          40,
          41,
          42,
          43,
          44,
          45,
          46,
          47,
          48,
          49,
          50,
          51,
          52,
          53,
          54,
          55,
          56
         ],
         "xaxis": "x",
         "y": [
          55.420196533203125,
          49.09355163574219,
          30.75954818725586,
          37.29745864868164,
          30.397558212280277,
          22.957578659057617,
          18.326316833496094,
          12.634958267211914,
          19.37358665466309,
          11.627889633178713,
          4.269136905670166,
          6.167269706726074,
          11.048890113830566,
          9.711418151855469,
          15.376276016235352,
          10.721071243286133,
          5.880417346954346,
          3.324427366256714,
          8.43404769897461,
          6.555576324462891,
          7.8939971923828125,
          4.135319709777832,
          3.130436897277832,
          1.389298439025879,
          1.9101576805114744,
          0.4665888249874115,
          2.633903980255127,
          7.982935905456543,
          4.866446495056152,
          4.736666202545166,
          12.879886627197266,
          9.164107322692873,
          3.81948471069336,
          0.6162046790122986,
          4.870021820068359,
          5.724842071533203,
          6.501228332519531,
          3.002474784851074,
          1.882394790649414,
          2.5497260093688965,
          3.4249372482299805,
          3.4016547203063965,
          2.0008223056793213,
          6.1832275390625,
          3.3463621139526367,
          12.112287521362305,
          5.905807495117188,
          1.1527574062347412,
          9.46592617034912,
          5.090598106384277,
          3.6244611740112314,
          3.7556962966918954,
          7.10413932800293,
          4.569470405578613,
          11.083651542663574,
          0.6109911203384399,
          1.9592761993408203
         ],
         "yaxis": "y"
        },
        {
         "hovertemplate": "variable=sin restricciones con repetitividad sin normalizar<br>index=%{x}<br>value=%{y}<extra></extra>",
         "legendgroup": "sin restricciones con repetitividad sin normalizar",
         "line": {
          "color": "#00cc96",
          "dash": "solid"
         },
         "marker": {
          "symbol": "circle"
         },
         "mode": "lines",
         "name": "sin restricciones con repetitividad sin normalizar",
         "orientation": "v",
         "showlegend": true,
         "type": "scatter",
         "x": [
          0,
          1,
          2,
          3,
          4,
          5,
          6,
          7,
          8,
          9,
          10,
          11,
          12,
          13,
          14,
          15,
          16,
          17,
          18,
          19,
          20,
          21,
          22,
          23,
          24,
          25,
          26,
          27,
          28,
          29,
          30,
          31,
          32,
          33,
          34,
          35,
          36,
          37,
          38,
          39,
          40,
          41,
          42,
          43,
          44,
          45,
          46,
          47,
          48,
          49,
          50,
          51,
          52,
          53,
          54,
          55,
          56
         ],
         "xaxis": "x",
         "y": [
          53.86391830444336,
          52.42015838623047,
          45.986595153808594,
          34.38314437866211,
          34.00128173828125,
          31.25945281982422,
          30.516582489013672,
          27.470623016357425,
          25.78932762145996,
          26.113161087036133,
          13.8041410446167,
          19.94761276245117,
          17.276958465576172,
          17.276958465576172,
          17.276958465576172,
          17.276958465576172,
          17.276958465576172,
          17.276958465576172,
          17.276958465576172,
          17.276958465576172,
          17.276958465576172,
          17.276958465576172,
          17.276958465576172,
          17.276958465576172,
          17.276958465576172,
          17.276958465576172,
          17.276958465576172,
          17.276958465576172,
          17.276958465576172,
          17.276958465576172,
          17.276958465576172,
          17.276958465576172,
          17.276958465576172,
          17.276958465576172,
          17.276958465576172,
          17.276958465576172,
          17.276958465576172,
          17.276958465576172,
          17.276958465576172,
          17.276958465576172,
          17.276958465576172,
          17.276958465576172,
          17.276958465576172,
          17.276958465576172,
          17.276958465576172,
          17.276958465576172,
          17.276958465576172,
          17.276958465576172,
          17.276958465576172,
          17.276958465576172,
          17.276958465576172,
          17.276958465576172,
          17.276958465576172,
          17.276958465576172,
          17.276958465576172,
          17.276958465576172,
          17.276958465576172
         ],
         "yaxis": "y"
        },
        {
         "hovertemplate": "variable=con restricciones con repetitividad sin normalizar<br>index=%{x}<br>value=%{y}<extra></extra>",
         "legendgroup": "con restricciones con repetitividad sin normalizar",
         "line": {
          "color": "#ab63fa",
          "dash": "solid"
         },
         "marker": {
          "symbol": "circle"
         },
         "mode": "lines",
         "name": "con restricciones con repetitividad sin normalizar",
         "orientation": "v",
         "showlegend": true,
         "type": "scatter",
         "x": [
          0,
          1,
          2,
          3,
          4,
          5,
          6,
          7,
          8,
          9,
          10,
          11,
          12,
          13,
          14,
          15,
          16,
          17,
          18,
          19,
          20,
          21,
          22,
          23,
          24,
          25,
          26,
          27,
          28,
          29,
          30,
          31,
          32,
          33,
          34,
          35,
          36,
          37,
          38,
          39,
          40,
          41,
          42,
          43,
          44,
          45,
          46,
          47,
          48,
          49,
          50,
          51,
          52,
          53,
          54,
          55,
          56
         ],
         "xaxis": "x",
         "y": [
          55.42020034790039,
          49.82415008544922,
          39.02307891845703,
          32.48142623901367,
          27.411027908325195,
          16.223297119140625,
          16.602313995361328,
          15.431939125061035,
          9.316900253295898,
          10.515263557434082,
          12.247846603393556,
          12.247846603393556,
          12.247846603393556,
          12.247846603393556,
          12.247846603393556,
          12.247846603393556,
          12.247846603393556,
          12.247846603393556,
          12.247846603393556,
          12.247846603393556,
          12.247846603393556,
          12.247846603393556,
          12.247846603393556,
          12.247846603393556,
          12.247846603393556,
          12.247846603393556,
          12.247846603393556,
          12.247846603393556,
          12.247846603393556,
          12.247846603393556,
          12.247846603393556,
          12.247846603393556,
          12.247846603393556,
          12.247846603393556,
          12.247846603393556,
          12.247846603393556,
          12.247846603393556,
          12.247846603393556,
          12.247846603393556,
          12.247846603393556,
          12.247846603393556,
          12.247846603393556,
          12.247846603393556,
          12.247846603393556,
          12.247846603393556,
          12.247846603393556,
          12.247846603393556,
          12.247846603393556,
          12.247846603393556,
          12.247846603393556,
          12.247846603393556,
          12.247846603393556,
          12.247846603393556,
          12.247846603393556,
          12.247846603393556,
          12.247846603393556,
          12.247846603393556
         ],
         "yaxis": "y"
        },
        {
         "hovertemplate": "variable=sin restricciones sin repetitividad normalizado<br>index=%{x}<br>value=%{y}<extra></extra>",
         "legendgroup": "sin restricciones sin repetitividad normalizado",
         "line": {
          "color": "#FFA15A",
          "dash": "solid"
         },
         "marker": {
          "symbol": "circle"
         },
         "mode": "lines",
         "name": "sin restricciones sin repetitividad normalizado",
         "orientation": "v",
         "showlegend": true,
         "type": "scatter",
         "x": [
          0,
          1,
          2,
          3,
          4,
          5,
          6,
          7,
          8,
          9,
          10,
          11,
          12,
          13,
          14,
          15,
          16,
          17,
          18,
          19,
          20,
          21,
          22,
          23,
          24,
          25,
          26,
          27,
          28,
          29,
          30,
          31,
          32,
          33,
          34,
          35,
          36,
          37,
          38,
          39,
          40,
          41,
          42,
          43,
          44,
          45,
          46,
          47,
          48,
          49,
          50,
          51,
          52,
          53,
          54,
          55,
          56
         ],
         "xaxis": "x",
         "y": [
          53.863914489746094,
          52.586891174316406,
          44.18214416503906,
          37.106536865234375,
          36.06269073486328,
          32.47833633422852,
          25.250789642333984,
          22.85065078735352,
          18.793746948242188,
          14.235913276672363,
          17.84223747253418,
          11.628704071044922,
          10.802042007446287,
          0.9209086298942566,
          9.156064987182615,
          10.129842758178713,
          7.032289505004883,
          7.5991716384887695,
          2.3308444023132324,
          1.049067497253418,
          2.761143207550049,
          4.581216335296631,
          0.3054066300392151,
          8.73114013671875,
          4.619869232177734,
          3.231644630432129,
          3.4464473724365234,
          3.8199305534362793,
          1.276787042617798,
          2.4073634147644043,
          1.5421700477600098,
          4.655726909637451,
          2.66338324546814,
          1.3485113382339478,
          1.0442612171173096,
          2.3609426021575928,
          1.0085827112197876,
          1.1620278358459473,
          4.252338886260986,
          4.50755786895752,
          1.4277368783950806,
          0.9723365306854248,
          1.3139798641204834,
          2.8501105308532715,
          7.802545547485352,
          5.4136457443237305,
          6.405704498291016,
          4.19884729385376,
          3.2042925357818604,
          2.844409465789795,
          0.4777093827724457,
          0.929736852645874,
          3.068830728530884,
          2.6125943660736084,
          2.0049898624420166,
          1.906997799873352,
          4.747128963470459
         ],
         "yaxis": "y"
        },
        {
         "hovertemplate": "variable=sin restricciones con repetitividad normalizado<br>index=%{x}<br>value=%{y}<extra></extra>",
         "legendgroup": "sin restricciones con repetitividad normalizado",
         "line": {
          "color": "#19d3f3",
          "dash": "solid"
         },
         "marker": {
          "symbol": "circle"
         },
         "mode": "lines",
         "name": "sin restricciones con repetitividad normalizado",
         "orientation": "v",
         "showlegend": true,
         "type": "scatter",
         "x": [
          0,
          1,
          2,
          3,
          4,
          5,
          6,
          7,
          8,
          9,
          10,
          11,
          12,
          13,
          14,
          15,
          16,
          17,
          18,
          19,
          20,
          21,
          22,
          23,
          24,
          25,
          26,
          27,
          28,
          29,
          30,
          31,
          32,
          33,
          34,
          35,
          36,
          37,
          38,
          39,
          40,
          41,
          42,
          43,
          44,
          45,
          46,
          47,
          48,
          49,
          50,
          51,
          52,
          53,
          54,
          55,
          56
         ],
         "xaxis": "x",
         "y": [
          53.86391830444336,
          52.25074768066406,
          44.59405899047852,
          35.12548828125,
          26.902240753173828,
          29.39044570922852,
          23.942232131958008,
          19.32601928710937,
          18.62982940673828,
          18.678089141845703,
          20.515769958496094,
          18.81517601013184,
          18.202539443969727,
          18.8660888671875,
          24.350780487060547,
          20.983760833740234,
          23.133272171020508,
          18.755565643310547,
          17.13957405090332,
          14.300061225891112,
          14.527770042419434,
          14.527770042419434,
          14.527770042419434,
          14.527770042419434,
          14.527770042419434,
          14.527770042419434,
          14.527770042419434,
          14.527770042419434,
          14.527770042419434,
          14.527770042419434,
          14.527770042419434,
          14.527770042419434,
          14.527770042419434,
          14.527770042419434,
          14.527770042419434,
          14.527770042419434,
          14.527770042419434,
          14.527770042419434,
          14.527770042419434,
          14.527770042419434,
          14.527770042419434,
          14.527770042419434,
          14.527770042419434,
          14.527770042419434,
          14.527770042419434,
          14.527770042419434,
          14.527770042419434,
          14.527770042419434,
          14.527770042419434,
          14.527770042419434,
          14.527770042419434,
          14.527770042419434,
          14.527770042419434,
          14.527770042419434,
          14.527770042419434,
          14.527770042419434,
          14.527770042419434
         ],
         "yaxis": "y"
        },
        {
         "hovertemplate": "variable=con restricciones sin repetitividad normalizado<br>index=%{x}<br>value=%{y}<extra></extra>",
         "legendgroup": "con restricciones sin repetitividad normalizado",
         "line": {
          "color": "#FF6692",
          "dash": "solid"
         },
         "marker": {
          "symbol": "circle"
         },
         "mode": "lines",
         "name": "con restricciones sin repetitividad normalizado",
         "orientation": "v",
         "showlegend": true,
         "type": "scatter",
         "x": [
          0,
          1,
          2,
          3,
          4,
          5,
          6,
          7,
          8,
          9,
          10,
          11,
          12,
          13,
          14,
          15,
          16,
          17,
          18,
          19,
          20,
          21,
          22,
          23,
          24,
          25,
          26,
          27,
          28,
          29,
          30,
          31,
          32,
          33,
          34,
          35,
          36,
          37,
          38,
          39,
          40,
          41,
          42,
          43,
          44,
          45,
          46,
          47,
          48,
          49,
          50,
          51,
          52,
          53,
          54,
          55,
          56
         ],
         "xaxis": "x",
         "y": [
          55.420196533203125,
          48.39785385131836,
          37.84400177001953,
          29.28008079528809,
          23.05572509765625,
          18.45863151550293,
          18.19904899597168,
          14.436456680297852,
          7.732895374298096,
          4.738167762756348,
          3.984633922576904,
          10.081321716308594,
          6.549028396606445,
          9.861886978149414,
          4.7357563972473145,
          5.390145301818848,
          0.7592190504074097,
          6.862984657287598,
          3.980376720428467,
          12.240692138671877,
          12.988398551940918,
          5.913019180297852,
          0.752372145652771,
          0.5686748027801514,
          3.326035022735596,
          4.108119964599609,
          0.5520268678665161,
          3.9458844661712646,
          1.419618844985962,
          5.803334712982178,
          8.726238250732422,
          8.726238250732422,
          8.726238250732422,
          8.726238250732422,
          8.726238250732422,
          8.726238250732422,
          8.726238250732422,
          8.726238250732422,
          8.726238250732422,
          8.726238250732422,
          8.726238250732422,
          8.726238250732422,
          8.726238250732422,
          8.726238250732422,
          8.726238250732422,
          8.726238250732422,
          8.726238250732422,
          8.726238250732422,
          8.726238250732422,
          8.726238250732422,
          8.726238250732422,
          8.726238250732422,
          8.726238250732422,
          8.726238250732422,
          8.726238250732422,
          8.726238250732422,
          8.726238250732422
         ],
         "yaxis": "y"
        },
        {
         "hovertemplate": "variable=con restricciones con repetitividad normalizado<br>index=%{x}<br>value=%{y}<extra></extra>",
         "legendgroup": "con restricciones con repetitividad normalizado",
         "line": {
          "color": "#B6E880",
          "dash": "solid"
         },
         "marker": {
          "symbol": "circle"
         },
         "mode": "lines",
         "name": "con restricciones con repetitividad normalizado",
         "orientation": "v",
         "showlegend": true,
         "type": "scatter",
         "x": [
          0,
          1,
          2,
          3,
          4,
          5,
          6,
          7,
          8,
          9,
          10,
          11,
          12,
          13,
          14,
          15,
          16,
          17,
          18,
          19,
          20,
          21,
          22,
          23,
          24,
          25,
          26,
          27,
          28,
          29,
          30,
          31,
          32,
          33,
          34,
          35,
          36,
          37,
          38,
          39,
          40,
          41,
          42,
          43,
          44,
          45,
          46,
          47,
          48,
          49,
          50,
          51,
          52,
          53,
          54,
          55,
          56
         ],
         "xaxis": "x",
         "y": [
          55.42020034790039,
          47.89192962646485,
          38.08435821533203,
          28.656503677368164,
          9.84709930419922,
          11.286653518676758,
          7.925861358642578,
          8.543754577636719,
          8.364636421203613,
          9.302837371826172,
          7.859292984008789,
          7.859292984008789,
          7.859292984008789,
          7.859292984008789,
          7.859292984008789,
          7.859292984008789,
          7.859292984008789,
          7.859292984008789,
          7.859292984008789,
          7.859292984008789,
          7.859292984008789,
          7.859292984008789,
          7.859292984008789,
          7.859292984008789,
          7.859292984008789,
          7.859292984008789,
          7.859292984008789,
          7.859292984008789,
          7.859292984008789,
          7.859292984008789,
          7.859292984008789,
          7.859292984008789,
          7.859292984008789,
          7.859292984008789,
          7.859292984008789,
          7.859292984008789,
          7.859292984008789,
          7.859292984008789,
          7.859292984008789,
          7.859292984008789,
          7.859292984008789,
          7.859292984008789,
          7.859292984008789,
          7.859292984008789,
          7.859292984008789,
          7.859292984008789,
          7.859292984008789,
          7.859292984008789,
          7.859292984008789,
          7.859292984008789,
          7.859292984008789,
          7.859292984008789,
          7.859292984008789,
          7.859292984008789,
          7.859292984008789,
          7.859292984008789,
          7.859292984008789
         ],
         "yaxis": "y"
        }
       ],
       "layout": {
        "autosize": false,
        "height": 800,
        "legend": {
         "title": {
          "text": "variable"
         },
         "tracegroupgap": 0
        },
        "template": {
         "data": {
          "bar": [
           {
            "error_x": {
             "color": "#2a3f5f"
            },
            "error_y": {
             "color": "#2a3f5f"
            },
            "marker": {
             "line": {
              "color": "#E5ECF6",
              "width": 0.5
             },
             "pattern": {
              "fillmode": "overlay",
              "size": 10,
              "solidity": 0.2
             }
            },
            "type": "bar"
           }
          ],
          "barpolar": [
           {
            "marker": {
             "line": {
              "color": "#E5ECF6",
              "width": 0.5
             },
             "pattern": {
              "fillmode": "overlay",
              "size": 10,
              "solidity": 0.2
             }
            },
            "type": "barpolar"
           }
          ],
          "carpet": [
           {
            "aaxis": {
             "endlinecolor": "#2a3f5f",
             "gridcolor": "white",
             "linecolor": "white",
             "minorgridcolor": "white",
             "startlinecolor": "#2a3f5f"
            },
            "baxis": {
             "endlinecolor": "#2a3f5f",
             "gridcolor": "white",
             "linecolor": "white",
             "minorgridcolor": "white",
             "startlinecolor": "#2a3f5f"
            },
            "type": "carpet"
           }
          ],
          "choropleth": [
           {
            "colorbar": {
             "outlinewidth": 0,
             "ticks": ""
            },
            "type": "choropleth"
           }
          ],
          "contour": [
           {
            "colorbar": {
             "outlinewidth": 0,
             "ticks": ""
            },
            "colorscale": [
             [
              0,
              "#0d0887"
             ],
             [
              0.1111111111111111,
              "#46039f"
             ],
             [
              0.2222222222222222,
              "#7201a8"
             ],
             [
              0.3333333333333333,
              "#9c179e"
             ],
             [
              0.4444444444444444,
              "#bd3786"
             ],
             [
              0.5555555555555556,
              "#d8576b"
             ],
             [
              0.6666666666666666,
              "#ed7953"
             ],
             [
              0.7777777777777778,
              "#fb9f3a"
             ],
             [
              0.8888888888888888,
              "#fdca26"
             ],
             [
              1,
              "#f0f921"
             ]
            ],
            "type": "contour"
           }
          ],
          "contourcarpet": [
           {
            "colorbar": {
             "outlinewidth": 0,
             "ticks": ""
            },
            "type": "contourcarpet"
           }
          ],
          "heatmap": [
           {
            "colorbar": {
             "outlinewidth": 0,
             "ticks": ""
            },
            "colorscale": [
             [
              0,
              "#0d0887"
             ],
             [
              0.1111111111111111,
              "#46039f"
             ],
             [
              0.2222222222222222,
              "#7201a8"
             ],
             [
              0.3333333333333333,
              "#9c179e"
             ],
             [
              0.4444444444444444,
              "#bd3786"
             ],
             [
              0.5555555555555556,
              "#d8576b"
             ],
             [
              0.6666666666666666,
              "#ed7953"
             ],
             [
              0.7777777777777778,
              "#fb9f3a"
             ],
             [
              0.8888888888888888,
              "#fdca26"
             ],
             [
              1,
              "#f0f921"
             ]
            ],
            "type": "heatmap"
           }
          ],
          "heatmapgl": [
           {
            "colorbar": {
             "outlinewidth": 0,
             "ticks": ""
            },
            "colorscale": [
             [
              0,
              "#0d0887"
             ],
             [
              0.1111111111111111,
              "#46039f"
             ],
             [
              0.2222222222222222,
              "#7201a8"
             ],
             [
              0.3333333333333333,
              "#9c179e"
             ],
             [
              0.4444444444444444,
              "#bd3786"
             ],
             [
              0.5555555555555556,
              "#d8576b"
             ],
             [
              0.6666666666666666,
              "#ed7953"
             ],
             [
              0.7777777777777778,
              "#fb9f3a"
             ],
             [
              0.8888888888888888,
              "#fdca26"
             ],
             [
              1,
              "#f0f921"
             ]
            ],
            "type": "heatmapgl"
           }
          ],
          "histogram": [
           {
            "marker": {
             "pattern": {
              "fillmode": "overlay",
              "size": 10,
              "solidity": 0.2
             }
            },
            "type": "histogram"
           }
          ],
          "histogram2d": [
           {
            "colorbar": {
             "outlinewidth": 0,
             "ticks": ""
            },
            "colorscale": [
             [
              0,
              "#0d0887"
             ],
             [
              0.1111111111111111,
              "#46039f"
             ],
             [
              0.2222222222222222,
              "#7201a8"
             ],
             [
              0.3333333333333333,
              "#9c179e"
             ],
             [
              0.4444444444444444,
              "#bd3786"
             ],
             [
              0.5555555555555556,
              "#d8576b"
             ],
             [
              0.6666666666666666,
              "#ed7953"
             ],
             [
              0.7777777777777778,
              "#fb9f3a"
             ],
             [
              0.8888888888888888,
              "#fdca26"
             ],
             [
              1,
              "#f0f921"
             ]
            ],
            "type": "histogram2d"
           }
          ],
          "histogram2dcontour": [
           {
            "colorbar": {
             "outlinewidth": 0,
             "ticks": ""
            },
            "colorscale": [
             [
              0,
              "#0d0887"
             ],
             [
              0.1111111111111111,
              "#46039f"
             ],
             [
              0.2222222222222222,
              "#7201a8"
             ],
             [
              0.3333333333333333,
              "#9c179e"
             ],
             [
              0.4444444444444444,
              "#bd3786"
             ],
             [
              0.5555555555555556,
              "#d8576b"
             ],
             [
              0.6666666666666666,
              "#ed7953"
             ],
             [
              0.7777777777777778,
              "#fb9f3a"
             ],
             [
              0.8888888888888888,
              "#fdca26"
             ],
             [
              1,
              "#f0f921"
             ]
            ],
            "type": "histogram2dcontour"
           }
          ],
          "mesh3d": [
           {
            "colorbar": {
             "outlinewidth": 0,
             "ticks": ""
            },
            "type": "mesh3d"
           }
          ],
          "parcoords": [
           {
            "line": {
             "colorbar": {
              "outlinewidth": 0,
              "ticks": ""
             }
            },
            "type": "parcoords"
           }
          ],
          "pie": [
           {
            "automargin": true,
            "type": "pie"
           }
          ],
          "scatter": [
           {
            "marker": {
             "colorbar": {
              "outlinewidth": 0,
              "ticks": ""
             }
            },
            "type": "scatter"
           }
          ],
          "scatter3d": [
           {
            "line": {
             "colorbar": {
              "outlinewidth": 0,
              "ticks": ""
             }
            },
            "marker": {
             "colorbar": {
              "outlinewidth": 0,
              "ticks": ""
             }
            },
            "type": "scatter3d"
           }
          ],
          "scattercarpet": [
           {
            "marker": {
             "colorbar": {
              "outlinewidth": 0,
              "ticks": ""
             }
            },
            "type": "scattercarpet"
           }
          ],
          "scattergeo": [
           {
            "marker": {
             "colorbar": {
              "outlinewidth": 0,
              "ticks": ""
             }
            },
            "type": "scattergeo"
           }
          ],
          "scattergl": [
           {
            "marker": {
             "colorbar": {
              "outlinewidth": 0,
              "ticks": ""
             }
            },
            "type": "scattergl"
           }
          ],
          "scattermapbox": [
           {
            "marker": {
             "colorbar": {
              "outlinewidth": 0,
              "ticks": ""
             }
            },
            "type": "scattermapbox"
           }
          ],
          "scatterpolar": [
           {
            "marker": {
             "colorbar": {
              "outlinewidth": 0,
              "ticks": ""
             }
            },
            "type": "scatterpolar"
           }
          ],
          "scatterpolargl": [
           {
            "marker": {
             "colorbar": {
              "outlinewidth": 0,
              "ticks": ""
             }
            },
            "type": "scatterpolargl"
           }
          ],
          "scatterternary": [
           {
            "marker": {
             "colorbar": {
              "outlinewidth": 0,
              "ticks": ""
             }
            },
            "type": "scatterternary"
           }
          ],
          "surface": [
           {
            "colorbar": {
             "outlinewidth": 0,
             "ticks": ""
            },
            "colorscale": [
             [
              0,
              "#0d0887"
             ],
             [
              0.1111111111111111,
              "#46039f"
             ],
             [
              0.2222222222222222,
              "#7201a8"
             ],
             [
              0.3333333333333333,
              "#9c179e"
             ],
             [
              0.4444444444444444,
              "#bd3786"
             ],
             [
              0.5555555555555556,
              "#d8576b"
             ],
             [
              0.6666666666666666,
              "#ed7953"
             ],
             [
              0.7777777777777778,
              "#fb9f3a"
             ],
             [
              0.8888888888888888,
              "#fdca26"
             ],
             [
              1,
              "#f0f921"
             ]
            ],
            "type": "surface"
           }
          ],
          "table": [
           {
            "cells": {
             "fill": {
              "color": "#EBF0F8"
             },
             "line": {
              "color": "white"
             }
            },
            "header": {
             "fill": {
              "color": "#C8D4E3"
             },
             "line": {
              "color": "white"
             }
            },
            "type": "table"
           }
          ]
         },
         "layout": {
          "annotationdefaults": {
           "arrowcolor": "#2a3f5f",
           "arrowhead": 0,
           "arrowwidth": 1
          },
          "autotypenumbers": "strict",
          "coloraxis": {
           "colorbar": {
            "outlinewidth": 0,
            "ticks": ""
           }
          },
          "colorscale": {
           "diverging": [
            [
             0,
             "#8e0152"
            ],
            [
             0.1,
             "#c51b7d"
            ],
            [
             0.2,
             "#de77ae"
            ],
            [
             0.3,
             "#f1b6da"
            ],
            [
             0.4,
             "#fde0ef"
            ],
            [
             0.5,
             "#f7f7f7"
            ],
            [
             0.6,
             "#e6f5d0"
            ],
            [
             0.7,
             "#b8e186"
            ],
            [
             0.8,
             "#7fbc41"
            ],
            [
             0.9,
             "#4d9221"
            ],
            [
             1,
             "#276419"
            ]
           ],
           "sequential": [
            [
             0,
             "#0d0887"
            ],
            [
             0.1111111111111111,
             "#46039f"
            ],
            [
             0.2222222222222222,
             "#7201a8"
            ],
            [
             0.3333333333333333,
             "#9c179e"
            ],
            [
             0.4444444444444444,
             "#bd3786"
            ],
            [
             0.5555555555555556,
             "#d8576b"
            ],
            [
             0.6666666666666666,
             "#ed7953"
            ],
            [
             0.7777777777777778,
             "#fb9f3a"
            ],
            [
             0.8888888888888888,
             "#fdca26"
            ],
            [
             1,
             "#f0f921"
            ]
           ],
           "sequentialminus": [
            [
             0,
             "#0d0887"
            ],
            [
             0.1111111111111111,
             "#46039f"
            ],
            [
             0.2222222222222222,
             "#7201a8"
            ],
            [
             0.3333333333333333,
             "#9c179e"
            ],
            [
             0.4444444444444444,
             "#bd3786"
            ],
            [
             0.5555555555555556,
             "#d8576b"
            ],
            [
             0.6666666666666666,
             "#ed7953"
            ],
            [
             0.7777777777777778,
             "#fb9f3a"
            ],
            [
             0.8888888888888888,
             "#fdca26"
            ],
            [
             1,
             "#f0f921"
            ]
           ]
          },
          "colorway": [
           "#636efa",
           "#EF553B",
           "#00cc96",
           "#ab63fa",
           "#FFA15A",
           "#19d3f3",
           "#FF6692",
           "#B6E880",
           "#FF97FF",
           "#FECB52"
          ],
          "font": {
           "color": "#2a3f5f"
          },
          "geo": {
           "bgcolor": "white",
           "lakecolor": "white",
           "landcolor": "#E5ECF6",
           "showlakes": true,
           "showland": true,
           "subunitcolor": "white"
          },
          "hoverlabel": {
           "align": "left"
          },
          "hovermode": "closest",
          "mapbox": {
           "style": "light"
          },
          "paper_bgcolor": "white",
          "plot_bgcolor": "#E5ECF6",
          "polar": {
           "angularaxis": {
            "gridcolor": "white",
            "linecolor": "white",
            "ticks": ""
           },
           "bgcolor": "#E5ECF6",
           "radialaxis": {
            "gridcolor": "white",
            "linecolor": "white",
            "ticks": ""
           }
          },
          "scene": {
           "xaxis": {
            "backgroundcolor": "#E5ECF6",
            "gridcolor": "white",
            "gridwidth": 2,
            "linecolor": "white",
            "showbackground": true,
            "ticks": "",
            "zerolinecolor": "white"
           },
           "yaxis": {
            "backgroundcolor": "#E5ECF6",
            "gridcolor": "white",
            "gridwidth": 2,
            "linecolor": "white",
            "showbackground": true,
            "ticks": "",
            "zerolinecolor": "white"
           },
           "zaxis": {
            "backgroundcolor": "#E5ECF6",
            "gridcolor": "white",
            "gridwidth": 2,
            "linecolor": "white",
            "showbackground": true,
            "ticks": "",
            "zerolinecolor": "white"
           }
          },
          "shapedefaults": {
           "line": {
            "color": "#2a3f5f"
           }
          },
          "ternary": {
           "aaxis": {
            "gridcolor": "white",
            "linecolor": "white",
            "ticks": ""
           },
           "baxis": {
            "gridcolor": "white",
            "linecolor": "white",
            "ticks": ""
           },
           "bgcolor": "#E5ECF6",
           "caxis": {
            "gridcolor": "white",
            "linecolor": "white",
            "ticks": ""
           }
          },
          "title": {
           "x": 0.05
          },
          "xaxis": {
           "automargin": true,
           "gridcolor": "white",
           "linecolor": "white",
           "ticks": "",
           "title": {
            "standoff": 15
           },
           "zerolinecolor": "white",
           "zerolinewidth": 2
          },
          "yaxis": {
           "automargin": true,
           "gridcolor": "white",
           "linecolor": "white",
           "ticks": "",
           "title": {
            "standoff": 15
           },
           "zerolinecolor": "white",
           "zerolinewidth": 2
          }
         }
        },
        "title": {
         "text": "Entropy Over 1H training"
        },
        "width": 1600,
        "xaxis": {
         "anchor": "y",
         "domain": [
          0,
          1
         ],
         "title": {
          "text": "Iteration"
         }
        },
        "yaxis": {
         "anchor": "x",
         "domain": [
          0,
          1
         ],
         "title": {
          "text": "Entropy"
         }
        }
       }
      }
     },
     "metadata": {},
     "output_type": "display_data"
    }
   ],
   "source": [
    "fig = px.line(entropy_df, title='Entropy Over 1H training')\n",
    "fig.update_xaxes(title_text='Iteration')\n",
    "fig.update_yaxes(title_text='Entropy')\n",
    "\n",
    "fig.update_layout(\n",
    "    autosize=False,\n",
    "    width=1600,\n",
    "    height=800,)\n",
    "\n",
    "fig.show()"
   ]
  },
  {
   "cell_type": "code",
   "execution_count": 26,
   "metadata": {},
   "outputs": [],
   "source": [
    "l = glob('../benchmarks/premes_v1/*')"
   ]
  },
  {
   "cell_type": "code",
   "execution_count": 27,
   "metadata": {},
   "outputs": [
    {
     "data": {
      "text/plain": [
       "['../benchmarks/premes_v1/sin_restricciones',\n",
       " '../benchmarks/premes_v1/normalizado_sin_restricciones_con_repeticion',\n",
       " '../benchmarks/premes_v1/normalizado_con_restricciones_sin_repetitividad',\n",
       " '../benchmarks/premes_v1/sin_restricciones_con_repetitividad',\n",
       " '../benchmarks/premes_v1/normalizado_con_restricciones_con_repetitividad',\n",
       " '../benchmarks/premes_v1/con_restricciones',\n",
       " '../benchmarks/premes_v1/restricciones_con_repititividad',\n",
       " '../benchmarks/premes_v1/normalizado_sin_restricciones_sin_repeticion']"
      ]
     },
     "execution_count": 27,
     "metadata": {},
     "output_type": "execute_result"
    }
   ],
   "source": [
    "l"
   ]
  },
  {
   "cell_type": "code",
   "execution_count": 28,
   "metadata": {},
   "outputs": [],
   "source": [
    "with open('../benchmarks/premes_v1/normalizado_con_restricciones_con_repetitividad/current_actions_log.txt', 'r') as f:\n",
    "    actions_restricciones_normalizado = f.read().splitlines()\n",
    "\n",
    "with open('../benchmarks/premes_v1/normalizado_sin_restricciones_con_repeticion/current_actions_log.txt', 'r') as f:\n",
    "    actions_normalizado = f.read().splitlines()\n",
    "\n",
    "with open('../benchmarks/premes_v1/restricciones_con_repititividad/current_actions_log.txt', 'r') as f:\n",
    "    actions= f.read().splitlines()\n",
    "    "
   ]
  },
  {
   "cell_type": "code",
   "execution_count": 59,
   "metadata": {},
   "outputs": [],
   "source": [
    "with open('../benchmarks/premes_v1/normalizado_con_restricciones_sin_repetitividad/current_actions_log.txt', 'r') as f:\n",
    "    actions_restricciones_normalizado_no_rep = f.read().splitlines()"
   ]
  },
  {
   "cell_type": "code",
   "execution_count": 33,
   "metadata": {},
   "outputs": [],
   "source": [
    "def get_premes_repetidas(l):\n",
    "    d = {}\n",
    "    for action in actions:\n",
    "        splited_action = action.replace('[', '').replace(']', '').replace(' ','').split(',')\n",
    "        for splited in splited_action:\n",
    "            if splited != '':\n",
    "                number = int(splited)\n",
    "                if number not in d:\n",
    "                    d[number] = 1\n",
    "                else:\n",
    "                    d[number] += 1\n",
    "\n",
    "    return d, len(l)"
   ]
  },
  {
   "cell_type": "code",
   "execution_count": 41,
   "metadata": {},
   "outputs": [],
   "source": [
    "rest_norm, length_rest_norm = get_premes_repetidas(actions_restricciones_normalizado)\n",
    "norm, length_norm = get_premes_repetidas(actions_normalizado)\n",
    "repet, lenght_repet = get_premes_repetidas(actions)"
   ]
  },
  {
   "cell_type": "code",
   "execution_count": 60,
   "metadata": {},
   "outputs": [],
   "source": [
    "no_rep_rest_norm, length_no_rep_rest_norm = get_premes_repetidas(actions_restricciones_normalizado_no_rep)"
   ]
  },
  {
   "cell_type": "code",
   "execution_count": 61,
   "metadata": {},
   "outputs": [],
   "source": [
    "no_rep_rest_norm = dict(sorted(no_rep_rest_norm.items()))"
   ]
  },
  {
   "cell_type": "code",
   "execution_count": 55,
   "metadata": {},
   "outputs": [],
   "source": [
    "rest_norm = dict(sorted(rest_norm.items()))\n",
    "norm = dict(sorted(norm.items()))\n",
    "repet = dict(sorted(repet.items()))"
   ]
  },
  {
   "cell_type": "code",
   "execution_count": 46,
   "metadata": {},
   "outputs": [],
   "source": [
    "def mean_used_preme(d, length):\n",
    "    for key,value in d.items():\n",
    "        print(key, round(value/length,2))"
   ]
  },
  {
   "cell_type": "code",
   "execution_count": 56,
   "metadata": {},
   "outputs": [
    {
     "name": "stdout",
     "output_type": "stream",
     "text": [
      "0 1.0\n",
      "1 0.5\n",
      "2 0.16\n",
      "3 0.17\n",
      "4 0.17\n",
      "5 0.24\n",
      "6 0.24\n",
      "7 0.67\n",
      "8 0.1\n",
      "9 0.39\n",
      "10 16.95\n",
      "11 0.1\n",
      "12 19.98\n",
      "13 0.1\n"
     ]
    }
   ],
   "source": [
    "mean_used_preme(rest_norm, length_rest_norm)"
   ]
  },
  {
   "cell_type": "code",
   "execution_count": 57,
   "metadata": {},
   "outputs": [
    {
     "name": "stdout",
     "output_type": "stream",
     "text": [
      "0 1.76\n",
      "1 0.88\n",
      "2 0.28\n",
      "3 0.3\n",
      "4 0.31\n",
      "5 0.43\n",
      "6 0.42\n",
      "7 1.18\n",
      "8 0.18\n",
      "9 0.7\n",
      "10 29.99\n",
      "11 0.18\n",
      "12 35.36\n",
      "13 0.18\n"
     ]
    }
   ],
   "source": [
    "mean_used_preme(norm, length_norm)"
   ]
  },
  {
   "cell_type": "code",
   "execution_count": 58,
   "metadata": {},
   "outputs": [
    {
     "name": "stdout",
     "output_type": "stream",
     "text": [
      "0 0.77\n",
      "1 0.39\n",
      "2 0.12\n",
      "3 0.13\n",
      "4 0.14\n",
      "5 0.19\n",
      "6 0.19\n",
      "7 0.52\n",
      "8 0.08\n",
      "9 0.31\n",
      "10 13.18\n",
      "11 0.08\n",
      "12 15.54\n",
      "13 0.08\n"
     ]
    }
   ],
   "source": [
    "mean_used_preme(repet, lenght_repet)"
   ]
  },
  {
   "cell_type": "code",
   "execution_count": 62,
   "metadata": {},
   "outputs": [
    {
     "name": "stdout",
     "output_type": "stream",
     "text": [
      "0 0.18\n",
      "1 0.09\n",
      "2 0.03\n",
      "3 0.03\n",
      "4 0.03\n",
      "5 0.05\n",
      "6 0.04\n",
      "7 0.12\n",
      "8 0.02\n",
      "9 0.07\n",
      "10 3.13\n",
      "11 0.02\n",
      "12 3.69\n",
      "13 0.02\n"
     ]
    }
   ],
   "source": [
    "mean_used_preme(no_rep_rest_norm, length_no_rep_rest_norm)"
   ]
  },
  {
   "cell_type": "code",
   "execution_count": null,
   "metadata": {},
   "outputs": [],
   "source": []
  }
 ],
 "metadata": {
  "kernelspec": {
   "display_name": "Python 3.8.13 ('main_dl')",
   "language": "python",
   "name": "python3"
  },
  "language_info": {
   "codemirror_mode": {
    "name": "ipython",
    "version": 3
   },
   "file_extension": ".py",
   "mimetype": "text/x-python",
   "name": "python",
   "nbconvert_exporter": "python",
   "pygments_lexer": "ipython3",
   "version": "3.8.13"
  },
  "orig_nbformat": 4,
  "vscode": {
   "interpreter": {
    "hash": "aaef870aa4f548f1d515ae9a7e59bc689e8e375f35abb1351f6beb5d1a90871c"
   }
  }
 },
 "nbformat": 4,
 "nbformat_minor": 2
}

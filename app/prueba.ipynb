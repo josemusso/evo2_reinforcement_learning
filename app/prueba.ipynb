{
 "cells": [
  {
   "cell_type": "code",
   "execution_count": 34,
   "metadata": {},
   "outputs": [],
   "source": [
    "import pandas as pd\n",
    "import numpy as np\n",
    "import json"
   ]
  },
  {
   "cell_type": "code",
   "execution_count": 2,
   "metadata": {},
   "outputs": [],
   "source": [
    "colnames = ['col0','col1','col2','col3','col4','col5','col6','col7','col8','col9','col10','col11','col12','col13','col14','col15','col16','col17','col18','col19']\n",
    "df = pd.read_csv('environments/evolution/evolution/envs/var2.0.csv', names=colnames, header=None)"
   ]
  },
  {
   "cell_type": "code",
   "execution_count": 3,
   "metadata": {},
   "outputs": [],
   "source": [
    "def get_mapping(df):\n",
    "    d = {}\n",
    "    for i in range(0,len(df)-3,3):\n",
    "        temp = {}\n",
    "        cont = 1\n",
    "        for j in range(len(df.iloc[(i)])):\n",
    "            if j >= 3:\n",
    "                if str(df.iloc[(i)][j]) != 'nan':\n",
    "                    temp[ str(df.iloc[(i)][j]) ] = cont\n",
    "                    cont += 1\n",
    "        d[str(df.iloc[(i)+1][1])] = temp\n",
    "    return d"
   ]
  },
  {
   "cell_type": "code",
   "execution_count": 4,
   "metadata": {},
   "outputs": [],
   "source": [
    "def prepare_matrix(d1,d2):\n",
    "    d = {}\n",
    "    cont = 0\n",
    "    for i in d1:\n",
    "        if cont % 2 == 0:\n",
    "            label = 'x'\n",
    "            if i in d2[\"data\"]:\n",
    "                var = d2[\"data\"][i]\n",
    "                value = d1[i][var]\n",
    "                d[cont//2] = {}\n",
    "                d[cont//2][label] = value\n",
    "            else:\n",
    "                d[cont//2] = {}\n",
    "                d[cont//2][label] = 0\n",
    "        else:\n",
    "            label = 'y'\n",
    "            if i in d2[\"data\"]:\n",
    "                var = d2[\"data\"][i]\n",
    "                value = d1[i][var]\n",
    "                d[cont//2][label] = value\n",
    "            else:\n",
    "                d[cont//2][label] = 0\n",
    " \n",
    "        cont += 1\n",
    "    \n",
    "    d[36]['y'] = 0\n",
    "    return d\n",
    "        "
   ]
  },
  {
   "cell_type": "code",
   "execution_count": 5,
   "metadata": {},
   "outputs": [],
   "source": [
    "def create_matrix(d):\n",
    "    m = np.zeros((37, 40, 20))\n",
    "    for i in d:\n",
    "        m[i][d[i]['y']][d[i]['x']] = 1\n",
    "    return m"
   ]
  },
  {
   "cell_type": "code",
   "execution_count": 4,
   "metadata": {},
   "outputs": [],
   "source": [
    "def create_dict(d1,d2):\n",
    "    d={}\n",
    "    for i in d1:\n",
    "        if i in d2[\"data\"]:\n",
    "            var = d2[\"data\"][i]\n",
    "            value = d1[i][var]\n",
    "            d[i] = value\n",
    "        else:\n",
    "            d[i] = 0\n",
    "\n",
    "    d['pm_static'] = 0\n",
    "\n",
    "    return d"
   ]
  },
  {
   "cell_type": "code",
   "execution_count": 5,
   "metadata": {},
   "outputs": [],
   "source": [
    "dic_front = {\n",
    "    \"data\":{\n",
    "        \"pm_scope\" : \"LATAM\",\n",
    "        \"pm_actors\" : \"Consumidor final\",\n",
    "        \"pm_importance\" : \"Neutral\",\n",
    "        \"pm_affected\" : \"Estable\",\n",
    "        'pm_urgency' : \"Este mes\",\n",
    "        \"pm_frequency\" : \"Semanal\",\n",
    "        \"pm_industry\" : \"Minería\",\n",
    "        }\n",
    "    }"
   ]
  },
  {
   "cell_type": "code",
   "execution_count": 6,
   "metadata": {},
   "outputs": [],
   "source": [
    "dicc = get_mapping(df)\n",
    "aa = create_dict(dicc,dic_front)\n",
    "#dic_final = prepare_matrix(dicc,dic_front)\n",
    "#obs = create_matrix(dic_final)"
   ]
  },
  {
   "cell_type": "code",
   "execution_count": 7,
   "metadata": {},
   "outputs": [
    {
     "data": {
      "text/plain": [
       "{'pm_static': 0,\n",
       " 'pm_scope': 3,\n",
       " 'pm_business_models': 0,\n",
       " 'pm_orchestration_level': 0,\n",
       " 'pm_dedication_time': 0,\n",
       " 'pm_organic_problem': 0,\n",
       " 'pm_company_constitution': 0,\n",
       " 'pm_affected ': 0,\n",
       " 'pm_cac_ltv': 0,\n",
       " 'pm_solution_progress': 0,\n",
       " 'pm_sales_channels': 0,\n",
       " 'pm_importance': 3,\n",
       " 'pm_motivation': 0,\n",
       " 'pm_n_countries': 0,\n",
       " 'pm_founders_english': 0,\n",
       " 'pm_roi': 0,\n",
       " 'pm_user_traction': 0,\n",
       " 'pm_total_financing': 0,\n",
       " 'pm_valuation': 0,\n",
       " 'pm_scalable_model': 0,\n",
       " 'pm_degree_innovation': 0,\n",
       " 'pm_actors': 3,\n",
       " 'pm_agility': 0,\n",
       " 'pm_exposition': 0,\n",
       " 'pm_formal_strategy': 0,\n",
       " 'pm_urgency': 4,\n",
       " 'pm_prudence': 0,\n",
       " 'pm_competitors': 0,\n",
       " 'pm_burning_rate': 0,\n",
       " 'pm_frequency': 2,\n",
       " 'pm_techno_level': 0,\n",
       " 'pm_price ': 0,\n",
       " 'pm_industry_maturation': 0,\n",
       " 'pm_protected_problem': 0,\n",
       " 'pm_defined_business_model': 0,\n",
       " 'pm_accessibility': 0,\n",
       " 'pm_statement_incomes': 0,\n",
       " 'pm_tam': 0,\n",
       " 'pm_risk': 0,\n",
       " 'pm_benefited_people': 0,\n",
       " 'pm_ia_knowledge': 0,\n",
       " 'pm_mentors': 0,\n",
       " 'pm_company_formalization': 0,\n",
       " 'pm_monthly_sales': 0,\n",
       " 'pm_user_maintenance': 0,\n",
       " 'pm_private_funds': 0,\n",
       " 'pm_public_funds': 0,\n",
       " 'pm_lean_ability': 0,\n",
       " 'pm_open_feedback': 0,\n",
       " 'pm_women_total': 0,\n",
       " 'pm_men_total': 0,\n",
       " 'pm_founders_startup': 0,\n",
       " 'pm_founders_leadership': 0,\n",
       " 'pm_big_thinking': 0,\n",
       " 'pm_solution_transfer': 0,\n",
       " 'pm_contribution_margin': 0,\n",
       " 'pm_technology_core': 0,\n",
       " 'pm_professional_profile': 0,\n",
       " 'pm_type_financing': 0,\n",
       " 'pm_acquisition_channels': 0,\n",
       " 'pm_escalation_strategy': 0,\n",
       " 'pm_breakeven': 0,\n",
       " 'pm_motor_growth': 0,\n",
       " 'pm_nps': 0,\n",
       " 'pm_founders_total': 0,\n",
       " 'pm_sam': 0,\n",
       " 'pm_founders_years': 0,\n",
       " 'pm_declared_sales': 0,\n",
       " 'pm_potential_solution': 0,\n",
       " 'pm_other_funds': 0,\n",
       " 'pm_problem_competitors': 0,\n",
       " 'pm_professional_degree': 0,\n",
       " 'pm_appropriability': 0,\n",
       " 'pm_industry': 9}"
      ]
     },
     "execution_count": 7,
     "metadata": {},
     "output_type": "execute_result"
    }
   ],
   "source": [
    "aa"
   ]
  },
  {
   "cell_type": "code",
   "execution_count": 55,
   "metadata": {},
   "outputs": [],
   "source": [
    "def get_best_premes(probs, preme_json):\n",
    "    prob_copy = probs.copy()\n",
    "    best_premes = {}\n",
    "    for i in range(1,7):\n",
    "        label = 'pred_preme'+str(i)\n",
    "        best_premes[label] = {}\n",
    "        max = 0\n",
    "        for j in range(len(probs)):\n",
    "            if prob_copy[j] > max:\n",
    "                max = prob_copy[j]\n",
    "                index = j\n",
    "        best_premes[label]['confidence'] = round(max*100,3)\n",
    "        for k in preme_json:\n",
    "            if index == preme_json[k]['id']:\n",
    "                preme_name = k\n",
    "        best_premes[label]['preme'] = preme_name\n",
    "        prob_copy[index] = 0\n",
    "\n",
    "    return best_premes"
   ]
  },
  {
   "cell_type": "code",
   "execution_count": 74,
   "metadata": {},
   "outputs": [],
   "source": [
    "def output_pipeline():\n",
    "    with open('probs.txt','r') as f:\n",
    "        probs = f.read()\n",
    "        probs = probs.replace('[','')\n",
    "        probs = probs.replace(']','')\n",
    "        probs = probs.split(' ')\n",
    "        probs = [float(i.replace('\\n','')) for i in probs]\n",
    "\n",
    "    with open('environments/evolution/evolution/envs/premes_lower.json','r') as f:\n",
    "        data = json.load(f)\n",
    "\n",
    "    best_premes = get_best_premes(probs,data)\n",
    "    print(json.dumps(best_premes,indent=2))\n"
   ]
  },
  {
   "cell_type": "code",
   "execution_count": 75,
   "metadata": {},
   "outputs": [
    {
     "name": "stdout",
     "output_type": "stream",
     "text": [
      "{\n",
      "  \"pred_preme1\": {\n",
      "    \"confidence\": 99.907,\n",
      "    \"preme\": \"pr_initial_assestment12\"\n",
      "  },\n",
      "  \"pred_preme2\": {\n",
      "    \"confidence\": 0.079,\n",
      "    \"preme\": \"pr_founder_mkt_fit\"\n",
      "  },\n",
      "  \"pred_preme3\": {\n",
      "    \"confidence\": 0.004,\n",
      "    \"preme\": \"pr_know_entrepreneur_process\"\n",
      "  },\n",
      "  \"pred_preme4\": {\n",
      "    \"confidence\": 0.003,\n",
      "    \"preme\": \"pr_self_knowledge\"\n",
      "  },\n",
      "  \"pred_preme5\": {\n",
      "    \"confidence\": 0.001,\n",
      "    \"preme\": \"pr_generate_alternatives\"\n",
      "  },\n",
      "  \"pred_preme6\": {\n",
      "    \"confidence\": 0.001,\n",
      "    \"preme\": \"pr_technological_trends\"\n",
      "  }\n",
      "}\n"
     ]
    }
   ],
   "source": [
    "output_pipeline()"
   ]
  },
  {
   "cell_type": "code",
   "execution_count": 47,
   "metadata": {},
   "outputs": [],
   "source": [
    "suma = 0\n",
    "for i in probs:\n",
    "    suma += i"
   ]
  },
  {
   "cell_type": "code",
   "execution_count": 48,
   "metadata": {},
   "outputs": [
    {
     "data": {
      "text/plain": [
       "1.0000001878353484"
      ]
     },
     "execution_count": 48,
     "metadata": {},
     "output_type": "execute_result"
    }
   ],
   "source": [
    "suma"
   ]
  },
  {
   "cell_type": "code",
   "execution_count": null,
   "metadata": {},
   "outputs": [],
   "source": [
    "output_json = {\n",
    "                \"pred_preme1\": {\n",
    "                \"confidence\": 85,\n",
    "                \"preme\": \"pr_identify_problems\"\n",
    "                },\n",
    "                \"pred_preme2\": {\n",
    "                \"confidence\": 78,\n",
    "                \"preme\": \"pr_rate_opportunity\"\n",
    "                },\n",
    "                \"pred_preme3\": {\n",
    "                \"confidence\": 56,\n",
    "                \"preme\": \"pr_incorporate_mindset\"\n",
    "                },\n",
    "                \"pred_preme4\": {\n",
    "                \"confidence\": 19,\n",
    "                \"preme\": \"pr_technological_trends\"\n",
    "                },\n",
    "                \"pred_preme5\": {\n",
    "                \"confidence\": 5,\n",
    "                \"preme\": \"pr_define_preliminar_business_model\"\n",
    "                },\n",
    "                \"pred_preme6\": {\n",
    "                \"confidence\": 4,\n",
    "                \"preme\": \"pr_analyze_industry_forces\"\n",
    "                }\n",
    "            }"
   ]
  }
 ],
 "metadata": {
  "kernelspec": {
   "display_name": "Python 3.7.13 ('rl')",
   "language": "python",
   "name": "python3"
  },
  "language_info": {
   "codemirror_mode": {
    "name": "ipython",
    "version": 3
   },
   "file_extension": ".py",
   "mimetype": "text/x-python",
   "name": "python",
   "nbconvert_exporter": "python",
   "pygments_lexer": "ipython3",
   "version": "3.7.13"
  },
  "orig_nbformat": 4,
  "vscode": {
   "interpreter": {
    "hash": "a5a136c989df59e68180a3ab3c2afb28c23068acda2f5c7a467fb533e7f6cba4"
   }
  }
 },
 "nbformat": 4,
 "nbformat_minor": 2
}
